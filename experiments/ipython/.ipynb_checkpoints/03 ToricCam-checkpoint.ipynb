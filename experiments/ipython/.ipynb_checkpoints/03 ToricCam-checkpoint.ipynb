{
 "cells": [
  {
   "cell_type": "code",
   "execution_count": 4,
   "metadata": {
    "collapsed": false
   },
   "outputs": [],
   "source": [
    "def add_relative_to_current_source_file_path_to_sys_path(relpath):\n",
    "    import os, sys, inspect\n",
    "    path = os.path.realpath(os.path.abspath(os.path.join(os.path.split(inspect.getfile(inspect.currentframe()))[0],relpath)))\n",
    "    if path not in sys.path:\n",
    "        sys.path.insert(0,path)\n",
    "\n",
    "add_relative_to_current_source_file_path_to_sys_path(\"../../shims/toric\")   \n",
    "\n",
    "import toric\n",
    "import toric.samples"
   ]
  },
  {
   "cell_type": "code",
   "execution_count": 10,
   "metadata": {
    "collapsed": false
   },
   "outputs": [],
   "source": [
    "%matplotlib inline\n",
    "\n",
    "import matplotlib\n",
    "import matplotlib.pylab as pylab\n",
    "import matplotlib.pyplot as plt\n",
    "import matplotlib.cm as cm\n",
    "import matplotlib.patches as mpatches\n",
    "import numpy as np\n"
   ]
  },
  {
   "cell_type": "code",
   "execution_count": 60,
   "metadata": {
    "collapsed": true
   },
   "outputs": [],
   "source": [
    "def vector3_to_str(v):\n",
    "    return \"(%.2f, %.2f, %.2f)\" % (v.x(), v.y(), v.z())\n",
    "    \n",
    "def toric_to_str(t):\n",
    "    return \"(a = %.2f°, t = %2.f°, p = %.2f°)\" % (t.getAlpha().valueDegrees(), t.getTheta().valueDegrees(), t.getPhi().valueDegrees())\n",
    "\n",
    "def toric_to_cam_np(t, PA, PB):\n",
    "    c = toric.Toric3_ToWorldPosition(t, PA, PB)\n",
    "    return np.array([c.x(),c.y(),c.z()])"
   ]
  },
  {
   "cell_type": "code",
   "execution_count": 102,
   "metadata": {
    "collapsed": false
   },
   "outputs": [
    {
     "name": "stdout",
     "output_type": "stream",
     "text": [
      "(a = 45.00°, t = 90°, p = 0.00°)\n",
      "(1.00, -1.00, 0.00)\n",
      "[ 1. -1.  0.]\n"
     ]
    }
   ],
   "source": [
    "PA = toric.Vector3(0,0,0)\n",
    "PB = toric.Vector3(1,0,0)\n",
    "\n",
    "t = toric.Toric3(toric.RadianPi(np.radians(45)),toric.Radian2Pi(np.radians(90)),toric.RadianPi(np.radians(0)))\n",
    "print toric_to_str(t)\n",
    "\n",
    "c = toric.Toric3_ToWorldPosition(t, PA, PB)\n",
    "print vector3_to_str(c)\n",
    "\n",
    "print toric_to_cam_np(t, PA, PB)"
   ]
  },
  {
   "cell_type": "code",
   "execution_count": 138,
   "metadata": {
    "collapsed": false
   },
   "outputs": [
    {
     "data": {
      "image/png": "[encoded data removed]",
      "text/plain": [
       "<matplotlib.figure.Figure at 0x11440e350>"
      ]
     },
     "metadata": {},
     "output_type": "display_data"
    }
   ],
   "source": [
    "\n",
    "\n",
    "theta = np.arange(0,270)\n",
    "alpha = [45]*len(theta)\n",
    "phi   = [0] *len(alpha)\n",
    "\n",
    "P = np.c_[ alpha, theta, phi ]\n",
    "\n",
    "def myfunc(a):\n",
    "    t = toric.Toric3(toric.RadianPi(np.radians(a[0])),toric.Radian2Pi(np.radians(a[1])),toric.RadianPi(np.radians(a[2])))\n",
    "    return toric_to_cam_np(t, PA, PB)\n",
    "    \n",
    "C = np.apply_along_axis(myfunc, axis=1, arr=P)\n",
    "\n",
    "\n",
    "plt.scatter(C[:,0],C[:,1],cmap='jet',linewidths=0)\n",
    "plt.scatter([PA.x(), PB.x()],[PA.y(), PB.y()],c=\"red\",linewidths=0)\n",
    "plt.axes().set_aspect('equal')\n"
   ]
  },
  {
   "cell_type": "code",
   "execution_count": null,
   "metadata": {
    "collapsed": true
   },
   "outputs": [],
   "source": []
  }
 ],
 "metadata": {
  "kernelspec": {
   "display_name": "Python 2",
   "language": "python",
   "name": "python2"
  },
  "language_info": {
   "codemirror_mode": {
    "name": "ipython",
    "version": 2
   },
   "file_extension": ".py",
   "mimetype": "text/x-python",
   "name": "python",
   "nbconvert_exporter": "python",
   "pygments_lexer": "ipython2",
   "version": "2.7.6"
  }
 },
 "nbformat": 4,
 "nbformat_minor": 0
}
