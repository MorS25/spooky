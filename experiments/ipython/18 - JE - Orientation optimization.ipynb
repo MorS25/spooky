{
 "cells": [
  {
   "cell_type": "code",
   "execution_count": 1,
   "metadata": {
    "collapsed": true
   },
   "outputs": [],
   "source": [
    "%load_ext autoreload\n",
    "%autoreload 2\n",
    "\n",
    "%matplotlib inline\n",
    "import matplotlib\n",
    "import matplotlib.pylab as pylab\n",
    "import matplotlib.pyplot as plt\n",
    "import matplotlib.cm as cm\n",
    "import matplotlib.patches as mpatches\n",
    "from matplotlib import gridspec\n",
    "\n",
    "import numpy as np\n",
    "import scipy.sparse as sp\n",
    "import numpy.linalg as la"
   ]
  },
  {
   "cell_type": "code",
   "execution_count": 16,
   "metadata": {
    "collapsed": false
   },
   "outputs": [],
   "source": [
    "def add_relative_to_current_source_file_path_to_sys_path(relpath):\n",
    "    import os, sys, inspect\n",
    "    path = os.path.realpath(os.path.abspath(os.path.join(os.path.split(inspect.getfile(inspect.currentframe()))[0],relpath)))\n",
    "    if path not in sys.path:\n",
    "        sys.path.insert(0,path)\n",
    "\n",
    "add_relative_to_current_source_file_path_to_sys_path(\"../../shims/toric\")   \n",
    "\n",
    "import toric\n",
    "import toric.samples\n",
    "import toric.shims\n",
    "\n",
    "#\n",
    "# Helper functions for the toric libary\n",
    "#\n",
    "\n",
    "def vector3_to_str(v):\n",
    "    return \"(%.2f, %.2f, %.2f)\" % (v.x(), v.y(), v.z())\n",
    "\n",
    "def quaternion_to_str(q):\n",
    "    return \"(w,x,y,z): (%.2f, %.2f, %.2f, %.2f)\" % (q.w(), q.x(), q.y(), q.z())\n",
    "\n",
    "def vector3_to_np3(v):\n",
    "    return np.array([v.x(),v.y(),v.z()])\n",
    "\n",
    "def np3_to_vector3(v):\n",
    "    return toric.Vector3(v[0],v[1],v[2])\n",
    "\n",
    "def slerp(p0, p1, t):\n",
    "    omega = np.arccos(np.dot(p0/np.linalg.norm(p0), p1/np.linalg.norm(p1)))\n",
    "    so = np.sin(omega)\n",
    "    return np.sin((1.0-t)*omega) / so * p0 + np.sin(t*omega)/so * p1\n",
    "    \n",
    "def fovX_from_fovY(fovY, aspect):\n",
    "    tanY = np.tan(fovY.valueRadians() / 2.0)\n",
    "    tanX = tanY * aspect;\n",
    "    fovX = np.arctan(tanX)\n",
    "    return toric.RadianPi(fovX)\n",
    "\n",
    "def drawSetup(fudgeX=10, fudgeY_pos=6,fudgeY_neg=8):\n",
    "    pylab.rcParams['figure.figsize'] = 8, 8\n",
    "\n",
    "    plt.axes().set_aspect('equal')\n",
    "    fig = plt.gcf()\n",
    "    \n",
    "    # Set up plot size\n",
    "    plt.axes().set_xlim((np.min([PA.x(), PB.x()])-fudgeX,np.max([PA.x(), PB.x()])+fudgeX))\n",
    "    plt.axes().set_ylim((np.min([PA.y(), PB.y()])-fudgeY_neg,np.max([PA.y(), PB.y()])+fudgeY_pos))\n",
    "\n",
    "    # Draw People Positions\n",
    "    plt.scatter([PA.x(), PB.x()],[PA.y(), PB.y()],c=\"red\",linewidths=0)\n",
    "    line_AB = plt.Line2D([PA.x(), PB.x()],[PA.y(), PB.y()], c=\"black\",alpha=0.3)\n",
    "    fig.gca().add_artist(line_AB)\n",
    "\n",
    "    # Draw Circles    \n",
    "    circle_PA=plt.Circle((PA.x(),PA.y()),min_dist,color='g',alpha=0.5)\n",
    "    circle_PB=plt.Circle((PB.x(),PB.y()),min_dist,color='g',alpha=0.5)\n",
    "    \n",
    "    fig.gca().add_artist(circle_PA)\n",
    "    fig.gca().add_artist(circle_PB)\n",
    "\n",
    "    plt.annotate(s=\"A\", xy=(PA.x(),PA.y()),xytext=(3,4),textcoords=\"offset points\")\n",
    "    plt.annotate(s=\"B\", xy=(PB.x(),PB.y()),xytext=(3,4),textcoords=\"offset points\")\n",
    "    \n",
    "    # Draw Camera positions\n",
    "    plt.scatter([C.x()],[C.y()],c=\"blue\",linewidths=0)\n",
    "    plt.annotate(s=\"C\", xy=(C.x(), C.y()),xytext=(3,4),textcoords=\"offset points\")"
   ]
  },
  {
   "cell_type": "code",
   "execution_count": 63,
   "metadata": {
    "collapsed": false
   },
   "outputs": [],
   "source": [
    "# Conversion from world space to camera screen space (from Unity: z,x,-y)\n",
    "\n",
    "# camera specs (position, forward, up, fov)\n",
    "C = toric.Vector3(-92.9,-39.6,-2.1)\n",
    "forward = toric.Vector3(-1.0,0.0,0.0)\n",
    "up = toric.Vector3(0.0,0.0,-1.0)\n",
    "aspect = 16.0/9.0\n",
    "fovY = toric.RadianPi(0.8726646)\n",
    "fovX = fovX_from_fovY(fovY, aspect)\n",
    "\n",
    "# scene specs\n",
    "PA = toric.Vector3(-98.2,-40.6,-1.6)     # person A position\n",
    "PB = toric.Vector3(-98.2,-38.6,-1.6)     # person B position"
   ]
  },
  {
   "cell_type": "code",
   "execution_count": 66,
   "metadata": {
    "collapsed": false
   },
   "outputs": [
    {
     "name": "stdout",
     "output_type": "stream",
     "text": [
      "view\n",
      "[[  0.    0.    1.  -39.6]\n",
      " [ -1.    0.    0.   -2.1]\n",
      " [  0.   -1.    0.   92.9]\n",
      " [  0.    0.    0.    1. ]]\n"
     ]
    }
   ],
   "source": [
    "# http://www.opengl-tutorial.org/beginners-tutorials/tutorial-3-matrices/\n",
    "# http://stackoverflow.com/questions/21830340/understanding-glmlookat\n",
    "def lookAt(camPos, camLookAt, camUp):\n",
    "    z = camPos - camLookAt\n",
    "    z = z / la.norm(z) # forward\n",
    "    y = camUp # up\n",
    "    x = np.cross(y, z) # right\n",
    "    y = np.cross(z, x)\n",
    "    x = x / la.norm(x)\n",
    "    y = y / la.norm(y)\n",
    "    v_matrix = np.matrix([[x[0], y[0], z[0], -np.dot(x, camPos)], \n",
    "                          [x[1], y[1], z[1], -np.dot(y, camPos)],\n",
    "                          [x[2], y[2], z[2], -np.dot(z, camPos)],\n",
    "                          [0.0, 0.0, 0.0, 1.0]])\n",
    "    return v_matrix\n",
    "    \n",
    "def view_matrix(camPos, camLookAt, camUp):\n",
    "    return lookAt(camPos, camLookAt, camUp)\n",
    "\n",
    "look = vector3_to_np3(C) + vector3_to_np3(forward)\n",
    "view = view_matrix(vector3_to_np3(C), look, vector3_to_np3(up))\n",
    "print \"view\"\n",
    "print view"
   ]
  },
  {
   "cell_type": "code",
   "execution_count": 67,
   "metadata": {
    "collapsed": false
   },
   "outputs": [
    {
     "name": "stdout",
     "output_type": "stream",
     "text": [
      "proj\n",
      "[[ 1.20628518  0.          0.          0.        ]\n",
      " [ 0.          2.14450699  0.          0.        ]\n",
      " [ 0.          0.         -1.002002   -0.2002002 ]\n",
      " [ 0.          0.         -1.          0.        ]]\n",
      "model\n",
      "[[ 1.  0.  0.  0.]\n",
      " [ 0.  1.  0.  0.]\n",
      " [ 0.  0.  1.  0.]\n",
      " [ 0.  0.  0.  1.]]\n",
      "mvp\n",
      "[[  0.           0.           1.20628518 -47.76889328]\n",
      " [ -2.14450699   0.           0.          -4.50346469]\n",
      " [  0.           1.002002     0.         -93.28618619]\n",
      " [  0.           1.           0.         -92.9       ]]\n"
     ]
    }
   ],
   "source": [
    "# https://www.opengl.org/sdk/docs/man2/xhtml/gluPerspective.xml\n",
    "# https://unspecified.wordpress.com/2012/06/21/calculating-the-gluperspective-matrix-and-other-opengl-matrix-maths/\n",
    "def perspective_matrix(fovY, aspect, near, far):\n",
    "    f = 1.0 / np.tan (fovY / 2.0)\n",
    "    p_matrix = np.matrix([[f/aspect, 0.0, 0.0, 0.0],\n",
    "                          [0.0, f, 0.0, 0.0],\n",
    "                          [0.0, 0.0, (far+near)/(near-far), (2.0*far*near)/(near-far)], \n",
    "                          [0.0, 0.0, -1.0, 0.0]])\n",
    "    return p_matrix\n",
    "\n",
    "proj = perspective_matrix(fovY.valueRadians(), aspect, 0.1, 100.0)\n",
    "print \"proj\"\n",
    "print proj\n",
    "\n",
    "model = np.identity(4)\n",
    "print \"model\"\n",
    "print model\n",
    "\n",
    "mvp = proj * view * model\n",
    "print \"mvp\"\n",
    "print mvp"
   ]
  },
  {
   "cell_type": "code",
   "execution_count": 74,
   "metadata": {
    "collapsed": false
   },
   "outputs": [
    {
     "name": "stdout",
     "output_type": "stream",
     "text": [
      "[[ -50.30209216]\n",
      " [ 196.86574198]\n",
      " [-132.96546547]\n",
      " [-132.5       ]]\n",
      "[[ -41.7]\n",
      " [  91.8]\n",
      " [ 132.5]\n",
      " [   1. ]]\n",
      "[[[ 0.37963843]]\n",
      "\n",
      " [[-1.48577918]]\n",
      "\n",
      " [[ 1.00351295]]]\n"
     ]
    }
   ],
   "source": [
    "# test center point\n",
    "homogeneous_center_world = np.array([[look[0]], \n",
    "                               [look[1]],\n",
    "                               [look[2]], \n",
    "                               [1.0]])\n",
    "screenA_vec4 = mvp * homogeneous_center_world\n",
    "print screenA_vec4\n",
    "test_view = view * homogeneous_center_world\n",
    "print test_view\n",
    "\n",
    "screenA_vec3 = np.array([screenA_vec4[0]/screenA_vec4[3], screenA_vec4[1]/screenA_vec4[3], screenA_vec4[2]/screenA_vec4[3]])\n",
    "print screenA_vec3"
   ]
  },
  {
   "cell_type": "code",
   "execution_count": 73,
   "metadata": {
    "collapsed": false
   },
   "outputs": [
    {
     "name": "stdout",
     "output_type": "stream",
     "text": [
      "[[ -49.69894957]\n",
      " [ 206.08712205]\n",
      " [-133.96746747]\n",
      " [-133.5       ]]\n",
      "[[[ 0.37227678]]\n",
      "\n",
      " [[-1.54372376]]\n",
      "\n",
      " [[ 1.00350163]]]\n"
     ]
    }
   ],
   "source": [
    "screenA_vec4 = mvp * np.array([[PA.x()], \n",
    "                               [PA.y()],\n",
    "                               [PA.z()], \n",
    "                               [1.0]])\n",
    "print screenA_vec4\n",
    "\n",
    "screenA_vec3 = np.array([screenA_vec4[0]/screenA_vec4[3], screenA_vec4[1]/screenA_vec4[3], screenA_vec4[2]/screenA_vec4[3]])\n",
    "print screenA_vec3"
   ]
  },
  {
   "cell_type": "code",
   "execution_count": null,
   "metadata": {
    "collapsed": true
   },
   "outputs": [],
   "source": []
  }
 ],
 "metadata": {
  "kernelspec": {
   "display_name": "Python 2",
   "language": "python",
   "name": "python2"
  },
  "language_info": {
   "codemirror_mode": {
    "name": "ipython",
    "version": 2
   },
   "file_extension": ".py",
   "mimetype": "text/x-python",
   "name": "python",
   "nbconvert_exporter": "python",
   "pygments_lexer": "ipython2",
   "version": "2.7.10"
  }
 },
 "nbformat": 4,
 "nbformat_minor": 0
}
