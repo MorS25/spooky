{
 "cells": [
  {
   "cell_type": "code",
   "execution_count": 1,
   "metadata": {
    "collapsed": true
   },
   "outputs": [],
   "source": [
    "%load_ext autoreload\n",
    "%autoreload 2\n",
    "\n",
    "%matplotlib inline\n",
    "import matplotlib\n",
    "import matplotlib.pylab as pylab\n",
    "import matplotlib.pyplot as plt\n",
    "import matplotlib.cm as cm\n",
    "import matplotlib.patches as mpatches\n",
    "from matplotlib import gridspec\n",
    "\n",
    "import numpy as np\n",
    "import scipy.sparse as sp\n",
    "import numpy.linalg as la"
   ]
  },
  {
   "cell_type": "code",
   "execution_count": 16,
   "metadata": {
    "collapsed": false
   },
   "outputs": [],
   "source": [
    "def add_relative_to_current_source_file_path_to_sys_path(relpath):\n",
    "    import os, sys, inspect\n",
    "    path = os.path.realpath(os.path.abspath(os.path.join(os.path.split(inspect.getfile(inspect.currentframe()))[0],relpath)))\n",
    "    if path not in sys.path:\n",
    "        sys.path.insert(0,path)\n",
    "\n",
    "add_relative_to_current_source_file_path_to_sys_path(\"../../shims/toric\")   \n",
    "\n",
    "import toric\n",
    "import toric.samples\n",
    "import toric.shims\n",
    "\n",
    "#\n",
    "# Helper functions for the toric libary\n",
    "#\n",
    "\n",
    "def vector3_to_str(v):\n",
    "    return \"(%.2f, %.2f, %.2f)\" % (v.x(), v.y(), v.z())\n",
    "\n",
    "def quaternion_to_str(q):\n",
    "    return \"(w,x,y,z): (%.2f, %.2f, %.2f, %.2f)\" % (q.w(), q.x(), q.y(), q.z())\n",
    "\n",
    "def vector3_to_np3(v):\n",
    "    return np.array([v.x(),v.y(),v.z()])\n",
    "\n",
    "def np3_to_vector3(v):\n",
    "    return toric.Vector3(v[0],v[1],v[2])\n",
    "\n",
    "def slerp(p0, p1, t):\n",
    "    omega = np.arccos(np.dot(p0/np.linalg.norm(p0), p1/np.linalg.norm(p1)))\n",
    "    so = np.sin(omega)\n",
    "    return np.sin((1.0-t)*omega) / so * p0 + np.sin(t*omega)/so * p1\n",
    "    \n",
    "def fovX_from_fovY(fovY, aspect):\n",
    "    tanY = np.tan(fovY.valueRadians() / 2.0)\n",
    "    tanX = tanY * aspect;\n",
    "    fovX = np.arctan(tanX)\n",
    "    return toric.RadianPi(fovX)\n",
    "\n",
    "def drawSetup(fudgeX=10, fudgeY_pos=6,fudgeY_neg=8):\n",
    "    pylab.rcParams['figure.figsize'] = 8, 8\n",
    "\n",
    "    plt.axes().set_aspect('equal')\n",
    "    fig = plt.gcf()\n",
    "    \n",
    "    # Set up plot size\n",
    "    plt.axes().set_xlim((np.min([PA.x(), PB.x()])-fudgeX,np.max([PA.x(), PB.x()])+fudgeX))\n",
    "    plt.axes().set_ylim((np.min([PA.y(), PB.y()])-fudgeY_neg,np.max([PA.y(), PB.y()])+fudgeY_pos))\n",
    "\n",
    "    # Draw People Positions\n",
    "    plt.scatter([PA.x(), PB.x()],[PA.y(), PB.y()],c=\"red\",linewidths=0)\n",
    "    line_AB = plt.Line2D([PA.x(), PB.x()],[PA.y(), PB.y()], c=\"black\",alpha=0.3)\n",
    "    fig.gca().add_artist(line_AB)\n",
    "\n",
    "    # Draw Circles    \n",
    "    circle_PA=plt.Circle((PA.x(),PA.y()),min_dist,color='g',alpha=0.5)\n",
    "    circle_PB=plt.Circle((PB.x(),PB.y()),min_dist,color='g',alpha=0.5)\n",
    "    \n",
    "    fig.gca().add_artist(circle_PA)\n",
    "    fig.gca().add_artist(circle_PB)\n",
    "\n",
    "    plt.annotate(s=\"A\", xy=(PA.x(),PA.y()),xytext=(3,4),textcoords=\"offset points\")\n",
    "    plt.annotate(s=\"B\", xy=(PB.x(),PB.y()),xytext=(3,4),textcoords=\"offset points\")\n",
    "    \n",
    "    # Draw Camera positions\n",
    "    plt.scatter([C.x()],[C.y()],c=\"blue\",linewidths=0)\n",
    "    plt.annotate(s=\"C\", xy=(C.x(), C.y()),xytext=(3,4),textcoords=\"offset points\")"
   ]
  },
  {
   "cell_type": "code",
   "execution_count": 17,
   "metadata": {
    "collapsed": false
   },
   "outputs": [],
   "source": [
    "# Conversion from world space to camera screen space (from Unity - z,x,y)\n",
    "\n",
    "# camera specs (position, forward, up, fov)\n",
    "C = toric.Vector3(-92.9,-39.6,2.1)\n",
    "forward = toric.Vector3(-1.0,0.0,0.0)\n",
    "up = toric.Vector3(0.0,0.0,1.0)\n",
    "fovY = toric.RadianPi(0.8726646)\n",
    "fovX = fovX_from_fovY(fovY, 16/9.0)\n",
    "\n",
    "# scene specs\n",
    "PA = toric.Vector3(-98.2,-40.6,1.6)     # person A position\n",
    "PB = toric.Vector3(-98.2,-38.6,1.6)     # person B position\n",
    "\n",
    "# https://www.opengl.org/sdk/docs/man2/xhtml/gluPerspective.xml\n",
    "def perspective_matrix(fovY, aspect, near, far):\n",
    "    \n",
    "def view_matrix():"
   ]
  },
  {
   "cell_type": "code",
   "execution_count": null,
   "metadata": {
    "collapsed": true
   },
   "outputs": [],
   "source": []
  }
 ],
 "metadata": {
  "kernelspec": {
   "display_name": "Python 2",
   "language": "python",
   "name": "python2"
  },
  "language_info": {
   "codemirror_mode": {
    "name": "ipython",
    "version": 2
   },
   "file_extension": ".py",
   "mimetype": "text/x-python",
   "name": "python",
   "nbconvert_exporter": "python",
   "pygments_lexer": "ipython2",
   "version": "2.7.10"
  }
 },
 "nbformat": 4,
 "nbformat_minor": 0
}
