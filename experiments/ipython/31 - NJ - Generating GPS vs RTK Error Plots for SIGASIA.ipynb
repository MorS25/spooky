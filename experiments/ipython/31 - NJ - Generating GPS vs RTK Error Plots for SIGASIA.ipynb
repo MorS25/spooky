{
 "cells": [
  {
   "cell_type": "code",
   "execution_count": 1,
   "metadata": {
    "collapsed": false
   },
   "outputs": [
    {
     "name": "stderr",
     "output_type": "stream",
     "text": [
      "/Users/njoubert/Library/Enthought/Canopy_64bit/User/lib/python2.7/site-packages/matplotlib/__init__.py:1350: UserWarning:  This call to matplotlib.use() has no effect\n",
      "because the backend has already been chosen;\n",
      "matplotlib.use() must be called *before* pylab, matplotlib.pyplot,\n",
      "or matplotlib.backends is imported for the first time.\n",
      "\n",
      "  warnings.warn(_use_error_msg)\n"
     ]
    }
   ],
   "source": [
    "%matplotlib inline\n",
    "\n",
    "\n",
    "import matplotlib.pyplot as plt\n",
    "import matplotlib\n",
    "import matplotlib.pylab as pylab\n",
    "import matplotlib.pyplot as plt\n",
    "import matplotlib.cm as cm\n",
    "import matplotlib.patches as mpatches\n",
    "\n",
    "from matplotlib import gridspec\n",
    "\n",
    "import numpy as np\n",
    "from numpy import linalg\n",
    "\n",
    "def add_relative_to_current_source_file_path_to_sys_path(relpath):\n",
    "    import os, sys, inspect\n",
    "    path = os.path.realpath(os.path.abspath(os.path.join(os.path.split(inspect.getfile(inspect.currentframe()))[0],relpath)))\n",
    "    if path not in sys.path:\n",
    "        sys.path.insert(0,path)\n",
    "\n",
    "add_relative_to_current_source_file_path_to_sys_path(\"../../src\")   \n",
    "add_relative_to_current_source_file_path_to_sys_path(\"../../logs\")      \n",
    "\n",
    "import spooky.coords\n",
    "import log_graph\n",
    "import replay.main"
   ]
  },
  {
   "cell_type": "code",
   "execution_count": 2,
   "metadata": {
    "collapsed": false
   },
   "outputs": [],
   "source": [
    "LOG = \"/Users/njoubert/Code/spooky/logs/state0001109.pickle\"\n",
    "\n",
    "'''\n",
    "Setting up Tableau Colors. \n",
    "http://tableaufriction.blogspot.ca/2012/11/finally-you-can-use-tableau-data-colors.html\n",
    "'''\n",
    "t10 = np.array([[31,119,180],[255,127,14],[44,160,44],[214,39,40],[148,103,189]])\n",
    "t10 = t10/255.0\n",
    "\n",
    "t10l = np.array([[174,199,232],[255,187,120],[152,223,138],[255,152,150],[197,176,213]])\n",
    "t10l = t10l/255.0"
   ]
  },
  {
   "cell_type": "code",
   "execution_count": 3,
   "metadata": {
    "collapsed": false
   },
   "outputs": [
    {
     "data": {
      "text/plain": [
       "<function replay.main.generate_fake_SPP_GPS_Baselines>"
      ]
     },
     "execution_count": 3,
     "metadata": {},
     "output_type": "execute_result"
    }
   ],
   "source": [
    "replay.main.generate_fake_SPP_GPS_Baselines"
   ]
  },
  {
   "cell_type": "code",
   "execution_count": 4,
   "metadata": {
    "collapsed": false
   },
   "outputs": [],
   "source": [
    "l = log_graph.loadLog(LOG)"
   ]
  },
  {
   "cell_type": "code",
   "execution_count": 5,
   "metadata": {
    "collapsed": false
   },
   "outputs": [],
   "source": [
    "\n",
    "replay.main.reset_fake_calib()\n",
    "for nextState in l:\n",
    "    replay.main.generate_fake_SPP_GPS_Baselines(nextState,verbose=False)\n",
    "    "
   ]
  },
  {
   "cell_type": "code",
   "execution_count": 98,
   "metadata": {
    "collapsed": false
   },
   "outputs": [
    {
     "ename": "TypeError",
     "evalue": "string indices must be integers, not str",
     "output_type": "error",
     "traceback": [
      "\u001b[0;31m---------------------------------------------------------------------------\u001b[0m",
      "\u001b[0;31mTypeError\u001b[0m                                 Traceback (most recent call last)",
      "\u001b[0;32m<ipython-input-98-7ae5f5ce47b2>\u001b[0m in \u001b[0;36m<module>\u001b[0;34m()\u001b[0m\n\u001b[1;32m      5\u001b[0m \u001b[0;32mfor\u001b[0m \u001b[0mnextState\u001b[0m \u001b[0;32min\u001b[0m \u001b[0ml\u001b[0m\u001b[0;34m:\u001b[0m\u001b[0;34m\u001b[0m\u001b[0m\n\u001b[1;32m      6\u001b[0m     \u001b[0;32mif\u001b[0m \u001b[0;32mnot\u001b[0m \u001b[0mstartTime\u001b[0m\u001b[0;34m:\u001b[0m\u001b[0;34m\u001b[0m\u001b[0m\n\u001b[0;32m----> 7\u001b[0;31m         \u001b[0mstartTime\u001b[0m \u001b[0;34m=\u001b[0m \u001b[0mnextState\u001b[0m\u001b[0;34m[\u001b[0m\u001b[0;34m\"_timestamp\"\u001b[0m\u001b[0;34m]\u001b[0m\u001b[0;34m\u001b[0m\u001b[0m\n\u001b[0m\u001b[1;32m      8\u001b[0m     \u001b[0mlastTime\u001b[0m \u001b[0;34m=\u001b[0m \u001b[0mnextState\u001b[0m\u001b[0;34m[\u001b[0m\u001b[0;34m\"_timestamp\"\u001b[0m\u001b[0;34m]\u001b[0m\u001b[0;34m\u001b[0m\u001b[0m\n\u001b[1;32m      9\u001b[0m     \u001b[0;32mif\u001b[0m \u001b[0;34m\"base_station\"\u001b[0m \u001b[0;32min\u001b[0m \u001b[0mnextState\u001b[0m \u001b[0;32mand\u001b[0m \u001b[0;34m\"surveyed_pos\"\u001b[0m \u001b[0;32min\u001b[0m \u001b[0mnextState\u001b[0m\u001b[0;34m[\u001b[0m\u001b[0;34m\"base_station\"\u001b[0m\u001b[0;34m]\u001b[0m\u001b[0;34m:\u001b[0m\u001b[0;34m\u001b[0m\u001b[0m\n",
      "\u001b[0;31mTypeError\u001b[0m: string indices must be integers, not str"
     ]
    }
   ],
   "source": [
    "errorNED = []\n",
    "errorNE  = []\n",
    "startTime = None\n",
    "lastTime = 0\n",
    "for nextState in l:\n",
    "    if not startTime:\n",
    "        startTime = nextState[\"_timestamp\"]\n",
    "    lastTime = nextState[\"_timestamp\"]\n",
    "    if \"base_station\" in nextState and \"surveyed_pos\" in nextState[\"base_station\"]:\n",
    "        for p in ['192.168.2.51','192.168.2.52']:\n",
    "            person = nextState[p]\n",
    "            real_baseline = np.array([float(person[\"MsgBaselineNED\"]['n']), float(person[\"MsgBaselineNED\"]['e']), float(person[\"MsgBaselineNED\"]['d'])])\n",
    "            calib_rel_ned = np.array([float(person[\"SPPGPSBaseline_calibrated\"]['n']),float(person[\"SPPGPSBaseline_calibrated\"]['e']),float(person[\"SPPGPSBaseline_calibrated\"]['d'])])\n",
    "            uncalib_rel_ned = np.array([float(person[\"SPPGPSBaseline\"]['n']),float(person[\"SPPGPSBaseline\"]['e']),float(person[\"SPPGPSBaseline\"]['d'])])\n",
    "            \n",
    "            localError = linalg.norm(real_baseline - calib_rel_ned)\n",
    "            errorNED.append([localError])\n",
    "            localNEError = linalg.norm(real_baseline[0:1] - calib_rel_ned[0:1])\n",
    "            errorNE.append([localNEError])\n",
    "print errorNED            "
   ]
  },
  {
   "cell_type": "code",
   "execution_count": 104,
   "metadata": {
    "collapsed": true
   },
   "outputs": [],
   "source": [
    "### GLOBAL_POSITION_INT CONTAINS THE RESULTING *FUSED* POSITION.\n",
    "### THUS, THIS IS USING A NORMAL GPS ASSISTED WITH AN IMU AND BAROMETER\n",
    "\n",
    "def get_errors_from_log(logname, startTime=0.0, endTime=-1.0):\n",
    "    l = log_graph.loadLog(logname, startTime=startTime, endTime=endTime)\n",
    "    replay.main.reset_fake_calib()\n",
    "    for nextState in l:\n",
    "        replay.main.generate_fake_SPP_GPS_Baselines(nextState,verbose=False)\n",
    "\n",
    "    errorNED = []\n",
    "    errorNE  = []\n",
    "    calibrated_baselines = {}\n",
    "    calibrated_baselines['192.168.2.51']\n",
    "    real_baselines = {}\n",
    "    \n",
    "    startTime = None\n",
    "    lastTime = 0\n",
    "    for nextState in l:\n",
    "        if \"base_station\" in nextState and \"surveyed_pos\" in nextState[\"base_station\"]:\n",
    "            if not startTime:\n",
    "                startTime = nextState[\"_timestamp\"]\n",
    "            lastTime = nextState[\"_timestamp\"]\n",
    "            for p in ['192.168.2.51','192.168.2.52']:\n",
    "                person = nextState[p]\n",
    "                if \"MsgBaselineNED\" in person and person[\"MsgBaselineNED\"][\"flags\"] == 1:\n",
    "                    \n",
    "                    real_baseline = np.array([float(person[\"MsgBaselineNED\"]['n']), float(person[\"MsgBaselineNED\"]['e']), float(person[\"MsgBaselineNED\"]['d'])])\n",
    "                    calib_rel_ned = np.array([float(person[\"SPPGPSBaseline_calibrated\"]['n']),float(person[\"SPPGPSBaseline_calibrated\"]['e']),float(person[\"SPPGPSBaseline_calibrated\"]['d'])])\n",
    "                    uncalib_rel_ned = np.array([float(person[\"SPPGPSBaseline\"]['n']),float(person[\"SPPGPSBaseline\"]['e']),float(person[\"SPPGPSBaseline\"]['d'])])\n",
    "\n",
    "                    real_baseline = real_baseline / 1000.0\n",
    "                    calib_rel_ned = calib_rel_ned / 1000.0\n",
    "                    \n",
    "                    calibrated_baselines.append(calib_rel_ned)\n",
    "                    real_baselines.append(real_baseline)\n",
    "                    \n",
    "                    localError = linalg.norm(real_baseline - calib_rel_ned)\n",
    "                    errorNED.append([localError])\n",
    "                    localNEError = linalg.norm(real_baseline[0:1] - calib_rel_ned[0:1])\n",
    "                    errorNE.append([localNEError])\n",
    "    return errorNE, errorNED, calibrated_baselines, real_baslines, lastTime - startTime "
   ]
  },
  {
   "cell_type": "code",
   "execution_count": 118,
   "metadata": {
    "collapsed": false
   },
   "outputs": [
    {
     "data": {
      "image/png": "[encoded data removed]",
      "text/plain": [
       "<matplotlib.figure.Figure at 0x10e344f10>"
      ]
     },
     "metadata": {},
     "output_type": "display_data"
    }
   ],
   "source": [
    "errorNE, errorNED, calib_baselines, loglength = get_errors_from_log(\"/Users/njoubert/Code/spooky/logs/state0001101.pickle\", startTime=50, endTime=850)\n",
    "\n",
    "n, bins = np.histogram(errorNED, bins=50, normed=True, range=(0, 5))\n",
    "\n",
    "fig, ax = plt.subplots()\n",
    "rects1 = ax.bar(bins[0:50], n, 0.1, color='r')\n",
    "\n",
    "\n"
   ]
  },
  {
   "cell_type": "code",
   "execution_count": 120,
   "metadata": {
    "collapsed": false
   },
   "outputs": [
    {
     "data": {
      "image/png": "[encoded data removed]",
      "text/plain": [
       "<matplotlib.figure.Figure at 0x1202d1790>"
      ]
     },
     "metadata": {},
     "output_type": "display_data"
    }
   ],
   "source": [
    "pylab.rcParams['figure.figsize'] = 4.5, 4\n",
    "matplotlib.rcParams.update({'font.size': 12})\n",
    "plt.rc('font', family='serif')\n",
    "\n",
    "gs = gridspec.GridSpec(1, 1, width_ratios=[1], height_ratios=[1]) \n",
    "fig = plt.figure()\n",
    "\n",
    "# fig.suptitle(\"\", fontsize=18)\n",
    "\n",
    "f1 = fig.add_subplot(gs[0])\n",
    "rects1 = f1.bar(bins[0:50], n, 0.1, color='r')\n",
    "\n",
    "# FIGURE 1\n",
    "f1.set_title('Error over Time')\n",
    "\n",
    "fig.tight_layout()\n",
    "pylab.savefig(\"sample_traj.pdf\")"
   ]
  },
  {
   "cell_type": "code",
   "execution_count": 121,
   "metadata": {
    "collapsed": true
   },
   "outputs": [],
   "source": [
    "import json\n",
    "\n",
    "json_data=open(\"datafor1101_s50_e450.json\").read()\n",
    "\n",
    "data = json.loads(json_data)"
   ]
  },
  {
   "cell_type": "code",
   "execution_count": 128,
   "metadata": {
    "collapsed": false
   },
   "outputs": [
    {
     "name": "stdout",
     "output_type": "stream",
     "text": [
      "[0.289307147, 0.711325467]\n"
     ]
    }
   ],
   "source": [
    "for d in data[50:51]:\n",
    "    print d[\"players\"][1]['screen']\n",
    "    "
   ]
  },
  {
   "cell_type": "code",
   "execution_count": 90,
   "metadata": {
    "collapsed": true
   },
   "outputs": [],
   "source": [
    "loglist = [\n",
    "    \"/Users/njoubert/Code/spooky/logs/state0001091.pickle\",\n",
    "    \"/Users/njoubert/Code/spooky/logs/state0001094.pickle\",\n",
    "    \"/Users/njoubert/Code/spooky/logs/state0001099.pickle\",\n",
    "    \"/Users/njoubert/Code/spooky/logs/state0001101.pickle\",\n",
    "    \"/Users/njoubert/Code/spooky/logs/state0001102.pickle\",\n",
    "    \"/Users/njoubert/Code/spooky/logs/state0001103.pickle\",\n",
    "    \"/Users/njoubert/Code/spooky/logs/state0001105.pickle\",\n",
    "    \"/Users/njoubert/Code/spooky/logs/state0001106.pickle\",\n",
    "    \"/Users/njoubert/Code/spooky/logs/state0001109.pickle\",\n",
    "    \"/Users/njoubert/Code/spooky/logs/state0001110.pickle\"\n",
    "]"
   ]
  },
  {
   "cell_type": "code",
   "execution_count": 91,
   "metadata": {
    "collapsed": false
   },
   "outputs": [
    {
     "name": "stdout",
     "output_type": "stream",
     "text": [
      "[0.0]\n",
      "[0.0]\n",
      "51\n",
      "1000.54448318\n"
     ]
    },
    {
     "data": {
      "image/png": "[encoded data removed]",
      "text/plain": [
       "<matplotlib.figure.Figure at 0x110928350>"
      ]
     },
     "metadata": {},
     "output_type": "display_data"
    }
   ],
   "source": [
    "errorNE, errorNED, loglength = get_errors_from_log(\"/Users/njoubert/Code/spooky/logs/state0001091.pickle\")\n",
    "\n",
    "print errorNED[0]\n",
    "print errorNE[0]\n",
    "n, bins = np.histogram(errorNED, bins=50, density=True)\n",
    "\n",
    "print len(bins)\n",
    "\n",
    "fig, ax = plt.subplots()\n",
    "rects1 = ax.bar(bins[0:50], n, 0.1, color='r')\n",
    "print loglength"
   ]
  },
  {
   "cell_type": "code",
   "execution_count": 75,
   "metadata": {
    "collapsed": false
   },
   "outputs": [
    {
     "name": "stdout",
     "output_type": "stream",
     "text": [
      "[0.0]\n",
      "[0.0]\n",
      "51\n",
      "686.890803099\n"
     ]
    },
    {
     "data": {
      "image/png": "[encoded data removed]",
      "text/plain": [
       "<matplotlib.figure.Figure at 0x111e42990>"
      ]
     },
     "metadata": {},
     "output_type": "display_data"
    }
   ],
   "source": [
    "errorNE, errorNED, loglength = get_errors_from_log(\"/Users/njoubert/Code/spooky/logs/state0001094.pickle\")\n",
    "\n",
    "print errorNED[0]\n",
    "print errorNE[0]\n",
    "n, bins = np.histogram(errorNED, bins=50, density=True)\n",
    "\n",
    "print len(bins)\n",
    "\n",
    "fig, ax = plt.subplots()\n",
    "rects1 = ax.bar(bins[0:50], n, 0.1, color='r')\n",
    "print loglength"
   ]
  },
  {
   "cell_type": "code",
   "execution_count": 76,
   "metadata": {
    "collapsed": false
   },
   "outputs": [
    {
     "name": "stdout",
     "output_type": "stream",
     "text": [
      "[0.0]\n",
      "[0.0]\n",
      "51\n",
      "837.866279125\n"
     ]
    },
    {
     "data": {
      "image/png": "[encoded data removed]",
      "text/plain": [
       "<matplotlib.figure.Figure at 0x10e29ea50>"
      ]
     },
     "metadata": {},
     "output_type": "display_data"
    }
   ],
   "source": [
    "errorNE, errorNED, loglength = get_errors_from_log(\"/Users/njoubert/Code/spooky/logs/state0001099.pickle\")\n",
    "\n",
    "print errorNED[0]\n",
    "print errorNE[0]\n",
    "n, bins = np.histogram(errorNED, bins=50, density=True)\n",
    "\n",
    "print len(bins)\n",
    "\n",
    "fig, ax = plt.subplots()\n",
    "rects1 = ax.bar(bins[0:50], n, 0.1, color='r')\n",
    "print loglength"
   ]
  },
  {
   "cell_type": "code",
   "execution_count": 101,
   "metadata": {
    "collapsed": false
   },
   "outputs": [
    {
     "name": "stdout",
     "output_type": "stream",
     "text": [
      "13246\n",
      "13246\n",
      "51\n"
     ]
    },
    {
     "data": {
      "image/png": "[encoded data removed]",
      "text/plain": [
       "<matplotlib.figure.Figure at 0x11d1c0bd0>"
      ]
     },
     "metadata": {},
     "output_type": "display_data"
    }
   ],
   "source": []
  },
  {
   "cell_type": "code",
   "execution_count": 78,
   "metadata": {
    "collapsed": false
   },
   "outputs": [
    {
     "name": "stdout",
     "output_type": "stream",
     "text": [
      "[0.0]\n",
      "[0.0]\n",
      "51\n",
      "30.9852809906\n"
     ]
    },
    {
     "data": {
      "image/png": "[encoded data removed]",
      "text/plain": [
       "<matplotlib.figure.Figure at 0x1134869d0>"
      ]
     },
     "metadata": {},
     "output_type": "display_data"
    }
   ],
   "source": [
    "errorNE, errorNED, loglength = get_errors_from_log(\"/Users/njoubert/Code/spooky/logs/state0001102.pickle\")\n",
    "\n",
    "print errorNED[0]\n",
    "print errorNE[0]\n",
    "n, bins = np.histogram(errorNED, bins=50, density=True)\n",
    "\n",
    "print len(bins)\n",
    "\n",
    "fig, ax = plt.subplots()\n",
    "rects1 = ax.bar(bins[0:50], n, 0.1, color='r')\n",
    "print loglength"
   ]
  },
  {
   "cell_type": "code",
   "execution_count": 79,
   "metadata": {
    "collapsed": false
   },
   "outputs": [
    {
     "name": "stdout",
     "output_type": "stream",
     "text": [
      "[0.0]\n",
      "[0.0]\n",
      "51\n",
      "524.055351973\n"
     ]
    },
    {
     "data": {
      "image/png": "[encoded data removed]",
      "text/plain": [
       "<matplotlib.figure.Figure at 0x11918eb90>"
      ]
     },
     "metadata": {},
     "output_type": "display_data"
    }
   ],
   "source": [
    "errorNE, errorNED, loglength = get_errors_from_log(\"/Users/njoubert/Code/spooky/logs/state0001103.pickle\")\n",
    "\n",
    "print errorNED[0]\n",
    "print errorNE[0]\n",
    "n, bins = np.histogram(errorNED, bins=50, density=True)\n",
    "\n",
    "print len(bins)\n",
    "\n",
    "fig, ax = plt.subplots()\n",
    "rects1 = ax.bar(bins[0:50], n, 0.1, color='r')\n",
    "print loglength"
   ]
  },
  {
   "cell_type": "code",
   "execution_count": 80,
   "metadata": {
    "collapsed": false
   },
   "outputs": [
    {
     "name": "stdout",
     "output_type": "stream",
     "text": [
      "[0.0]\n",
      "[0.0]\n",
      "51\n",
      "524.055351973\n"
     ]
    },
    {
     "data": {
      "image/png": "[encoded data removed]",
      "text/plain": [
       "<matplotlib.figure.Figure at 0x112007c10>"
      ]
     },
     "metadata": {},
     "output_type": "display_data"
    }
   ],
   "source": [
    "errorNE, errorNED, loglength = get_errors_from_log(\"/Users/njoubert/Code/spooky/logs/state0001103.pickle\")\n",
    "\n",
    "print errorNED[0]\n",
    "print errorNE[0]\n",
    "n, bins = np.histogram(errorNED, bins=50, density=True)\n",
    "\n",
    "print len(bins)\n",
    "\n",
    "fig, ax = plt.subplots()\n",
    "rects1 = ax.bar(bins[0:50], n, 0.1, color='r')\n",
    "print loglength"
   ]
  },
  {
   "cell_type": "code",
   "execution_count": 81,
   "metadata": {
    "collapsed": false
   },
   "outputs": [
    {
     "name": "stdout",
     "output_type": "stream",
     "text": [
      "[0.0]\n",
      "[0.0]\n",
      "51\n",
      "616.489763975\n"
     ]
    },
    {
     "data": {
      "image/png": "[encoded data removed]",
      "text/plain": [
       "<matplotlib.figure.Figure at 0x10e394910>"
      ]
     },
     "metadata": {},
     "output_type": "display_data"
    }
   ],
   "source": [
    "errorNE, errorNED, loglength = get_errors_from_log(\"/Users/njoubert/Code/spooky/logs/state0001105.pickle\")\n",
    "\n",
    "print errorNED[0]\n",
    "print errorNE[0]\n",
    "n, bins = np.histogram(errorNED, bins=50, density=True)\n",
    "\n",
    "print len(bins)\n",
    "\n",
    "fig, ax = plt.subplots()\n",
    "rects1 = ax.bar(bins[0:50], n, 0.1, color='r')\n",
    "print loglength"
   ]
  },
  {
   "cell_type": "code",
   "execution_count": 82,
   "metadata": {
    "collapsed": false
   },
   "outputs": [
    {
     "name": "stdout",
     "output_type": "stream",
     "text": [
      "[0.0]\n",
      "[0.0]\n",
      "51\n",
      "1158.86017394\n"
     ]
    },
    {
     "data": {
      "image/png": "[encoded data removed]",
      "text/plain": [
       "<matplotlib.figure.Figure at 0x11dbe7c90>"
      ]
     },
     "metadata": {},
     "output_type": "display_data"
    }
   ],
   "source": [
    "errorNE, errorNED, loglength = get_errors_from_log(\"/Users/njoubert/Code/spooky/logs/state0001106.pickle\")\n",
    "\n",
    "print errorNED[0]\n",
    "print errorNE[0]\n",
    "n, bins = np.histogram(errorNED, bins=50, density=True)\n",
    "\n",
    "print len(bins)\n",
    "\n",
    "fig, ax = plt.subplots()\n",
    "rects1 = ax.bar(bins[0:50], n, 0.1, color='r')\n",
    "print loglength"
   ]
  },
  {
   "cell_type": "code",
   "execution_count": 83,
   "metadata": {
    "collapsed": false
   },
   "outputs": [
    {
     "name": "stdout",
     "output_type": "stream",
     "text": [
      "[0.0]\n",
      "[0.0]\n",
      "51\n",
      "215.528002977\n",
      "215.528002977\n"
     ]
    },
    {
     "data": {
      "image/png": "[encoded data removed]",
      "text/plain": [
       "<matplotlib.figure.Figure at 0x119157690>"
      ]
     },
     "metadata": {},
     "output_type": "display_data"
    }
   ],
   "source": [
    "errorNE, errorNED, loglength = get_errors_from_log(\"/Users/njoubert/Code/spooky/logs/state0001109.pickle\")\n",
    "\n",
    "print errorNED[0]\n",
    "print errorNE[0]\n",
    "n, bins = np.histogram(errorNED, bins=50, density=True)\n",
    "\n",
    "print len(bins)\n",
    "\n",
    "fig, ax = plt.subplots()\n",
    "rects1 = ax.bar(bins[0:50], n, 0.1, color='r')\n",
    "print loglength\n",
    "print loglength"
   ]
  },
  {
   "cell_type": "code",
   "execution_count": 84,
   "metadata": {
    "collapsed": false
   },
   "outputs": [
    {
     "name": "stdout",
     "output_type": "stream",
     "text": [
      "7845\n",
      "7845\n",
      "51\n",
      "418.229232073\n"
     ]
    },
    {
     "data": {
      "image/png": "[encoded data removed]",
      "text/plain": [
       "<matplotlib.figure.Figure at 0x119157b90>"
      ]
     },
     "metadata": {},
     "output_type": "display_data"
    }
   ],
   "source": [
    "errorNE, errorNED, loglength = get_errors_from_log(\"/Users/njoubert/Code/spooky/logs/state0001110.pickle\")\n",
    "\n",
    "print len(errorNED)\n",
    "print len(errorNE)\n",
    "n, bins = np.histogram(errorNED, bins=50, density=True)\n",
    "\n",
    "print len(bins)\n",
    "\n",
    "fig, ax = plt.subplots()\n",
    "rects1 = ax.bar(bins[0:50], n, 0.1, color='r')\n",
    "print loglength"
   ]
  },
  {
   "cell_type": "code",
   "execution_count": 85,
   "metadata": {
    "collapsed": true
   },
   "outputs": [],
   "source": [
    "logresults = []\n",
    "for l in loglist:\n",
    "    errorNE, errorNED, loglength = get_errors_from_log(l)\n",
    "    logresults.append((errorNE,errorNED,loglength))"
   ]
  },
  {
   "cell_type": "code",
   "execution_count": 86,
   "metadata": {
    "collapsed": false
   },
   "outputs": [
    {
     "name": "stdout",
     "output_type": "stream",
     "text": [
      "1000.54448318\n",
      "686.890803099\n",
      "837.866279125\n",
      "748.320538044\n",
      "30.9852809906\n",
      "524.055351973\n",
      "616.489763975\n",
      "1158.86017394\n",
      "215.528002977\n",
      "418.229232073\n"
     ]
    }
   ],
   "source": [
    "errorNE  = []\n",
    "errorNED = []\n",
    "for r in logresults:\n",
    "    errorNE = errorNE + r[0]\n",
    "    errorNED = errorNED + r[1]\n",
    "    print r[2]"
   ]
  },
  {
   "cell_type": "code",
   "execution_count": 87,
   "metadata": {
    "collapsed": false
   },
   "outputs": [
    {
     "name": "stdout",
     "output_type": "stream",
     "text": [
      "115469\n",
      "115469\n",
      "51\n"
     ]
    },
    {
     "data": {
      "image/png": "[encoded data removed]",
      "text/plain": [
       "<matplotlib.figure.Figure at 0x11d167d50>"
      ]
     },
     "metadata": {},
     "output_type": "display_data"
    }
   ],
   "source": [
    "# Relative error across ALL 10 capture sessions.\n",
    "\n",
    "print len(errorNED)\n",
    "print len(errorNE)\n",
    "n, bins = np.histogram(errorNED, bins=50, density=True)\n",
    "\n",
    "print len(bins)\n",
    "\n",
    "fig, ax = plt.subplots()\n",
    "rects1 = ax.bar(bins[0:50], n, 0.1, color='r')"
   ]
  },
  {
   "cell_type": "code",
   "execution_count": 88,
   "metadata": {
    "collapsed": false
   },
   "outputs": [
    {
     "name": "stdout",
     "output_type": "stream",
     "text": [
      "51\n"
     ]
    },
    {
     "data": {
      "image/png": "[encoded data removed]",
      "text/plain": [
       "<matplotlib.figure.Figure at 0x1032bd1d0>"
      ]
     },
     "metadata": {},
     "output_type": "display_data"
    }
   ],
   "source": [
    "n, bins = np.histogram(errorNE, bins=50, density=True)\n",
    "\n",
    "print len(bins)\n",
    "\n",
    "fig, ax = plt.subplots()\n",
    "rects1 = ax.bar(bins[0:50], n, 0.1, color='r')\n"
   ]
  },
  {
   "cell_type": "code",
   "execution_count": null,
   "metadata": {
    "collapsed": true
   },
   "outputs": [],
   "source": []
  }
 ],
 "metadata": {
  "kernelspec": {
   "display_name": "Python 2",
   "language": "python",
   "name": "python2"
  },
  "language_info": {
   "codemirror_mode": {
    "name": "ipython",
    "version": 2
   },
   "file_extension": ".py",
   "mimetype": "text/x-python",
   "name": "python",
   "nbconvert_exporter": "python",
   "pygments_lexer": "ipython2",
   "version": "2.7.6"
  }
 },
 "nbformat": 4,
 "nbformat_minor": 0
}
