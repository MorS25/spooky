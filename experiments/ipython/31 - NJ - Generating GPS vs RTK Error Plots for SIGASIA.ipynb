{
 "cells": [
  {
   "cell_type": "code",
   "execution_count": 1,
   "metadata": {
    "collapsed": false
   },
   "outputs": [
    {
     "name": "stderr",
     "output_type": "stream",
     "text": [
      "/Users/njoubert/Library/Enthought/Canopy_64bit/User/lib/python2.7/site-packages/matplotlib/__init__.py:1350: UserWarning:  This call to matplotlib.use() has no effect\n",
      "because the backend has already been chosen;\n",
      "matplotlib.use() must be called *before* pylab, matplotlib.pyplot,\n",
      "or matplotlib.backends is imported for the first time.\n",
      "\n",
      "  warnings.warn(_use_error_msg)\n"
     ]
    }
   ],
   "source": [
    "%matplotlib inline\n",
    "\n",
    "\n",
    "import matplotlib.pyplot as plt\n",
    "import matplotlib\n",
    "import matplotlib.pylab as pylab\n",
    "import matplotlib.pyplot as plt\n",
    "import matplotlib.cm as cm\n",
    "import matplotlib.patches as mpatches\n",
    "\n",
    "from matplotlib import gridspec\n",
    "\n",
    "import numpy as np\n",
    "from numpy import linalg\n",
    "\n",
    "def add_relative_to_current_source_file_path_to_sys_path(relpath):\n",
    "    import os, sys, inspect\n",
    "    path = os.path.realpath(os.path.abspath(os.path.join(os.path.split(inspect.getfile(inspect.currentframe()))[0],relpath)))\n",
    "    if path not in sys.path:\n",
    "        sys.path.insert(0,path)\n",
    "\n",
    "add_relative_to_current_source_file_path_to_sys_path(\"../../src\")   \n",
    "add_relative_to_current_source_file_path_to_sys_path(\"../../logs\")      \n",
    "\n",
    "import spooky.coords\n",
    "import log_graph\n",
    "import replay.main"
   ]
  },
  {
   "cell_type": "code",
   "execution_count": 2,
   "metadata": {
    "collapsed": false
   },
   "outputs": [],
   "source": [
    "LOG = \"/Users/njoubert/Code/spooky/logs/state0001109.pickle\"\n",
    "\n",
    "'''\n",
    "Setting up Tableau Colors. \n",
    "http://tableaufriction.blogspot.ca/2012/11/finally-you-can-use-tableau-data-colors.html\n",
    "'''\n",
    "t10 = np.array([[31,119,180],[255,127,14],[44,160,44],[214,39,40],[148,103,189]])\n",
    "t10 = t10/255.0\n",
    "\n",
    "t10l = np.array([[174,199,232],[255,187,120],[152,223,138],[255,152,150],[197,176,213]])\n",
    "t10l = t10l/255.0"
   ]
  },
  {
   "cell_type": "code",
   "execution_count": 3,
   "metadata": {
    "collapsed": false
   },
   "outputs": [
    {
     "data": {
      "text/plain": [
       "<function replay.main.generate_fake_SPP_GPS_Baselines>"
      ]
     },
     "execution_count": 3,
     "metadata": {},
     "output_type": "execute_result"
    }
   ],
   "source": [
    "replay.main.generate_fake_SPP_GPS_Baselines"
   ]
  },
  {
   "cell_type": "code",
   "execution_count": 4,
   "metadata": {
    "collapsed": false
   },
   "outputs": [],
   "source": [
    "l = log_graph.loadLog(LOG)"
   ]
  },
  {
   "cell_type": "code",
   "execution_count": 5,
   "metadata": {
    "collapsed": false
   },
   "outputs": [],
   "source": [
    "for nextState in l:\n",
    "    replay.main.generate_fake_SPP_GPS_Baselines(nextState,verbose=False)\n",
    "    "
   ]
  },
  {
   "cell_type": "code",
   "execution_count": 22,
   "metadata": {
    "collapsed": false
   },
   "outputs": [],
   "source": [
    "errorNED = []\n",
    "errorNE  = []\n",
    "for nextState in l:\n",
    "    if \"base_station\" in nextState and \"surveyed_pos\" in nextState[\"base_station\"]:\n",
    "        for p in ['192.168.2.51','192.168.2.52']:\n",
    "            person = nextState[p]\n",
    "            real_baseline = np.array([float(person[\"MsgBaselineNED\"]['n']), float(person[\"MsgBaselineNED\"]['e']), float(person[\"MsgBaselineNED\"]['d'])])\n",
    "            calib_rel_ned = np.array([float(person[\"SPPGPSBaseline_calibrated\"]['n']),float(person[\"SPPGPSBaseline_calibrated\"]['e']),float(person[\"SPPGPSBaseline_calibrated\"]['d'])])\n",
    "            calib_rel_ned = np.array([float(person[\"SPPGPSBaseline\"]['n']),float(person[\"SPPGPSBaseline\"]['e']),float(person[\"SPPGPSBaseline\"]['d'])])\n",
    "            \n",
    "            localError = linalg.norm(real_baseline - calib_rel_ned)\n",
    "            errorNED.append([localError])\n",
    "            localNEError = linalg.norm(real_baseline[0:1] - calib_rel_ned[0:1])\n",
    "            errorNE.append([localNEError])\n",
    "            "
   ]
  },
  {
   "cell_type": "code",
   "execution_count": 21,
   "metadata": {
    "collapsed": false
   },
   "outputs": [
    {
     "name": "stdout",
     "output_type": "stream",
     "text": [
      "[461.53982839658846]\n",
      "[239.96665662250507]\n",
      "51\n"
     ]
    },
    {
     "data": {
      "image/png": "[encoded data removed]",
      "text/plain": [
       "<matplotlib.figure.Figure at 0x112aef4d0>"
      ]
     },
     "metadata": {},
     "output_type": "display_data"
    }
   ],
   "source": [
    "print errorNED[1000]\n",
    "print errorNE[1000]\n",
    "n, bins = np.histogram(errorNE, bins=50, density=None)\n",
    "\n",
    "\n",
    "print len(bins)\n",
    "\n",
    "fig, ax = plt.subplots()\n",
    "rects1 = ax.bar(bins[0:50], n, 1, color='r')"
   ]
  },
  {
   "cell_type": "code",
   "execution_count": null,
   "metadata": {
    "collapsed": false
   },
   "outputs": [],
   "source": [
    "# the histogram of the data\n",
    "#n, bins, patches = plt.hist(errorNE, 50, normed=1, facecolor='green', alpha=0.75)\n",
    "\n",
    "# add a 'best fit' line\n",
    "#y = mlab.normpdf( bins, mu, sigma)\n",
    "#l = plt.plot(bins, y, 'r--', linewidth=1)\n",
    "\n",
    "plt.xlabel('Smarts')\n",
    "plt.ylabel('Probability')\n",
    "plt.title(r'$\\mathrm{Histogram\\ of\\ IQ:}\\ \\mu=100,\\ \\sigma=15$')\n",
    "#plt.axis([40, 160, 0, 0.03])\n",
    "plt.grid(True)\n",
    "\n",
    "plt.show()"
   ]
  },
  {
   "cell_type": "code",
   "execution_count": null,
   "metadata": {
    "collapsed": true
   },
   "outputs": [],
   "source": [
    "errorNE"
   ]
  },
  {
   "cell_type": "code",
   "execution_count": null,
   "metadata": {
    "collapsed": true
   },
   "outputs": [],
   "source": []
  }
 ],
 "metadata": {
  "kernelspec": {
   "display_name": "Python 2",
   "language": "python",
   "name": "python2"
  },
  "language_info": {
   "codemirror_mode": {
    "name": "ipython",
    "version": 2
   },
   "file_extension": ".py",
   "mimetype": "text/x-python",
   "name": "python",
   "nbconvert_exporter": "python",
   "pygments_lexer": "ipython2",
   "version": "2.7.6"
  }
 },
 "nbformat": 4,
 "nbformat_minor": 0
}
