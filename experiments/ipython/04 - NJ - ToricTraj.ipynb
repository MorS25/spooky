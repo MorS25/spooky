{
 "cells": [
  {
   "cell_type": "code",
   "execution_count": 91,
   "metadata": {
    "collapsed": true
   },
   "outputs": [],
   "source": [
    "%matplotlib inline\n",
    "\n",
    "import matplotlib\n",
    "import matplotlib.pylab as pylab\n",
    "import matplotlib.pyplot as plt\n",
    "import matplotlib.cm as cm\n",
    "import matplotlib.patches as mpatches\n",
    "import numpy as np\n",
    "import numpy.linalg as la\n",
    "\n",
    "\n",
    "def add_relative_to_current_source_file_path_to_sys_path(relpath):\n",
    "    import os, sys, inspect\n",
    "    path = os.path.realpath(os.path.abspath(os.path.join(os.path.split(inspect.getfile(inspect.currentframe()))[0],relpath)))\n",
    "    if path not in sys.path:\n",
    "        sys.path.insert(0,path)\n",
    "\n",
    "add_relative_to_current_source_file_path_to_sys_path(\"../../shims/toric\")   \n",
    "\n",
    "import toric\n",
    "import toric.samples\n",
    "\n",
    "#\n",
    "# Helper functions for the toric libary\n",
    "#\n",
    "\n",
    "def vector3_to_str(v):\n",
    "    return \"(%.2f, %.2f, %.2f)\" % (v.x(), v.y(), v.z())\n",
    "    \n",
    "def toric_to_str(t):\n",
    "    return \"(a = %.2f°, t = %2.f°, p = %.2f°)\" % (t.getAlpha().valueDegrees(), t.getTheta().valueDegrees(), t.getPhi().valueDegrees())\n",
    "\n",
    "def vector3_to_np3(v):\n",
    "    return np.array([v.x(),v.y(),v.z()])\n",
    "\n",
    "def vector3_to_np2(v):\n",
    "    return np.array([v.x(),v.y()])\n",
    "\n",
    "def toric_to_cam_np(t, PA, PB):\n",
    "    c = toric.Toric3_ToWorldPosition(t, PA, PB)\n",
    "    return vector3_to_np3(c)\n"
   ]
  },
  {
   "cell_type": "code",
   "execution_count": 92,
   "metadata": {
    "collapsed": true
   },
   "outputs": [],
   "source": [
    "#\n",
    "# OK, let's assume we want to calculate a trajectory between these positions:\n",
    "#\n",
    "\n",
    "# let's set a minimum distance of 0.9m\n",
    "min_dist = 1\n",
    "\n",
    "# starting people positons\n",
    "PA_1 = toric.Vector3(0,0,0)\n",
    "PB_1 = toric.Vector3(2,0,0)\n",
    "\n",
    "# ending people positions: for the moment the positions are the same\n",
    "PA_2 = toric.Vector3(0,0,0)\n",
    "PB_2 = toric.Vector3(2,0,0)\n",
    "\n",
    "# Starting camera position is *outside* of PA_1:\n",
    "C_1 = toric.Vector3(-1,-0.5,0)\n",
    "C_2 = toric.Vector3( 3,-1,0)\n"
   ]
  },
  {
   "cell_type": "code",
   "execution_count": 93,
   "metadata": {
    "collapsed": false
   },
   "outputs": [],
   "source": [
    "def drawSetup():\n",
    "    pylab.rcParams['figure.figsize'] = 8, 8\n",
    "\n",
    "    circle_PA_1=plt.Circle((PA_1.x(),PA_1.y()),min_dist,color='g',alpha=0.5)\n",
    "    circle_PB_1=plt.Circle((PB_1.x(),PB_1.y()),min_dist,color='g',alpha=0.5)\n",
    "\n",
    "    fig = plt.gcf()\n",
    "    fig.gca().add_artist(circle_PA_1)\n",
    "    fig.gca().add_artist(circle_PB_1)\n",
    "\n",
    "    # Set up plot size\n",
    "    fudgeX = 3\n",
    "    fudgeY_pos = 2\n",
    "    fudgeY_neg = 8\n",
    "    plt.axes().set_xlim((np.min([PA_1.x(), PB_1.x()])-fudgeX,np.max([PA_1.x(), PB_1.x()])+fudgeX))\n",
    "    plt.axes().set_ylim((np.min([PA_1.y(), PB_1.y()])-fudgeY_neg,np.max([PA_1.y(), PB_1.y()])+fudgeY_pos))\n",
    "\n",
    "    # Draw People Positions\n",
    "    plt.scatter([PA_1.x(), PB_1.x()],[PA_1.y(), PB_1.y()],c=\"red\",linewidths=0)\n",
    "\n",
    "    # Draw Circles\n",
    "    \n",
    "    plt.axes().set_aspect('equal')\n",
    "\n",
    "    # Draw Camera positions\n",
    "    plt.scatter([C_1.x(), C_2.x()],[C_1.y(), C_2.y()],c=\"blue\",linewidths=0)\n",
    "\n",
    "def scatterplot_camera_arr(C):\n",
    "    plt.scatter(C[:,0],C[:,1],cmap='copper',linewidths=0)\n",
    "    "
   ]
  },
  {
   "cell_type": "code",
   "execution_count": 94,
   "metadata": {
    "collapsed": false
   },
   "outputs": [
    {
     "data": {
      "text/plain": [
       "<matplotlib.text.Text at 0x112982f90>"
      ]
     },
     "execution_count": 94,
     "metadata": {},
     "output_type": "execute_result"
    },
    {
     "data": {
      "image/png": "[encoded data removed]",
      "text/plain": [
       "<matplotlib.figure.Figure at 0x11293c050>"
      ]
     },
     "metadata": {},
     "output_type": "display_data"
    }
   ],
   "source": [
    "#\n",
    "# Consider interpolating visual features\n",
    "# (eg. lerp alpha, distance, vantage)\n",
    "#\n",
    "\n",
    "drawSetup()\n",
    "\n",
    "C_1_toric = toric.Toric3_FromWorldPosition(C_1,PA_1,PB_1)\n",
    "C_2_toric = toric.Toric3_FromWorldPosition(C_2,PA_1,PB_1)\n",
    "\n",
    "C_1_PA_1 = vector3_to_np3(C_1) - vector3_to_np3(PA_1)\n",
    "C_1_distance_A = la.norm(C_1_PA_1)\n",
    "C_1_PB_1 = vector3_to_np3(C_1) - vector3_to_np3(PB_1)\n",
    "C_1_distance_B = la.norm(C_1_PB_1)\n",
    "C_1_vantage_A = C_1_PA_1 / C_1_distance_A\n",
    "C_1_vantage_B = C_1_PB_1 / C_1_distance_B\n",
    "\n",
    "C_2_PA_1 = vector3_to_np3(C_2) - vector3_to_np3(PA_1)\n",
    "C_2_distance_A = la.norm(C_2_PA_1)\n",
    "C_2_PB_1 = vector3_to_np3(C_2) - vector3_to_np3(PB_1)\n",
    "C_2_distance_B = la.norm(C_2_PB_1)\n",
    "C_2_vantage_A = C_2_PA_1 / C_2_distance_A\n",
    "C_2_vantage_B = C_2_PB_1 / C_2_distance_B\n",
    "\n",
    "alpha_lin = np.linspace(C_1_toric.getAlpha().valueRadians(),C_2_toric.getAlpha().valueRadians())\n",
    "distance_A_lin = np.linspace(C_1_distance_A,C_2_distance_A)\n",
    "distance_B_lin = np.linspace(C_1_distance_B,C_2_distance_B)\n",
    "vantage_A_x_lin = np.linspace(C_1_vantage_A[0],C_2_vantage_A[0])\n",
    "vantage_A_y_lin = np.linspace(C_1_vantage_A[1],C_2_vantage_A[1])\n",
    "vantage_A_z_lin = np.linspace(C_1_vantage_A[2],C_2_vantage_A[2])\n",
    "vantage_B_x_lin = np.linspace(C_1_vantage_B[0],C_2_vantage_B[0])\n",
    "vantage_B_y_lin = np.linspace(C_1_vantage_B[1],C_2_vantage_B[1])\n",
    "vantage_B_z_lin = np.linspace(C_1_vantage_B[2],C_2_vantage_B[2])\n",
    "\n",
    "# Convert back to Cartesian and plot\n",
    "def map_visual_to_cam(a):\n",
    "    dist_A = a[0]\n",
    "    dist_B = a[1]\n",
    "    vant_A = np.array([a[2], a[3], a[4]])\n",
    "    vant_B = np.array([a[5], a[6], a[7]])\n",
    "    F = vector3_to_np3(PA_1) + vector3_to_np3(PB_1) # do we need gamma and dist_alpha?\n",
    "    F += (vant_A * dist_A)\n",
    "    F += (vant_B * dist_B)\n",
    "    F *= 0.5\n",
    "    return F\n",
    "\n",
    "V = np.c_[distance_A_lin, distance_B_lin, vantage_A_x_lin, vantage_A_y_lin, vantage_A_z_lin, vantage_B_x_lin, vantage_B_y_lin, vantage_B_z_lin]\n",
    "FC = np.apply_along_axis(map_visual_to_cam, axis=1, arr=V)\n",
    "\n",
    "scatterplot_camera_arr(FC)\n",
    "plt.title(\"LERP Camera Positions in Visual Features Space\")"
   ]
  },
  {
   "cell_type": "code",
   "execution_count": null,
   "metadata": {
    "collapsed": false
   },
   "outputs": [],
   "source": []
  }
 ],
 "metadata": {
  "kernelspec": {
   "display_name": "Python 2",
   "language": "python",
   "name": "python2"
  },
  "language_info": {
   "codemirror_mode": {
    "name": "ipython",
    "version": 2
   },
   "file_extension": ".py",
   "mimetype": "text/x-python",
   "name": "python",
   "nbconvert_exporter": "python",
   "pygments_lexer": "ipython2",
   "version": "2.7.10"
  }
 },
 "nbformat": 4,
 "nbformat_minor": 0
}
