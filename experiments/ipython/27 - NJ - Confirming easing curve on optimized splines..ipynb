{
 "cells": [
  {
   "cell_type": "code",
   "execution_count": 12,
   "metadata": {
    "collapsed": false
   },
   "outputs": [],
   "source": [
    "%matplotlib inline\n",
    "\n",
    "\n",
    "import matplotlib\n",
    "import matplotlib.pylab as pylab\n",
    "import matplotlib.pyplot as plt\n",
    "import matplotlib.cm as cm\n",
    "import matplotlib.patches as mpatches\n",
    "from matplotlib import gridspec\n",
    "\n",
    "import numpy as np\n",
    "\n",
    "P = np.array([[ 0.        , 2.        , 0.        ],\n",
    " [ 0.03820048, 2.01815074, 0.        ],\n",
    " [ 0.07672434, 2.03559015, 0.        ],\n",
    " [ 0.11555858, 2.05231253, 0.        ],\n",
    " [ 0.15469011, 2.06831246, 0.        ],\n",
    " [ 0.19410573, 2.08358472, 0.        ],\n",
    " [ 0.23379216, 2.09812434, 0.        ],\n",
    " [ 0.27373605, 2.11192659, 0.        ],\n",
    " [ 0.31392393, 2.12498698, 0.        ],\n",
    " [ 0.35434228, 2.13730125, 0.        ],\n",
    " [ 0.39497751, 2.1488654 , 0.        ],\n",
    " [ 0.43581594, 2.15967567, 0.        ],\n",
    " [ 0.47684384, 2.16972854, 0.        ],\n",
    " [ 0.51804743, 2.17902074, 0.        ],\n",
    " [ 0.55941284, 2.18754925, 0.        ],\n",
    " [ 0.60092618, 2.19531129, 0.        ],\n",
    " [ 0.64257351, 2.20230434, 0.        ],\n",
    " [ 0.68434083, 2.20852612, 0.        ],\n",
    " [ 0.72621412, 2.21397462, 0.        ],\n",
    " [ 0.76817932, 2.21864805, 0.        ],\n",
    " [ 0.81022233, 2.2225449 , 0.        ],\n",
    " [ 0.85232905, 2.2256639 , 0.        ],\n",
    " [ 0.89448533, 2.22800404, 0.        ],\n",
    " [ 0.93667703, 2.22956456, 0.        ],\n",
    " [ 0.97888998, 2.23034494, 0.        ],\n",
    " [ 1.02111002, 2.23034494, 0.        ],\n",
    " [ 1.06332297, 2.22956456, 0.        ],\n",
    " [ 1.10551467, 2.22800404, 0.        ],\n",
    " [ 1.14767095, 2.2256639 , 0.        ],\n",
    " [ 1.18977767, 2.2225449 , 0.        ],\n",
    " [ 1.23182068, 2.21864805, 0.        ],\n",
    " [ 1.27378588, 2.21397462, 0.        ],\n",
    " [ 1.31565917, 2.20852612, 0.        ],\n",
    " [ 1.35742649, 2.20230434, 0.        ],\n",
    " [ 1.39907382, 2.19531129, 0.        ],\n",
    " [ 1.44058716, 2.18754925, 0.        ],\n",
    " [ 1.48195257, 2.17902074, 0.        ],\n",
    " [ 1.52315616, 2.16972854, 0.        ],\n",
    " [ 1.56418406, 2.15967567, 0.        ],\n",
    " [ 1.60502249, 2.1488654 , 0.        ],\n",
    " [ 1.64565772, 2.13730125, 0.        ],\n",
    " [ 1.68607607, 2.12498698, 0.        ],\n",
    " [ 1.72626395, 2.11192659, 0.        ],\n",
    " [ 1.76620784, 2.09812434, 0.        ],\n",
    " [ 1.80589427, 2.08358472, 0.        ],\n",
    " [ 1.84530989, 2.06831246, 0.        ],\n",
    " [ 1.88444142, 2.05231253, 0.        ],\n",
    " [ 1.92327566, 2.03559015, 0.        ],\n",
    " [ 1.96179952, 2.01815074, 0.        ],\n",
    " [ 2.        , 2.        , 0.        ]])"
   ]
  },
  {
   "cell_type": "code",
   "execution_count": 13,
   "metadata": {
    "collapsed": false
   },
   "outputs": [],
   "source": [
    "RP = np.array([[  7.31836466e-16, 2.00000000e+00, 0.00000000e+00], \n",
    " [  1.35572702e-03, 2.00065111e+00, 0.00000000e+00], \n",
    " [  4.34695674e-03, 2.00208466e+00, 0.00000000e+00], \n",
    " [  8.36112722e-03, 2.00400496e+00, 0.00000000e+00], \n",
    " [  1.28918396e-02, 2.00616814e+00, 0.00000000e+00], \n",
    " [  1.75745787e-02, 2.00839905e+00, 0.00000000e+00], \n",
    " [  2.22075234e-02, 2.01060107e+00, 0.00000000e+00], \n",
    " [  2.67405379e-02, 2.01275004e+00, 0.00000000e+00], \n",
    " [  3.12781705e-02, 2.01489478e+00, 0.00000000e+00], \n",
    " [  3.60773730e-02, 2.01715454e+00, 0.00000000e+00], \n",
    " [  4.14847065e-02, 2.01968678e+00, 0.00000000e+00], \n",
    " [  4.76270540e-02, 2.02254099e+00, 0.00000000e+00], \n",
    " [  5.44441292e-02, 2.02567491e+00, 0.00000000e+00], \n",
    " [  6.18146160e-02, 2.02901225e+00, 0.00000000e+00], \n",
    " [  6.96050482e-02, 2.03247357e+00, 0.00000000e+00], \n",
    " [  7.79035580e-02, 2.03610401e+00, 0.00000000e+00], \n",
    " [  8.68991089e-02, 2.04000876e+00, 0.00000000e+00], \n",
    " [  9.66190674e-02, 2.04420764e+00, 0.00000000e+00], \n",
    " [  1.07015312e-01, 2.04867518e+00, 0.00000000e+00], \n",
    " [  1.18136445e-01, 2.05340143e+00, 0.00000000e+00], \n",
    " [  1.30105661e-01, 2.05839752e+00, 0.00000000e+00], \n",
    " [  1.42962178e-01, 2.06363741e+00, 0.00000000e+00], \n",
    " [  1.56719332e-01, 2.06911410e+00, 0.00000000e+00], \n",
    " [  1.71445035e-01, 2.07487894e+00, 0.00000000e+00], \n",
    " [  1.87170889e-01, 2.08094584e+00, 0.00000000e+00], \n",
    " [  2.03952889e-01, 2.08728366e+00, 0.00000000e+00], \n",
    " [  2.21860652e-01, 2.09385387e+00, 0.00000000e+00], \n",
    " [  2.40933890e-01, 2.10064617e+00, 0.00000000e+00], \n",
    " [  2.61210938e-01, 2.10767889e+00, 0.00000000e+00], \n",
    " [  2.82734241e-01, 2.11492725e+00, 0.00000000e+00], \n",
    " [  3.05554148e-01, 2.12233815e+00, 0.00000000e+00], \n",
    " [  3.29702827e-01, 2.12988737e+00, 0.00000000e+00], \n",
    " [  3.55204955e-01, 2.13755537e+00, 0.00000000e+00], \n",
    " [  3.82087694e-01, 2.14528688e+00, 0.00000000e+00], \n",
    " [  4.10366869e-01, 2.15303253e+00, 0.00000000e+00], \n",
    " [  4.40046288e-01, 2.16074976e+00, 0.00000000e+00], \n",
    " [  4.71124067e-01, 2.16837549e+00, 0.00000000e+00], \n",
    " [  5.03585376e-01, 2.17584996e+00, 0.00000000e+00], \n",
    " [  5.37403310e-01, 2.18311096e+00, 0.00000000e+00], \n",
    " [  5.72539267e-01, 2.19008935e+00, 0.00000000e+00], \n",
    " [  6.08940516e-01, 2.19671860e+00, 0.00000000e+00], \n",
    " [  6.46541211e-01, 2.20292932e+00, 0.00000000e+00], \n",
    " [  6.85261545e-01, 2.20865440e+00, 0.00000000e+00], \n",
    " [  7.25008260e-01, 2.21382871e+00, 0.00000000e+00], \n",
    " [  7.65675064e-01, 2.21839117e+00, 0.00000000e+00], \n",
    " [  8.07143498e-01, 2.22228611e+00, 0.00000000e+00], \n",
    " [  8.49284124e-01, 2.22546459e+00, 0.00000000e+00], \n",
    " [  8.91958011e-01, 2.22788576e+00, 0.00000000e+00], \n",
    " [  9.35018526e-01, 2.22951796e+00, 0.00000000e+00], \n",
    " [  9.78313344e-01, 2.23033954e+00, 0.00000000e+00], \n",
    " [  1.02168666e+00, 2.23033954e+00, 0.00000000e+00], \n",
    " [  1.06498147e+00, 2.22951796e+00, 0.00000000e+00], \n",
    " [  1.10804199e+00, 2.22788576e+00, 0.00000000e+00], \n",
    " [  1.15071588e+00, 2.22546459e+00, 0.00000000e+00], \n",
    " [  1.19285650e+00, 2.22228611e+00, 0.00000000e+00], \n",
    " [  1.23432494e+00, 2.21839117e+00, 0.00000000e+00], \n",
    " [  1.27499174e+00, 2.21382871e+00, 0.00000000e+00], \n",
    " [  1.31473845e+00, 2.20865440e+00, 0.00000000e+00], \n",
    " [  1.35345879e+00, 2.20292932e+00, 0.00000000e+00], \n",
    " [  1.39105948e+00, 2.19671860e+00, 0.00000000e+00], \n",
    " [  1.42746073e+00, 2.19008935e+00, 0.00000000e+00], \n",
    " [  1.46259669e+00, 2.18311096e+00, 0.00000000e+00], \n",
    " [  1.49641462e+00, 2.17584996e+00, 0.00000000e+00], \n",
    " [  1.52887593e+00, 2.16837549e+00, 0.00000000e+00], \n",
    " [  1.55995371e+00, 2.16074976e+00, 0.00000000e+00], \n",
    " [  1.58963313e+00, 2.15303253e+00, 0.00000000e+00], \n",
    " [  1.61791231e+00, 2.14528688e+00, 0.00000000e+00], \n",
    " [  1.64479504e+00, 2.13755537e+00, 0.00000000e+00], \n",
    " [  1.67029717e+00, 2.12988737e+00, 0.00000000e+00], \n",
    " [  1.69444585e+00, 2.12233815e+00, 0.00000000e+00], \n",
    " [  1.71726576e+00, 2.11492725e+00, 0.00000000e+00], \n",
    " [  1.73878906e+00, 2.10767889e+00, 0.00000000e+00], \n",
    " [  1.75906611e+00, 2.10064617e+00, 0.00000000e+00], \n",
    " [  1.77813935e+00, 2.09385387e+00, 0.00000000e+00], \n",
    " [  1.79604711e+00, 2.08728366e+00, 0.00000000e+00], \n",
    " [  1.81282911e+00, 2.08094584e+00, 0.00000000e+00], \n",
    " [  1.82855496e+00, 2.07487894e+00, 0.00000000e+00], \n",
    " [  1.84328067e+00, 2.06911410e+00, 0.00000000e+00], \n",
    " [  1.85703782e+00, 2.06363741e+00, 0.00000000e+00], \n",
    " [  1.86989434e+00, 2.05839752e+00, 0.00000000e+00], \n",
    " [  1.88186356e+00, 2.05340143e+00, 0.00000000e+00], \n",
    " [  1.89298469e+00, 2.04867518e+00, 0.00000000e+00], \n",
    " [  1.90338093e+00, 2.04420764e+00, 0.00000000e+00], \n",
    " [  1.91310089e+00, 2.04000876e+00, 0.00000000e+00], \n",
    " [  1.92209644e+00, 2.03610401e+00, 0.00000000e+00], \n",
    " [  1.93039495e+00, 2.03247357e+00, 0.00000000e+00], \n",
    " [  1.93818538e+00, 2.02901225e+00, 0.00000000e+00], \n",
    " [  1.94555587e+00, 2.02567491e+00, 0.00000000e+00], \n",
    " [  1.95237295e+00, 2.02254099e+00, 0.00000000e+00], \n",
    " [  1.95851529e+00, 2.01968678e+00, 0.00000000e+00], \n",
    " [  1.96392263e+00, 2.01715454e+00, 0.00000000e+00], \n",
    " [  1.96872183e+00, 2.01489478e+00, 0.00000000e+00], \n",
    " [  1.97325946e+00, 2.01275004e+00, 0.00000000e+00], \n",
    " [  1.97779248e+00, 2.01060107e+00, 0.00000000e+00], \n",
    " [  1.98242542e+00, 2.00839905e+00, 0.00000000e+00], \n",
    " [  1.98710816e+00, 2.00616814e+00, 0.00000000e+00], \n",
    " [  1.99163887e+00, 2.00400496e+00, 0.00000000e+00], \n",
    " [  1.99565304e+00, 2.00208466e+00, 0.00000000e+00], \n",
    " [  1.99864427e+00, 2.00065111e+00, 0.00000000e+00], \n",
    " [  2.00000000e+00, 2.00000000e+00, 0.00000000e+00]])"
   ]
  },
  {
   "cell_type": "code",
   "execution_count": 17,
   "metadata": {
    "collapsed": false
   },
   "outputs": [
    {
     "data": {
      "text/plain": [
       "<matplotlib.collections.PathCollection at 0x10e49a190>"
      ]
     },
     "execution_count": 17,
     "metadata": {},
     "output_type": "execute_result"
    },
    {
     "data": {
      "image/png": "[encoded data removed]",
      "text/plain": [
       "<matplotlib.figure.Figure at 0x106e14590>"
      ]
     },
     "metadata": {},
     "output_type": "display_data"
    }
   ],
   "source": [
    "plt.scatter(P[:,0],P[:,1])"
   ]
  },
  {
   "cell_type": "code",
   "execution_count": 18,
   "metadata": {
    "collapsed": false
   },
   "outputs": [
    {
     "data": {
      "text/plain": [
       "<matplotlib.collections.PathCollection at 0x10e90b490>"
      ]
     },
     "execution_count": 18,
     "metadata": {},
     "output_type": "execute_result"
    },
    {
     "data": {
      "image/png": "[encoded data removed]",
      "text/plain": [
       "<matplotlib.figure.Figure at 0x10e402c10>"
      ]
     },
     "metadata": {},
     "output_type": "display_data"
    }
   ],
   "source": [
    "plt.scatter(RP[:,0],RP[:,1])"
   ]
  },
  {
   "cell_type": "code",
   "execution_count": 31,
   "metadata": {
    "collapsed": false
   },
   "outputs": [
    {
     "data": {
      "text/plain": [
       "[<matplotlib.lines.Line2D at 0x10ee96610>]"
      ]
     },
     "execution_count": 31,
     "metadata": {},
     "output_type": "execute_result"
    },
    {
     "data": {
      "image/png": "[encoded data removed]",
      "text/plain": [
       "<matplotlib.figure.Figure at 0x10ec28810>"
      ]
     },
     "metadata": {},
     "output_type": "display_data"
    }
   ],
   "source": [
    "num_samples_sigmoid = 100\n",
    "t_sigmoid_min       = -6\n",
    "t_sigmoid_max       = 6\n",
    "t_sigmoid           = np.linspace(t_sigmoid_min,t_sigmoid_max,num_samples_sigmoid)\n",
    "sigmoid             = 1 / (1 + np.power(np.e,-t_sigmoid))\n",
    "normalized_sigmoid  = (sigmoid - min(sigmoid)) / (max(sigmoid)-min(sigmoid))\n",
    "user_progress       = normalized_sigmoid\n",
    "\n",
    "plt.plot(user_progress)"
   ]
  },
  {
   "cell_type": "code",
   "execution_count": 32,
   "metadata": {
    "collapsed": false
   },
   "outputs": [],
   "source": [
    "A = np.array([-92731.51,     -39600.,         -785.650452])\n",
    "B = np.array([-95761.84,    -39600.,       -1229.52979])"
   ]
  },
  {
   "cell_type": "code",
   "execution_count": 36,
   "metadata": {
    "collapsed": false
   },
   "outputs": [
    {
     "name": "stdout",
     "output_type": "stream",
     "text": [
      "True\n",
      "yes\n"
     ]
    }
   ],
   "source": [
    "print A.all()\n",
    "if A.all == B.all():\n",
    "    print \"yes\""
   ]
  },
  {
   "cell_type": "code",
   "execution_count": null,
   "metadata": {
    "collapsed": true
   },
   "outputs": [],
   "source": []
  }
 ],
 "metadata": {
  "kernelspec": {
   "display_name": "Python 2",
   "language": "python",
   "name": "python2"
  },
  "language_info": {
   "codemirror_mode": {
    "name": "ipython",
    "version": 2
   },
   "file_extension": ".py",
   "mimetype": "text/x-python",
   "name": "python",
   "nbconvert_exporter": "python",
   "pygments_lexer": "ipython2",
   "version": "2.7.6"
  }
 },
 "nbformat": 4,
 "nbformat_minor": 0
}
