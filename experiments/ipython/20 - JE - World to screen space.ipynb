{
 "cells": [
  {
   "cell_type": "code",
   "execution_count": 1,
   "metadata": {
    "collapsed": false
   },
   "outputs": [],
   "source": [
    "%load_ext autoreload\n",
    "%autoreload 2\n",
    "\n",
    "%matplotlib inline\n",
    "import matplotlib\n",
    "import matplotlib.pylab as pylab\n",
    "import matplotlib.pyplot as plt\n",
    "import matplotlib.cm as cm\n",
    "import matplotlib.patches as mpatches\n",
    "from matplotlib import gridspec\n",
    "\n",
    "import numpy as np\n",
    "import scipy.sparse as sp\n",
    "import numpy.linalg as la"
   ]
  },
  {
   "cell_type": "code",
   "execution_count": 2,
   "metadata": {
    "collapsed": false
   },
   "outputs": [],
   "source": [
    "# VECTOR<float,2> OPENGL_WORLD::\n",
    "# Project_World_Space_Point_Onto_Image_Plane(const TV& world_space_point)\n",
    "# {\n",
    "#     MATRIX<float,4> perspective_matrix;\n",
    "#     perspective_matrix(1,1)=(1/tan(.5f*fovy*(float)pi/180))*(float)window-      >Height()/(float)window->Width();\n",
    "#     perspective_matrix(2,2)=1/tan(.5f*fovy*(float)pi/180);\n",
    "#     perspective_matrix(3,3)=(farclip+nearclip)/(nearclip-farclip);\n",
    "#     perspective_matrix(3,4)=(2*farclip*nearclip)/(nearclip-farclip);\n",
    "#     perspective_matrix(4,3)=-1;\n",
    "\n",
    "#     VECTOR<T,3> eye_space_point=TV(0.f,0.f,-camera_distance)+(arcball_matrix).Homogeneous_Times(world_space_point-target_position);\n",
    "#     VECTOR<T,3> image_space_point=perspective_matrix.Homogeneous_Times(eye_space_point);\n",
    "#     image_space_point(1)=((float)window->Width())*image_space_point(1)/2+((float)window->Width())/2;\n",
    "#     image_space_point(2)=((float)window->Height())*image_space_point(2)/2+((float)window->Height())/2;\n",
    "#     return VECTOR<float,2>(image_space_point(1),image_space_point(2));\n",
    "# }\n",
    "\n",
    "# https://www.opengl.org/sdk/docs/man2/xhtml/gluPerspective.xml\n",
    "# https://unspecified.wordpress.com/2012/06/21/calculating-the-gluperspective-matrix-and-other-opengl-matrix-maths/\n",
    "def perspective_matrix(fovY, aspect, near, far):\n",
    "    print fovY\n",
    "    print aspect\n",
    "    f = 1.0 / np.tan (fovY / 2.0)\n",
    "    p_matrix = np.matrix([[f/aspect, 0.0, 0.0, 0.0],\n",
    "                          [0.0, f, 0.0, 0.0],\n",
    "                          [0.0, 0.0, (far+near)/(near-far), (2.0*far*near)/(near-far)], \n",
    "                          [0.0, 0.0, -1.0, 0.0]])\n",
    "    return p_matrix\n",
    "\n",
    "# axes to camera space\n",
    "def arcball_matrix(camForward, camUp):\n",
    "    z = -camForward\n",
    "    z = z / la.norm(z) # forward\n",
    "    y = camUp # up\n",
    "    x = np.cross(y, z) # right\n",
    "    y = np.cross(z, x)\n",
    "    x = x / la.norm(x)\n",
    "    y = y / la.norm(y)\n",
    "    return np.matrix([[x[0], x[1], x[2], 0.0], \n",
    "                      [y[0], y[1], y[2], 0.0],\n",
    "                      [z[0], z[1], z[2], 0.0],\n",
    "                      [0.0, 0.0, 0.0, 1.0]])\n",
    "\n",
    "def homogeneous_times(matrix, vec3):\n",
    "    homogeneous_point = np.matrix([vec3[0], vec3[1], vec3[2], 1.0])\n",
    "    vec4 = matrix * np.transpose(homogeneous_point)\n",
    "    homogeneous_return = np.array([vec4[0]/vec4[3], vec4[1]/vec4[3], vec4[2]/vec4[3]])\n",
    "    homogeneous_return = np.reshape(homogeneous_return, (1, 3))\n",
    "    return np.array([homogeneous_return[0][0], homogeneous_return[0][1], homogeneous_return[0][2]])"
   ]
  },
  {
   "cell_type": "code",
   "execution_count": 3,
   "metadata": {
    "collapsed": false
   },
   "outputs": [
    {
     "name": "stdout",
     "output_type": "stream",
     "text": [
      "cam =  [-92.9 -39.6  -0.8]\n",
      "forward =  [-1.  0.  0.]\n",
      "up =  [ 0.  0. -1.]\n",
      "0.8726646\n",
      "1.77777777778\n",
      "cam =  [-92.9 -39.6  -0.8]\n",
      "forward =  [-1.  0.  0.]\n",
      "up =  [ 0.  0. -1.]\n",
      "0.8726646\n",
      "1.77777777778\n",
      "SA  [ 0.22760098  0.32369917]\n",
      "SB  [-0.22760098  0.32369917]\n"
     ]
    }
   ],
   "source": [
    "# Conversion from world space to camera screen space\n",
    "def world_to_screen(point, cam, forward, up, fovY, aspect):\n",
    "    print \"cam = \", cam\n",
    "    print \"forward = \", forward\n",
    "    print \"up = \", up\n",
    "\n",
    "    proj = perspective_matrix(fovY, aspect, 0.1, 100.0)\n",
    "    #print \"proj\"\n",
    "    #print proj\n",
    "    arcball = arcball_matrix(forward, up)\n",
    "    #print \"arcball\"\n",
    "    #print arcball\n",
    "\n",
    "    look = cam + forward\n",
    "    eye_space_point = np.array([0.0, 0.0, -1.0]) + homogeneous_times(arcball, point - look)\n",
    "    #print \"eye_space_point \", eye_space_point\n",
    "\n",
    "    image_space_point = homogeneous_times(proj, eye_space_point)\n",
    "    #print \"image_space_point \", image_space_point\n",
    "    return np.array([image_space_point[0], image_space_point[1]])\n",
    "\n",
    "# Apex shot (from Unity: z,x,-y)\n",
    "# Apex - new camera position: (-39.6, 0.8, -92.7) orientation (0.0, 180.0, 0.0) forward (0.0, 0.0, -1.0) up (0.0, 1.0, 0.0)\n",
    "\n",
    "# camera specs (position, forward, up, fov)\n",
    "C = np.array([-92.9,-39.6,-0.8])\n",
    "fwd = np.array([-1.0,0.0,0.0])\n",
    "u = np.array([0.0,0.0,-1.0])\n",
    "a = 16.0/9.0\n",
    "fvY = 0.8726646\n",
    "\n",
    "# scene specs\n",
    "PA = np.array([-98.2,-40.6,-1.6])     # person A position\n",
    "PB = np.array([-98.2,-38.6,-1.6])     # person B position\n",
    "\n",
    "SA = world_to_screen(PA, C, fwd, u, fvY, a) # 0.220588 0.314124\n",
    "SB = world_to_screen(PB, C, fwd, u, fvY, a) # -0.220588 0.314124\n",
    "\n",
    "print \"SA \", SA\n",
    "print \"SB \", SB"
   ]
  },
  {
   "cell_type": "code",
   "execution_count": 6,
   "metadata": {
    "collapsed": false
   },
   "outputs": [
    {
     "name": "stdout",
     "output_type": "stream",
     "text": [
      "cam =  [-96.5 -42.6  -1.3]\n",
      "forward =  [-0.5  0.9  0. ]\n",
      "up =  [ 0.  0. -1.]\n",
      "0.8726646\n",
      "1.77777777778\n",
      "cam =  [-96.5 -42.6  -1.3]\n",
      "forward =  [-0.5  0.9  0. ]\n",
      "up =  [ 0.  0. -1.]\n",
      "0.8726646\n",
      "1.77777777778\n",
      "SA  [ 0.24406023  0.25285573]\n",
      "SB  [-0.12828283  0.14987263]\n"
     ]
    }
   ],
   "source": [
    "# External shot (from Unity: z,x,-y)\n",
    "# External - new camera position: (-42.6, 1.3, -96.5) orientation (0.0, 120.0, 0.0) forward (0.9, 0.0, -0.5) up (0.0, 1.0, 0.0)\n",
    "\n",
    "# camera specs (position, forward, up, fov)\n",
    "C_e = np.array([-96.5,-42.6,-1.3])\n",
    "fwd_e = np.array([-0.5,0.9,0.0])\n",
    "u_e = np.array([0.0,0.0,-1.0])\n",
    "\n",
    "SA_e = world_to_screen(PA, C_e, fwd_e, u_e, fvY, a) # 0.2411121 0.2592802\n",
    "SB_e = world_to_screen(PB, C_e, fwd_e, u_e, fvY, a) # -0.137811 0.1544899\n",
    "\n",
    "print \"SA \", SA_e\n",
    "print \"SB \", SB_e"
   ]
  },
  {
   "cell_type": "code",
   "execution_count": 7,
   "metadata": {
    "collapsed": false
   },
   "outputs": [
    {
     "name": "stdout",
     "output_type": "stream",
     "text": [
      "cam =  [-95.7 -39.6  -5.1]\n",
      "forward =  [-0.5  0.   0.9]\n",
      "up =  [-0.9  0.  -0.5]\n",
      "0.8726646\n",
      "1.77777777778\n",
      "cam =  [-95.7 -39.6  -5.1]\n",
      "forward =  [-0.5  0.   0.9]\n",
      "up =  [-0.9  0.  -0.5]\n",
      "0.8726646\n",
      "1.77777777778\n",
      "SA  [ 0.28422673  0.24539147]\n",
      "SB  [-0.28422673  0.24539147]\n"
     ]
    }
   ],
   "source": [
    "# Topdown shot (from Unity: z,x,-y)\n",
    "# TopDown - new camera position: (-39.6, 5.1, -95.7) orientation (60.0, 180.0, 0.0) forward (0.0, -0.9, -0.5) up (0.0, 0.5, -0.9)\n",
    "\n",
    "# camera specs (position, forward, up, fov)\n",
    "C_t = np.array([-95.7,-39.6,-5.1])\n",
    "fwd_t = np.array([-0.5,0.0,0.9])\n",
    "u_t = np.array([-0.9,0.0,-0.5])\n",
    "\n",
    "SA_t = world_to_screen(PA, C_t, fwd_t, u_t, fvY, a) # 0.2838974 0.2176768\n",
    "SB_t = world_to_screen(PB, C_t, fwd_t, u_t, fvY, a) # -0.2838974 0.2176768\n",
    "\n",
    "print \"SA \", SA_t \n",
    "print \"SB \", SB_t "
   ]
  },
  {
   "cell_type": "code",
   "execution_count": 8,
   "metadata": {
    "collapsed": false
   },
   "outputs": [
    {
     "data": {
      "image/png": "[encoded data removed]",
      "text/plain": [
       "<matplotlib.figure.Figure at 0x10db06b10>"
      ]
     },
     "metadata": {},
     "output_type": "display_data"
    }
   ],
   "source": [
    "def add_relative_to_current_source_file_path_to_sys_path(relpath):\n",
    "    import os, sys, inspect\n",
    "    path = os.path.realpath(os.path.abspath(os.path.join(os.path.split(inspect.getfile(inspect.currentframe()))[0],relpath)))\n",
    "    if path not in sys.path:\n",
    "        sys.path.insert(0,path)\n",
    "\n",
    "add_relative_to_current_source_file_path_to_sys_path(\"../../shims/toric\")   \n",
    "\n",
    "import toric\n",
    "import toric.samples\n",
    "import toric.shims\n",
    "\n",
    "#\n",
    "# Helper functions for the toric libary\n",
    "#\n",
    "\n",
    "def vector3_to_str(v):\n",
    "    return \"(%.2f, %.2f, %.2f)\" % (v.x(), v.y(), v.z())\n",
    "\n",
    "def quaternion_to_str(q):\n",
    "    return \"(w,x,y,z): (%.2f, %.2f, %.2f, %.2f)\" % (q.w(), q.x(), q.y(), q.z())\n",
    "\n",
    "def vector3_to_np3(v):\n",
    "    return np.array([v.x(),v.y(),v.z()])\n",
    "\n",
    "def np3_to_vector3(v):\n",
    "    return toric.Vector3(v[0],v[1],v[2])\n",
    "\n",
    "def slerp(p0, p1, t):\n",
    "        omega = np.arccos(np.dot(p0/np.linalg.norm(p0), p1/np.linalg.norm(p1)))\n",
    "        so = np.sin(omega)\n",
    "        return np.sin((1.0-t)*omega) / so * p0 + np.sin(t*omega)/so * p1\n",
    "    \n",
    "def drawSetup(fudgeX=8, fudgeY_pos=4,fudgeY_neg=8):\n",
    "    pylab.rcParams['figure.figsize'] = 8, 8\n",
    "\n",
    "    plt.axes().set_aspect('equal')\n",
    "    fig = plt.gcf()\n",
    "    \n",
    "    # Set up plot size\n",
    "    plt.axes().set_xlim((np.min([PA_1.x(), PB_1.x()])-fudgeX,np.max([PA_1.x(), PB_1.x()])+fudgeX))\n",
    "    plt.axes().set_ylim((np.min([PA_1.y(), PB_1.y()])-fudgeY_neg,np.max([PA_1.y(), PB_1.y()])+fudgeY_pos))\n",
    "\n",
    "    # Draw People Positions\n",
    "    plt.scatter([PA_1.x(), PB_1.x()],[PA_1.y(), PB_1.y()],c=\"red\",linewidths=0)\n",
    "    line_AB = plt.Line2D([PA_1.x(), PB_1.x()],[PA_1.y(), PB_1.y()], c=\"black\",alpha=0.3)\n",
    "    fig.gca().add_artist(line_AB)\n",
    "\n",
    "    # Draw Circles    \n",
    "    circle_PA_1=plt.Circle((PA_1.x(),PA_1.y()),min_dist,color='g',alpha=0.5)\n",
    "    circle_PB_1=plt.Circle((PB_1.x(),PB_1.y()),min_dist,color='g',alpha=0.5)\n",
    "    \n",
    "    fig.gca().add_artist(circle_PA_1)\n",
    "    fig.gca().add_artist(circle_PB_1)\n",
    "\n",
    "    plt.annotate(s=\"A\", xy=(PA_1.x(),PA_1.y()),xytext=(3,4),textcoords=\"offset points\")\n",
    "    plt.annotate(s=\"B\", xy=(PB_1.x(),PB_1.y()),xytext=(3,4),textcoords=\"offset points\")\n",
    "    \n",
    "    # Draw Camera positions - including toric interpolation\n",
    "    plt.scatter([C_1.x(), C_2.x()],[C_1.y(), C_2.y()],c=\"blue\",linewidths=0)\n",
    "    plt.annotate(s=\"C1\", xy=(C_1.x(), C_1.y()),xytext=(3,4),textcoords=\"offset points\")\n",
    "    plt.annotate(s=\"C2\", xy=(C_2.x(), C_2.y()),xytext=(3,4),textcoords=\"offset points\")\n",
    "    plt.plot(sigma[:,0],sigma[:,1])\n",
    "    \n",
    "# Start - Apex\n",
    "# End - External\n",
    "C_1 = toric.Vector3(C[0], C[1], C[2])\n",
    "C_2 = toric.Vector3(C_e[0], C_e[1], C_e[2])\n",
    "\n",
    "min_dist = 2.5\n",
    "PA_1 = toric.Vector3(PA[0], PA[1], PA[2])\n",
    "PB_1 = toric.Vector3(PB[0], PB[1], PB[2])\n",
    "\n",
    "# toric position trajectory\n",
    "C_1t = toric.Toric3_FromWorldPosition(C_1, PA_1, PB_1)\n",
    "C_2t = toric.Toric3_FromWorldPosition(C_2, PA_1, PB_1)\n",
    "\n",
    "interp = toric.ToricInterpolator(PA_1, PB_1, C_1t, C_2t)\n",
    "\n",
    "t = np.linspace(0,1)\n",
    "sigma = np.array([toric.Toric3_ToWorldPosition(interp.interpolate(a),PA_1,PB_1).np() for a in t])\n",
    "\n",
    "drawSetup(fudgeY_neg=4)"
   ]
  },
  {
   "cell_type": "code",
   "execution_count": 9,
   "metadata": {
    "collapsed": false
   },
   "outputs": [
    {
     "data": {
      "image/png": "[encoded data removed]",
      "text/plain": [
       "<matplotlib.figure.Figure at 0x10e44e110>"
      ]
     },
     "metadata": {},
     "output_type": "display_data"
    }
   ],
   "source": [
    "# graph in screen space\n",
    "def drawScreenSetup():\n",
    "    pylab.rcParams['figure.figsize'] = 9, 16\n",
    "\n",
    "    plt.axes().set_aspect('equal')\n",
    "    fig = plt.gcf()\n",
    "    \n",
    "    # Set up plot size\n",
    "    plt.axes().set_xlim(-1, 1)\n",
    "    plt.axes().set_ylim(-1, 1)\n",
    "    \n",
    "    # Draw rule of thirds\n",
    "    line_l = plt.Line2D([-0.33, -0.33],[-1, 1], c=\"black\",alpha=0.3)\n",
    "    line_r = plt.Line2D([0.33, 0.33],[-1, 1], c=\"black\",alpha=0.3)\n",
    "    line_b = plt.Line2D([-1, 1],[-0.33, -0.33], c=\"black\",alpha=0.3)\n",
    "    line_t = plt.Line2D([-1, 1],[0.33, 0.33], c=\"black\",alpha=0.3)\n",
    "    fig.gca().add_artist(line_l)\n",
    "    fig.gca().add_artist(line_r)\n",
    "    fig.gca().add_artist(line_b)\n",
    "    fig.gca().add_artist(line_t)\n",
    "\n",
    "    # Draw interpolated positions\n",
    "    plt.scatter(SA_x_lin,SA_y_lin,cmap='copper',linewidths=0)\n",
    "    plt.scatter(SB_x_lin,SB_y_lin,cmap='copper',linewidths=0)\n",
    "    \n",
    "    # Draw A screen positions\n",
    "    plt.scatter([SA_1.x(), SA_2.x()],[SA_1.y(), SA_2.y()],c=\"red\",linewidths=0)\n",
    "    line_A = plt.Line2D([SA_1.x(), SA_2.x()],[SA_1.y(), SA_2.y()], c=\"black\",alpha=0.3)\n",
    "    plt.annotate(s=\"SA1\", xy=(SA_1.x(), SA_1.y()),xytext=(3,4),textcoords=\"offset points\")\n",
    "    plt.annotate(s=\"SA2\", xy=(SA_2.x(), SA_2.y()),xytext=(3,4),textcoords=\"offset points\")\n",
    "    fig.gca().add_artist(line_A)\n",
    "    \n",
    "    # Draw B screen positions\n",
    "    plt.scatter([SB_1.x(), SB_2.x()],[SB_1.y(), SB_2.y()],c=\"red\",linewidths=0)\n",
    "    line_B = plt.Line2D([SB_1.x(), SB_2.x()],[SB_1.y(), SB_2.y()], c=\"black\",alpha=0.3)\n",
    "    plt.annotate(s=\"SB1\", xy=(SB_1.x(), SB_1.y()),xytext=(3,4),textcoords=\"offset points\")\n",
    "    plt.annotate(s=\"SB2\", xy=(SB_2.x(), SB_2.y()),xytext=(3,4),textcoords=\"offset points\")\n",
    "    fig.gca().add_artist(line_B)\n",
    "\n",
    "# Set screen space for apex -> external\n",
    "SA_1 = toric.Vector2(SA[0], SA[1])\n",
    "SA_2 = toric.Vector2(SA_e[0], SA_e[1])\n",
    "\n",
    "SB_1 = toric.Vector2(SB[0], SB[1])\n",
    "SB_2 = toric.Vector2(SB_e[0], SB_e[1])\n",
    "\n",
    "# interpolated screen space positions\n",
    "SA_x_lin = np.linspace(SA_1.x(),SA_2.x())\n",
    "SA_y_lin = np.linspace(SA_1.y(),SA_2.y())\n",
    "\n",
    "SB_x_lin = np.linspace(SB_1.x(),SB_2.x())\n",
    "SB_y_lin = np.linspace(SB_1.y(),SB_2.y())\n",
    "\n",
    "drawScreenSetup()"
   ]
  },
  {
   "cell_type": "code",
   "execution_count": 10,
   "metadata": {
    "collapsed": false
   },
   "outputs": [
    {
     "name": "stdout",
     "output_type": "stream",
     "text": [
      "(w,x,y,z): (0.00, 0.71, -0.71, -0.00)\n",
      "(w,x,y,z): (0.18, 0.25, -0.95, 0.05)\n"
     ]
    },
    {
     "data": {
      "image/png": "[encoded data removed]",
      "text/plain": [
       "<matplotlib.figure.Figure at 0x10db24bd0>"
      ]
     },
     "metadata": {},
     "output_type": "display_data"
    }
   ],
   "source": [
    "def fovX_from_fovY(fovY, aspect):\n",
    "    tanY = np.tan(fovY / 2.0)\n",
    "    tanX = tanY * aspect;\n",
    "    fovX = np.arctan(tanX)\n",
    "    return fovX\n",
    "\n",
    "fvX = fovX_from_fovY(fvY, a)\n",
    "rotation_1 = toric.Toric3_ComputeOrientationForTwoTargets(C_1, SA_1, SB_1, PA_1, PB_1, toric.RadianPi(fvX), toric.RadianPi(fvY))\n",
    "rotation_2 = toric.Toric3_ComputeOrientationForTwoTargets(C_2, SA_2, SB_2, PA_1, PB_1, toric.RadianPi(fvX), toric.RadianPi(fvY))\n",
    "\n",
    "print quaternion_to_str(rotation_1)\n",
    "print quaternion_to_str(rotation_2)\n",
    "\n",
    "gs = gridspec.GridSpec(1, 2, width_ratios=[1,1], height_ratios=[1,1,1])\n",
    "fig = plt.figure()\n",
    "f1 = fig.add_subplot(gs[0])\n",
    "f2 = fig.add_subplot(gs[1])\n",
    "\n",
    "f1.quiver(0, 0, rotation_1.yAxis().x(),rotation_1.yAxis().y(),angles='xy',scale_units='xy',scale=1)\n",
    "f1.set_ylim([-1.3,1.3])\n",
    "f1.set_xlim([-1.3,1.3])\n",
    "f1.set_title(\"rotation: C_1, S_1\")\n",
    "f1.set_aspect('equal')\n",
    "\n",
    "f2.quiver(0, 0, rotation_2.yAxis().x(),rotation_2.yAxis().y(),angles='xy',scale_units='xy',scale=1)\n",
    "f2.set_ylim([-1.3,1.3])\n",
    "f2.set_xlim([-1.3,1.3])\n",
    "f2.set_title(\"rotation: C_2, S_2\")\n",
    "f2.set_aspect('equal')"
   ]
  },
  {
   "cell_type": "code",
   "execution_count": 11,
   "metadata": {
    "collapsed": false
   },
   "outputs": [
    {
     "data": {
      "image/png": "[encoded data removed]",
      "text/plain": [
       "<matplotlib.figure.Figure at 0x10db24c90>"
      ]
     },
     "metadata": {},
     "output_type": "display_data"
    }
   ],
   "source": [
    "# sigma with orientation -> (SA_x_lin, SA_y_lin) and (SB_x_lin, SB_y_lin)\n",
    "\n",
    "orientations = np.array([toric.Toric3_ComputeOrientationForTwoTargets(np3_to_vector3(sigma[t_c]), toric.Vector2(SA_x_lin[t_c], SA_y_lin[t_c]), toric.Vector2(SB_x_lin[t_c], SB_y_lin[t_c]), PA_1, PB_1, toric.RadianPi(fvX), toric.RadianPi(fvY)) for t_c in range(0, len(t))])\n",
    "orient_vectors = np.array([v.yAxis().np() for v in orientations])\n",
    "up_vectors = np.array([v.zAxis().np() for v in orientations])\n",
    "\n",
    "fig = plt.figure()\n",
    "f1 = fig.add_subplot(111)\n",
    "f1.quiver(sigma[:,0],sigma[:,1],orient_vectors[:,0],orient_vectors[:,1],angles='xy',scale_units='xy',scale=1)\n",
    "f1.set_ylim([-44,-38])\n",
    "f1.set_xlim([-100,-90])\n",
    "f1.set_title(\"orientations\")\n",
    "f1.set_aspect('equal')"
   ]
  },
  {
   "cell_type": "code",
   "execution_count": null,
   "metadata": {
    "collapsed": false
   },
   "outputs": [],
   "source": [
    "# calculate screen positions from computed orientation\n",
    "a = 16.0/9.0\n",
    "\n",
    "# apex\n",
    "# SA  [ 0.22760098  0.32369917]\n",
    "# SB  [-0.22760098  0.32369917]\n",
    "SA_test = world_to_screen(PA, C, orient_vectors[0], up_vectors[0], fvY, a)\n",
    "SB_test = world_to_screen(PB, C, orient_vectors[0], up_vectors[0], fvY, a)\n",
    "\n",
    "SA_recalc = world_to_screen(PA, C, fwd, u, fvY, a)\n",
    "SB_recalc = world_to_screen(PB, C, fwd, u, fvY, a)\n",
    "\n",
    "print SA_test\n",
    "print SB_test\n",
    "print \"re: \", SA_recalc\n",
    "print \"re: \", SB_recalc\n",
    "\n",
    "# external\n",
    "# SA  [ 0.24406023  0.25285573]\n",
    "# SB  [-0.12828283  0.14987263]\n",
    "last = len(t)-1\n",
    "SA_test2 = world_to_screen(PA, C_e, orient_vectors[last], up_vectors[last], fvY, a)\n",
    "SB_test2 = world_to_screen(PB, C_e, orient_vectors[last], up_vectors[last], fvY, a)\n",
    "\n",
    "SA_recalc2 = world_to_screen(PA, C_e, fwd_e, u_e, fvY, a)\n",
    "SB_recalc2 = world_to_screen(PB, C_e, fwd_e, u_e, fvY, a)\n",
    "\n",
    "print SA_test2\n",
    "print SB_test2\n",
    "print \"re: \", SA_recalc2\n",
    "print \"re: \", SB_recalc2\n",
    "\n",
    "cam =  [-96.5 -42.6  -1.3]\n",
    "forward =  [-0.5  0.9  0. ]\n",
    "up =  [ 0.  0. -1.]"
   ]
  },
  {
   "cell_type": "code",
   "execution_count": null,
   "metadata": {
    "collapsed": false
   },
   "outputs": [],
   "source": [
    "SA_path = np.array([world_to_screen(PA, sigma[t_c], orient_vectors[t_c], up_vectors[t_c], fvY, a) for t_c in range(0, len(t))])\n",
    "SB_path = np.array([world_to_screen(PB, sigma[t_c], orient_vectors[t_c], up_vectors[t_c], fvY, a) for t_c in range(0, len(t))])\n",
    "\n",
    "SA_x_lin = SA_path[:,0]\n",
    "SA_y_lin = SA_path[:,1]\n",
    "\n",
    "SB_x_lin = SB_path[:,0]\n",
    "SB_y_lin = SB_path[:,1]\n",
    "\n",
    "# Set screen space for apex -> external\n",
    "SA_1 = toric.Vector2(SA_test[0], SA_test[1])\n",
    "SA_2 = toric.Vector2(SA_test2[0], SA_test2[1])\n",
    "\n",
    "SB_1 = toric.Vector2(SB_test[0], SB_test[1])\n",
    "SB_2 = toric.Vector2(SB_test2[0], SB_test2[1])\n",
    "\n",
    "drawScreenSetup()"
   ]
  },
  {
   "cell_type": "code",
   "execution_count": null,
   "metadata": {
    "collapsed": true
   },
   "outputs": [],
   "source": []
  }
 ],
 "metadata": {
  "kernelspec": {
   "display_name": "Python 2",
   "language": "python",
   "name": "python2"
  },
  "language_info": {
   "codemirror_mode": {
    "name": "ipython",
    "version": 2
   },
   "file_extension": ".py",
   "mimetype": "text/x-python",
   "name": "python",
   "nbconvert_exporter": "python",
   "pygments_lexer": "ipython2",
   "version": "2.7.10"
  }
 },
 "nbformat": 4,
 "nbformat_minor": 0
}
