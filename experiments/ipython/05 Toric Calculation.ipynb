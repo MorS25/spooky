{
 "cells": [
  {
   "cell_type": "code",
   "execution_count": 29,
   "metadata": {
    "collapsed": false
   },
   "outputs": [
    {
     "name": "stdout",
     "output_type": "stream",
     "text": [
      "Populating the interactive namespace from numpy and matplotlib\n",
      "2.0\n",
      "5.4083269132\n",
      "2.7696523068\n",
      "5.03852678238\n",
      "5.4083269132\n",
      "0.371940346788\n",
      "0.0751160709684\n"
     ]
    },
    {
     "name": "stderr",
     "output_type": "stream",
     "text": [
      "WARNING: pylab import has clobbered these variables: ['beta']\n",
      "`%matplotlib` prevents importing * from pylab and numpy\n"
     ]
    }
   ],
   "source": [
    "%pylab inline\n",
    "import numpy.linalg as la\n",
    "\n",
    "# returns the angle in radians between vectors 'v1' and 'v2' \n",
    "def py_ang(v1, v2):\n",
    "    return arccos(np.dot(v1, v2) / (la.norm(v1) * la.norm(v2)))\n",
    "\n",
    "# initialize variables\n",
    "A = np.array([-40.6, 1.7, -98.2])\n",
    "B = np.array([-38.6, 1.7, -98.2])\n",
    "P = np.array([-39.6, 2.1, -92.9])\n",
    "\n",
    "AB = A - B\n",
    "ABnorm = la.norm(AB)\n",
    "AP = A - P ###?\n",
    "dA = la.norm(AP)\n",
    "\n",
    "print ABnorm\n",
    "print dA\n",
    "\n",
    "#theta = pi\n",
    "\n",
    "beta = py_ang(AB, AP)\n",
    "theta = 2 * beta\n",
    "\n",
    "print theta\n",
    "\n",
    "# calculate alpha\n",
    "num = dA - ABnorm * cos(theta/2)\n",
    "den = sqrt(np.power(dA,2) + np.power(ABnorm,2) - 2 * ABnorm * dA * cos(theta/2))\n",
    "alpha = np.arccos(num/den)\n",
    "\n",
    "print num\n",
    "print den\n",
    "print alpha\n",
    "\n",
    "#n = np.cross(AP, AB)\n",
    "#n = n / la.norm(n)\n",
    "\n",
    "midAB = (A+B) / 2\n",
    "midP = midAB - P\n",
    "d = la.norm(midP)\n",
    "\n",
    "phi = np.arctan ((P[1] - A[1]) / d)\n",
    "print phi"
   ]
  }
 ],
 "metadata": {
  "kernelspec": {
   "display_name": "Python 2",
   "language": "python",
   "name": "python2"
  },
  "language_info": {
   "codemirror_mode": {
    "name": "ipython",
    "version": 2
   },
   "file_extension": ".py",
   "mimetype": "text/x-python",
   "name": "python",
   "nbconvert_exporter": "python",
   "pygments_lexer": "ipython2",
   "version": "2.7.10"
  }
 },
 "nbformat": 4,
 "nbformat_minor": 0
}
