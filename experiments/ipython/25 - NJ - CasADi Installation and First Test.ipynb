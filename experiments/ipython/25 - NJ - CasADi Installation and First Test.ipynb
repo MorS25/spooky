{
 "cells": [
  {
   "cell_type": "markdown",
   "metadata": {},
   "source": [
    "# Installation Instructions\n",
    "\n",
    "https://github.com/casadi/casadi/wiki/InstallationInstructions\n",
    "\n",
    "Download Py27 binary, move to ```spooky/lib/```\n",
    "\n",
    "\n",
    "Your problem is exactly what casadi was designed to solve. I'd personally try solving with the direct collocation discretization using exact hessian and ipopt as a solver.\n"
   ]
  },
  {
   "cell_type": "code",
   "execution_count": 2,
   "metadata": {
    "collapsed": false
   },
   "outputs": [],
   "source": [
    "from sys import path\n",
    "path.append(r\"../../lib/casadi-py27-np1.9.1-v3.0.0\")\n",
    "from casadi import *"
   ]
  },
  {
   "cell_type": "code",
   "execution_count": 4,
   "metadata": {
    "collapsed": false
   },
   "outputs": [
    {
     "name": "stdout",
     "output_type": "stream",
     "text": [
      "cos(x)\n"
     ]
    }
   ],
   "source": [
    "x = MX.sym(\"x\")\n",
    "print jacobian(sin(x),x)"
   ]
  },
  {
   "cell_type": "code",
   "execution_count": null,
   "metadata": {
    "collapsed": true
   },
   "outputs": [],
   "source": []
  }
 ],
 "metadata": {
  "kernelspec": {
   "display_name": "Python 2",
   "language": "python",
   "name": "python2"
  },
  "language_info": {
   "codemirror_mode": {
    "name": "ipython",
    "version": 2
   },
   "file_extension": ".py",
   "mimetype": "text/x-python",
   "name": "python",
   "nbconvert_exporter": "python",
   "pygments_lexer": "ipython2",
   "version": "2.7.6"
  }
 },
 "nbformat": 4,
 "nbformat_minor": 0
}
