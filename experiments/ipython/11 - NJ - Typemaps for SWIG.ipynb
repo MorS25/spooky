{
 "cells": [
  {
   "cell_type": "code",
   "execution_count": 1,
   "metadata": {
    "collapsed": false
   },
   "outputs": [],
   "source": [
    "\n",
    "%load_ext autoreload\n",
    "%autoreload 2\n",
    "\n",
    "%matplotlib inline\n",
    "import matplotlib\n",
    "import matplotlib.pylab as pylab\n",
    "import matplotlib.pyplot as plt\n",
    "import matplotlib.cm as cm\n",
    "import matplotlib.patches as mpatches\n",
    "import numpy as np\n",
    "import numpy.linalg as la\n",
    "\n",
    "def add_relative_to_current_source_file_path_to_sys_path(relpath):\n",
    "    import os, sys, inspect\n",
    "    path = os.path.realpath(os.path.abspath(os.path.join(os.path.split(inspect.getfile(inspect.currentframe()))[0],relpath)))\n",
    "    if path not in sys.path:\n",
    "        sys.path.insert(0,path)\n",
    "\n",
    "add_relative_to_current_source_file_path_to_sys_path(\"../../shims/toric\")   \n",
    "\n",
    "import toric\n",
    "import toric.samples\n"
   ]
  },
  {
   "cell_type": "code",
   "execution_count": 3,
   "metadata": {
    "collapsed": false
   },
   "outputs": [
    {
     "name": "stdout",
     "output_type": "stream",
     "text": [
      "<class 'toric.__init__.Vector3'>\n",
      "<toric.__init__.Vector3; proxy of <Swig Object of type 'toric::Vector3 *' at 0x10469bfc0> >\n",
      "['UNIT_X', 'UNIT_Y', 'UNIT_Z', 'ZERO', '__class__', '__del__', '__delattr__', '__dict__', '__doc__', '__format__', '__getattr__', '__getattribute__', '__hash__', '__init__', '__module__', '__new__', '__reduce__', '__reduce_ex__', '__repr__', '__setattr__', '__sizeof__', '__str__', '__subclasshook__', '__swig_destroy__', '__swig_getmethods__', '__swig_setmethods__', '__weakref__', '__xor__', 'crossProduct', 'directedAngle', 'perpendicular', 'projectX', 'projectY', 'projectZ', 'this', 'x', 'y', 'z']\n",
      "1.0\n",
      "<toric.Vector3; proxy of <Swig Object of type 'toric::Vector3 *' at 0x10e1a97b0> >\n",
      "<toric.Vector3; proxy of <toric.__init__.Vector3; proxy of <Swig Object of type 'toric::Vector3 *' at 0x10e1a9810> > >\n"
     ]
    }
   ],
   "source": [
    "q = toric.Quaternion()\n",
    "matrix = toric.Matrix3()\n",
    "q.ToRotationMatrix(matrix)\n",
    "print type(matrix.getColumn(0))\n",
    "print matrix.getColumn(0)\n",
    "print dir(matrix.getColumn(0))\n",
    "print matrix.getColumn(0).x()\n",
    "vector = toric.Vector3()\n",
    "print vector\n",
    "vector.this = matrix.getColumn(0)\n",
    "print vector\n"
   ]
  },
  {
   "cell_type": "code",
   "execution_count": null,
   "metadata": {
    "collapsed": false
   },
   "outputs": [],
   "source": []
  },
  {
   "cell_type": "code",
   "execution_count": null,
   "metadata": {
    "collapsed": true
   },
   "outputs": [],
   "source": []
  }
 ],
 "metadata": {
  "kernelspec": {
   "display_name": "Python 2",
   "language": "python",
   "name": "python2"
  },
  "language_info": {
   "codemirror_mode": {
    "name": "ipython",
    "version": 2
   },
   "file_extension": ".py",
   "mimetype": "text/x-python",
   "name": "python",
   "nbconvert_exporter": "python",
   "pygments_lexer": "ipython2",
   "version": "2.7.6"
  }
 },
 "nbformat": 4,
 "nbformat_minor": 0
}
