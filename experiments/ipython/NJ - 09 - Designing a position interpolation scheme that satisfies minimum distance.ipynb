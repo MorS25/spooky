{
 "cells": [
  {
   "cell_type": "code",
   "execution_count": 1,
   "metadata": {
    "collapsed": true
   },
   "outputs": [],
   "source": [
    "%load_ext autoreload\n",
    "%autoreload 2\n",
    "\n",
    "%matplotlib inline\n",
    "import matplotlib\n",
    "import matplotlib.pylab as pylab\n",
    "import matplotlib.pyplot as plt\n",
    "import matplotlib.cm as cm\n",
    "import matplotlib.patches as mpatches\n",
    "import numpy as np\n",
    "import numpy.linalg as la\n",
    "\n",
    "def add_relative_to_current_source_file_path_to_sys_path(relpath):\n",
    "    import os, sys, inspect\n",
    "    path = os.path.realpath(os.path.abspath(os.path.join(os.path.split(inspect.getfile(inspect.currentframe()))[0],relpath)))\n",
    "    if path not in sys.path:\n",
    "        sys.path.insert(0,path)\n",
    "\n",
    "add_relative_to_current_source_file_path_to_sys_path(\"../../shims/toric\")   \n",
    "\n",
    "import toric\n",
    "import toric.samples\n",
    "import toric.shims"
   ]
  },
  {
   "cell_type": "markdown",
   "metadata": {},
   "source": [
    "# An alternative to averaging trajectories: The magic $g_i(\\vec{\\sigma}_A,\\vec{\\sigma}_B,u)$ function\n",
    "\n",
    "Recall from the notebook *\"NJ - 06 - Toric Interpolation Proof of Min Dist Constraint Maintenance\"*\n",
    "\n",
    "$$\n",
    "\\begin{align}\n",
    "\\vec{\\sigma}_A(u) & = \\vec{A} + d_A(u)\\vec{v}_A(u) \\\\\n",
    "\\vec{\\sigma}_B(u) & = \\vec{B} + d_B(u)\\vec{v}_B(u) \\\\\n",
    "\\end{align}\n",
    "$$\n",
    "\n",
    "Notice that $\\vec{\\sigma}_A(u)$ respects the minimum distance bounds on A, and $\\vec{\\sigma}_B(u)$ respects the minimum distance bounds on B. Thus, we are only concerned with $\\vec{\\sigma}_A(u)$ coming close to B and vice versa.\n",
    "\n",
    "Let's suggest a different way to combine these two trajectories. Intuitively, we want a function that, if both $\\vec{\\sigma}_A(u)$ and $\\vec{\\sigma}_B(u)$ are far away from A and B, just averages the two. If $\\vec{\\sigma}_A(u)$ gets close to B, it picks only $\\vec{\\sigma}_B(u)$, and vice versa.\n",
    "\n",
    "Lastly, this function needs to guarantee C4-or-better continuity to generate quadrotor feasible paths.\n",
    "\n",
    "Let's formulate this function explicitly. We call it $g_i(\\vec{\\sigma}_A,\\vec{\\sigma}_B,u)$\n",
    "\n",
    "$$\n",
    "\\vec{\\sigma}(u) = g_A(\\vec{\\sigma}_A,\\vec{\\sigma}_B,u)\\cdot\\vec{\\sigma}_A(u) + g_B(\\vec{\\sigma}_B,\\vec{\\sigma}_A,u)\\cdot\\vec{\\sigma}_A(u)\n",
    "$$\n",
    "\n",
    "** Restriction: We still consider the case where $\\vec{C}_0$ and $\\vec{C}_1$ are both on the same side of the line $AB$. \n",
    "\n",
    "*We might be able to relax this restriction, but lets keep it in place for the moment*"
   ]
  },
  {
   "cell_type": "code",
   "execution_count": null,
   "metadata": {
    "collapsed": true
   },
   "outputs": [],
   "source": []
  }
 ],
 "metadata": {
  "kernelspec": {
   "display_name": "Python 2",
   "language": "python",
   "name": "python2"
  },
  "language_info": {
   "codemirror_mode": {
    "name": "ipython",
    "version": 2
   },
   "file_extension": ".py",
   "mimetype": "text/x-python",
   "name": "python",
   "nbconvert_exporter": "python",
   "pygments_lexer": "ipython2",
   "version": "2.7.6"
  }
 },
 "nbformat": 4,
 "nbformat_minor": 0
}
