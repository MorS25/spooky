{
 "cells": [
  {
   "cell_type": "code",
   "execution_count": 2,
   "metadata": {
    "collapsed": false
   },
   "outputs": [
    {
     "name": "stdout",
     "output_type": "stream",
     "text": [
      "The autoreload extension is already loaded. To reload it, use:\n",
      "  %reload_ext autoreload\n"
     ]
    }
   ],
   "source": [
    "%load_ext autoreload\n",
    "%autoreload 2\n",
    "\n",
    "%matplotlib inline\n",
    "import matplotlib\n",
    "import matplotlib.pylab as pylab\n",
    "import matplotlib.pyplot as plt\n",
    "import matplotlib.cm as cm\n",
    "import matplotlib.patches as mpatches\n",
    "import numpy as np\n",
    "import numpy.linalg as la\n",
    "\n",
    "def add_relative_to_current_source_file_path_to_sys_path(relpath):\n",
    "    import os, sys, inspect\n",
    "    path = os.path.realpath(os.path.abspath(os.path.join(os.path.split(inspect.getfile(inspect.currentframe()))[0],relpath)))\n",
    "    if path not in sys.path:\n",
    "        sys.path.insert(0,path)\n",
    "\n",
    "add_relative_to_current_source_file_path_to_sys_path(\"../../shims/toric\")   \n",
    "\n",
    "import toric\n",
    "import toric.samples\n",
    "import toric.shims\n",
    "\n",
    "def slerp(p0, p1, t):\n",
    "        omega = np.arccos(np.dot(p0/np.linalg.norm(p0), p1/np.linalg.norm(p1)))\n",
    "        so = np.sin(omega)\n",
    "        return np.sin((1.0-t)*omega) / so * p0 + np.sin(t*omega)/so * p1\n",
    "\n",
    "def drawSetup(fudgeX=2, fudgeY_pos=2,fudgeY_neg=8):\n",
    "    pylab.rcParams['figure.figsize'] = 8, 8\n",
    "\n",
    "    plt.axes().set_aspect('equal')\n",
    "    fig = plt.gcf()\n",
    "    \n",
    "    # Set up plot size\n",
    "    plt.axes().set_xlim((np.min([PA_1.x(), PB_1.x()])-fudgeX,np.max([PA_1.x(), PB_1.x()])+fudgeX))\n",
    "    plt.axes().set_ylim((np.min([PA_1.y(), PB_1.y()])-fudgeY_neg,np.max([PA_1.y(), PB_1.y()])+fudgeY_pos))\n",
    "\n",
    "    # Draw People Positions\n",
    "    plt.scatter([PA_1.x(), PB_1.x()],[PA_1.y(), PB_1.y()],c=\"red\",linewidths=0)\n",
    "    line_AB = plt.Line2D([PA_1.x(), PB_1.x()],[PA_1.y(), PB_1.y()], c=\"black\",alpha=0.3)\n",
    "    fig.gca().add_artist(line_AB)\n",
    "\n",
    "    # Draw Circles    \n",
    "    circle_PA_1=plt.Circle((PA_1.x(),PA_1.y()),min_dist,color='g',alpha=0.5)\n",
    "    circle_PB_1=plt.Circle((PB_1.x(),PB_1.y()),min_dist,color='g',alpha=0.5)\n",
    "    \n",
    "    fig.gca().add_artist(circle_PA_1)\n",
    "    fig.gca().add_artist(circle_PB_1)\n",
    "\n",
    "    plt.annotate(s=\"A\", xy=(PA_1.x(),PA_1.y()),xytext=(3,4),textcoords=\"offset points\")\n",
    "    plt.annotate(s=\"B\", xy=(PB_1.x(),PB_1.y()),xytext=(3,4),textcoords=\"offset points\")\n",
    "    \n",
    "    # Draw Camera positions\n",
    "    plt.scatter([C_0.x(), C_1.x()],[C_0.y(), C_1.y()],c=\"blue\",linewidths=0)\n",
    "    plt.annotate(s=\"C0\", xy=(C_0.x(), C_0.y()),xytext=(3,4),textcoords=\"offset points\")\n",
    "    plt.annotate(s=\"C1\", xy=(C_1.x(), C_1.y()),xytext=(3,4),textcoords=\"offset points\")\n"
   ]
  },
  {
   "cell_type": "markdown",
   "metadata": {},
   "source": [
    "# An alternative to averaging trajectories: The magic $w_i(\\vec{\\sigma}_A,\\vec{\\sigma}_B,u)$ function\n",
    "\n",
    "Recall from the notebook *\"NJ - 06 - Toric Interpolation Proof of Min Dist Constraint Maintenance\"*\n",
    "\n",
    "We are attempting to find $\\vec{\\sigma}(u)$ that respects the following constraints:\n",
    "\n",
    "\n",
    "$$\n",
    "\\begin{align}\n",
    "\\|\\vec{\\sigma}(u) - \\vec{A}\\| && \\geq && d_m \\\\\n",
    "\\|\\vec{\\sigma}(u) - \\vec{B}\\| && \\geq && d_m\n",
    "\\end{align}\n",
    "$$\n",
    "\n",
    "<span style=\"color: green\"> \n",
    "**NOTE TO SELF:** If you start easing the change in screen position, you can either ease your movement along this trajectory... Or you can find a *different* trajectory that has the same visual easing behavior but with a potentially shorter camera path. To do this we need a joint optimization approach.\n",
    "</span>\n",
    "\n",
    "We also have these nice *spherical interpolation* functions. Moving along this trajectory will linearly change the size of people on screen.\n",
    "\n",
    "$$\n",
    "\\begin{align}\n",
    "\\vec{\\sigma}_A(u) & = \\vec{A} + d_A(u)\\vec{v}_A(u) \\\\\n",
    "\\vec{\\sigma}_B(u) & = \\vec{B} + d_B(u)\\vec{v}_B(u) \\\\\n",
    "\\end{align}\n",
    "$$\n",
    "\n",
    "\n",
    "Notice that $\\vec{\\sigma}_A(u)$ respects the minimum distance bounds on A, and $\\vec{\\sigma}_B(u)$ respects the minimum distance bounds on B. Thus, we are only concerned with $\\vec{\\sigma}_A(u)$ coming close to B and vice versa.\n",
    "\n",
    "Let's suggest a different way to combine these two trajectories. Intuitively:\n",
    "\n",
    "* We want a function that, if both $\\vec{\\sigma}_A(u)$ and $\\vec{\\sigma}_B(u)$ are far away from A and B, just averages the two. If $\\vec{\\sigma}_A(u)$ gets close to B, it picks only $\\vec{\\sigma}_B(u)$, and vice versa.\n",
    "* This function needs to guarantee C4-or-better continuity to generate quadrotor feasible paths.\n",
    "* We want to algebraically formulate this function so its easy to evaluate, ideally.\n",
    "\n",
    "Let's formulate this function and its behavior explicitly. We call it $w_i(\\vec{\\sigma}_A,\\vec{\\sigma}_B;u)$\n",
    "\n",
    "$$\n",
    "w_A(\\vec{\\sigma}_A,\\vec{\\sigma}_B;u)= \n",
    "\\begin{cases}\n",
    "    1,& \\text{if }  \\|\\vec{\\sigma}_B(u) - A\\| \\leq d_{min}\\\\\n",
    "    0,& \\text{if }  \\|\\vec{\\sigma}_A(u) - B\\| \\leq d_{min}\\\\\n",
    "    0.5,              & \\text{otherwise}\n",
    "\\end{cases}\n",
    "$$\n",
    "\n",
    "Which we generalize to\n",
    "\n",
    "$$\n",
    "w_i(\\vec{\\sigma}_i,\\vec{\\sigma}_{j};u)= \n",
    "\\begin{cases}\n",
    "    1,& \\text{if }  \\|\\vec{\\sigma}_j(u) - i\\| \\leq d_{min}\\\\\n",
    "    0,& \\text{if }  \\|\\vec{\\sigma}_i(u) - j\\| \\leq d_{min}\\\\\n",
    "    0.5,              & \\text{otherwise}\n",
    "\\end{cases}\n",
    "$$\n",
    "\n",
    "\n",
    "Here's how we calculate the full trajectory $\\vec{\\sigma}(u)$:\n",
    "\n",
    "$$\n",
    "\\vec{\\sigma}(u) = w_A(\\vec{\\sigma}_A,\\vec{\\sigma}_B,u)\\cdot\\vec{\\sigma}_A(u) \\;\\, + \\;\\, w_B(\\vec{\\sigma}_B,\\vec{\\sigma}_A,u)\\cdot\\vec{\\sigma}_A(u)\n",
    "$$\n",
    "\n",
    "** Restriction: We still consider the case where $\\vec{C}_0$ and $\\vec{C}_1$ are both on the same side of the line $AB$.** We might be able to relax this restriction, but lets keep it in place for the moment"
   ]
  },
  {
   "cell_type": "markdown",
   "metadata": {},
   "source": [
    "## Let's implement that if-statement directly. Notice it violates C4, but thats okay.\n",
    "\n",
    "Notice that, if we do that directly, we won't have ANY continuity, not even in position. Let's confirm.\n"
   ]
  },
  {
   "cell_type": "code",
   "execution_count": 34,
   "metadata": {
    "collapsed": true
   },
   "outputs": [],
   "source": [
    "min_dist = 1                    # let's set a minimum distance of 1m\n",
    "PA_1 = toric.Vector3(0,0,0)     # person A position\n",
    "PB_1 = toric.Vector3(6,0,0)     # person B position\n",
    "C_0 = toric.Vector3(-1.1,-0.2,0)  # Starting camera position is *outside* of PA_1\n",
    "C_1 = toric.Vector3( 2.1,-0.2,0)    # Ending camera position"
   ]
  },
  {
   "cell_type": "code",
   "execution_count": 35,
   "metadata": {
    "collapsed": false
   },
   "outputs": [
    {
     "data": {
      "text/plain": [
       "<matplotlib.legend.Legend at 0x10f2dbb90>"
      ]
     },
     "execution_count": 35,
     "metadata": {},
     "output_type": "execute_result"
    },
    {
     "data": {
      "image/png": "[encoded data removed]",
      "text/plain": [
       "<matplotlib.figure.Figure at 0x110008d90>"
      ]
     },
     "metadata": {},
     "output_type": "display_data"
    }
   ],
   "source": [
    "# Create Numpy arrays\n",
    "A = PA_1.np()\n",
    "B = PB_1.np()\n",
    "C0 = C_0.np()\n",
    "C1 = C_1.np()\n",
    "\n",
    "# Set up interpolation vector\n",
    "u = np.c_[np.linspace(0,1)]\n",
    "\n",
    "# Set up the distance components of sigmaA, sigmaB\n",
    "dA0 = la.norm(C0 - A)\n",
    "dA1 = la.norm(C1 - A)\n",
    "dB0 = la.norm(C0 - B)\n",
    "dB1 = la.norm(C1 - B)\n",
    "\n",
    "dA = np.linspace(dA0, dA1)\n",
    "dB = np.linspace(dB0, dB1)\n",
    "\n",
    "# Set up the vantage vector components of sigmaA, sigmaB\n",
    "vA0 = (C0 - A) / dA0\n",
    "vA1 = (C1 - A) / dA1\n",
    "vB0 = (C0 - B) / dB0\n",
    "vB1 = (C1 - B) / dB1\n",
    "\n",
    "vA = np.apply_along_axis(lambda u : slerp(vA0,vA1,u), axis=1, arr=u)\n",
    "vB = np.apply_along_axis(lambda u : slerp(vB0,vB1,u), axis=1, arr=u)\n",
    "\n",
    "# Set up sigmaA, sigmaB, sigma\n",
    "sigmaA = A + dA[:,np.newaxis] * vA\n",
    "sigmaB = B + dB[:,np.newaxis] * vB\n",
    "\n",
    "\n",
    "def calc_weight(sigma_i, sigma_j, i, j):\n",
    "    def silly_map(sigmas):\n",
    "        sigmaiu = sigmas[0:3]\n",
    "        sigmaju = sigmas[3:6]\n",
    "        if la.norm(sigmaju - i) < min_dist:\n",
    "            return 1\n",
    "        elif la.norm(sigmaiu - j) < min_dist:\n",
    "            return 0\n",
    "        else:\n",
    "            return 0.5\n",
    "    \n",
    "    return np.apply_along_axis(silly_map, axis=1, arr=np.c_[sigma_i, sigma_j]) \n",
    "\n",
    "wA = calc_weight(sigmaA, sigmaB, A, B)\n",
    "wB = calc_weight(sigmaB, sigmaA, B, A)\n",
    "\n",
    "sigma = (wA[:,np.newaxis]*sigmaA + wB[:,np.newaxis]*sigmaB)\n",
    "\n",
    "\n",
    "drawSetup(fudgeY_neg=5)\n",
    "plt.plot(sigmaA[:,0],sigmaA[:,1], c=\"green\")\n",
    "plt.plot(sigmaB[:,0],sigmaB[:,1], c=\"blue\")\n",
    "plt.plot(sigma[:,0], sigma[:,1],  c=\"red\")\n",
    "plt.title(\"Counterexample: Simplified Sigma violates safety.\")\n",
    "\n",
    "sA_legend = mpatches.Patch(color=\"green\", label=\"sigmaA\")\n",
    "sB_legend = mpatches.Patch(color=\"blue\", label=\"sigmaB\")\n",
    "S_legend  = mpatches.Patch(color=\"red\", label=\"sigma\")\n",
    "plt.legend(handles=[sA_legend,sB_legend,S_legend])"
   ]
  },
  {
   "cell_type": "code",
   "execution_count": null,
   "metadata": {
    "collapsed": true
   },
   "outputs": [],
   "source": []
  }
 ],
 "metadata": {
  "kernelspec": {
   "display_name": "Python 2",
   "language": "python",
   "name": "python2"
  },
  "language_info": {
   "codemirror_mode": {
    "name": "ipython",
    "version": 2
   },
   "file_extension": ".py",
   "mimetype": "text/x-python",
   "name": "python",
   "nbconvert_exporter": "python",
   "pygments_lexer": "ipython2",
   "version": "2.7.6"
  }
 },
 "nbformat": 4,
 "nbformat_minor": 0
}
