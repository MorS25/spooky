{
 "cells": [
  {
   "cell_type": "code",
   "execution_count": 1,
   "metadata": {
    "collapsed": false
   },
   "outputs": [],
   "source": [
    "%load_ext autoreload\n",
    "%autoreload 2"
   ]
  },
  {
   "cell_type": "code",
   "execution_count": 27,
   "metadata": {
    "collapsed": false
   },
   "outputs": [],
   "source": [
    "%matplotlib inline\n",
    "import matplotlib\n",
    "import matplotlib.pylab as pylab\n",
    "import matplotlib.pyplot as plt\n",
    "import matplotlib.cm as cm\n",
    "import matplotlib.patches as mpatches\n",
    "import numpy as np\n",
    "import numpy.linalg as la\n",
    "\n",
    "import toricshims\n",
    "import toric\n",
    "import toric.samples"
   ]
  },
  {
   "cell_type": "code",
   "execution_count": 28,
   "metadata": {
    "collapsed": false
   },
   "outputs": [
    {
     "name": "stdout",
     "output_type": "stream",
     "text": [
      "(1.00, 2.00, 3.00)\n",
      "[ 1.  2.  3.]\n",
      "(a = 28.65°, t = 29°, p = 28.65°)\n"
     ]
    }
   ],
   "source": [
    "a = toric.Vector3(1,2,3)\n",
    "print a\n",
    "print a.np()\n",
    "t = toric.Toric3(toric.RadianPi(0.5),toric.Radian2Pi(0.5),toric.RadianPi(0.5))\n",
    "print t\n"
   ]
  },
  {
   "cell_type": "code",
   "execution_count": 29,
   "metadata": {
    "collapsed": true
   },
   "outputs": [],
   "source": [
    "def drawSetup():\n",
    "    pylab.rcParams['figure.figsize'] = 8, 8\n",
    "\n",
    "    circle_PA_1=plt.Circle((PA_1.x(),PA_1.y()),min_dist,color='g',alpha=0.5)\n",
    "    circle_PB_1=plt.Circle((PB_1.x(),PB_1.y()),min_dist,color='g',alpha=0.5)\n",
    "\n",
    "    fig = plt.gcf()\n",
    "    fig.gca().add_artist(circle_PA_1)\n",
    "    fig.gca().add_artist(circle_PB_1)\n",
    "\n",
    "    # Set up plot size\n",
    "    fudgeX = 3\n",
    "    fudgeY_pos = 2\n",
    "    fudgeY_neg = 8\n",
    "    plt.axes().set_xlim((np.min([PA_1.x(), PB_1.x()])-fudgeX,np.max([PA_1.x(), PB_1.x()])+fudgeX))\n",
    "    plt.axes().set_ylim((np.min([PA_1.y(), PB_1.y()])-fudgeY_neg,np.max([PA_1.y(), PB_1.y()])+fudgeY_pos))\n",
    "\n",
    "    # Draw People Positions\n",
    "    plt.scatter([PA_1.x(), PB_1.x()],[PA_1.y(), PB_1.y()],c=\"red\",linewidths=0)\n",
    "\n",
    "    # Draw Circles\n",
    "    \n",
    "    plt.axes().set_aspect('equal')\n",
    "\n",
    "    # Draw Camera positions\n",
    "    plt.scatter([C_1.x(), C_2.x()],[C_1.y(), C_2.y()],c=\"blue\",linewidths=0)"
   ]
  },
  {
   "cell_type": "markdown",
   "metadata": {},
   "source": [
    "# Prove that our transition trajectories maintains minimum distance constraint to both subjects."
   ]
  },
  {
   "cell_type": "markdown",
   "metadata": {},
   "source": [
    "### Problem Setup:\n",
    "\n",
    "Given two subjects $\\vec{A}$ and $\\vec{B}$ and a starting and ending camera position $\\vec{C}_0$ and $\\vec{C}_1$, calculate a path $\\vec{\\sigma}(u)$ where $\\vec{\\sigma}(0) = \\vec{C}_0$ and $\\vec{\\sigma}(1) = \\vec{C}_1$. All vectors are in world space $(x,y,z)$. \n",
    "\n",
    "$\\vec{\\sigma}(u)$ needs to satisfy two minimum distance constraints:\n",
    "\n",
    "$$\n",
    "\\begin{align}\n",
    "\\|\\vec{\\sigma}(u) - \\vec{A}\\| && \\leq && d_m \\\\\n",
    "\\|\\vec{\\sigma}(u) - \\vec{B}\\| && \\leq && d_m\n",
    "\\end{align}\n",
    "$$\n",
    "\n",
    "We will calculate $\\vec{\\sigma}(u)$ as follows:\n",
    "\n",
    "Consider the simplified interpolation space $(\\vec{v}_A(u),\\vec{v}_B(u),d_a(u),d_b(u))$ where $\\vec{v}_i(u)$ is an interpolation function producting a unit \"vantage\" vector and $d_i(u)$ is a interpolation function producing a distance along the unit \"vantage\" vector. \n",
    "\n",
    "That is:\n",
    "\n",
    "$$\n",
    "\\begin{align}\n",
    "d_a(0) & = \\|\\vec{A} - \\vec{C}_0\\| \\\\\n",
    "d_b(1) & = \\|\\vec{A} - \\vec{C}_1\\| \\\\\n",
    "d_b(u) & = (1 - u)*d_a(0)  + u*d_a(1) \\\\\n",
    "\\vec{v}_A(0) & = \\frac{\\vec{A} - \\vec{C}_0}{\\|\\vec{A} - \\vec{C}_0\\|} \\\\\n",
    "\\vec{v}_A(1) & = \\frac{\\vec{A} - \\vec{C}_1}{\\|\\vec{A} - \\vec{C}_1\\|} \\\\\n",
    "\\vec{v}_A(u) & = SLERP(\\vec{v}_i(0),\\vec{v}_i(1); u)  \n",
    "\\end{align}\n",
    "$$\n",
    "\n",
    "where \n",
    "\n",
    "$$\n",
    "u \\in (0,1)\n",
    "$$\n",
    "\n",
    "We define $\\vec{\\sigma}(u)$ as\n",
    "\n",
    "$$\n",
    "\\vec{\\sigma}(u) = \\frac{1}{2}[\\vec{A} + \\vec{B} + \\sum_{i} d_i(u)\\vec{v_i}(u)] \\\\\n",
    "$$\n",
    "\n",
    "**Notice this is a simplified version of $F_{A,B}(x)$ presented in Lino et al**\n",
    "\n",
    "### Prove that $\\vec{\\sigma}(u)$ maintains constraints under certain restrictions on $\\vec{C}_0$ and $\\vec{C}_1$\n",
    "\n",
    "Manipulate $\\vec{\\sigma}(u)$:\n",
    "\n",
    "$$\n",
    "\\begin{align}\n",
    "\\vec{\\sigma}(u) & = & \\frac{\\vec{\\sigma}_A(u) + \\vec{\\sigma}_B(u)}{2} \\\\\n",
    "\\vec{\\sigma}_A(u) & = & \\vec{A} + d_a(u)\\vec{v}_A(u) \\\\\n",
    "\\vec{\\sigma}_B(u) & = & \\vec{B} + d_b(u)\\vec{v}_B(u) \\\\\n",
    "\\end{align}\n",
    "$$\n",
    "\n",
    "That is, we consider separately interpolating the components of $\\vec{\\sigma}(u)$ relating to person $A$ and person $B$\n",
    "\n",
    "**Restriction:** Consider the case where $\\vec{C}_0$ and $\\vec{C}_1$ are both on the same side of the line $AB$. This implies $\\vec{v}_A(u) ?? \\vec{v}_B(u)$\n",
    "\n"
   ]
  },
  {
   "cell_type": "code",
   "execution_count": 33,
   "metadata": {
    "collapsed": false
   },
   "outputs": [
    {
     "data": {
      "image/png": "[encoded data removed]",
      "text/plain": [
       "<matplotlib.figure.Figure at 0x10e582710>"
      ]
     },
     "metadata": {},
     "output_type": "display_data"
    }
   ],
   "source": [
    "\n",
    "### Setting up a desired start and end camera position\n",
    "\n",
    "\n",
    "\n",
    "\n",
    "min_dist = 1                    # let's set a minimum distance of 1m\n",
    "PA_1 = toric.Vector3(0,0,0)     # person A position\n",
    "PB_1 = toric.Vector3(2,0,0)     # person B position\n",
    "C_1 = toric.Vector3(-1,-0.5,0)  # Starting camera position is *outside* of PA_1\n",
    "C_2 = toric.Vector3( 1,-0.5,0)    # Ending camera position\n",
    "\n",
    "drawSetup()"
   ]
  },
  {
   "cell_type": "code",
   "execution_count": null,
   "metadata": {
    "collapsed": true
   },
   "outputs": [],
   "source": []
  }
 ],
 "metadata": {
  "kernelspec": {
   "display_name": "Python 2",
   "language": "python",
   "name": "python2"
  },
  "language_info": {
   "codemirror_mode": {
    "name": "ipython",
    "version": 2
   },
   "file_extension": ".py",
   "mimetype": "text/x-python",
   "name": "python",
   "nbconvert_exporter": "python",
   "pygments_lexer": "ipython2",
   "version": "2.7.6"
  }
 },
 "nbformat": 4,
 "nbformat_minor": 0
}
