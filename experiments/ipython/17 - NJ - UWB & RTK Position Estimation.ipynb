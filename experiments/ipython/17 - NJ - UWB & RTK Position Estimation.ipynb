{
 "cells": [
  {
   "cell_type": "code",
   "execution_count": 5,
   "metadata": {
    "collapsed": false
   },
   "outputs": [
    {
     "name": "stdout",
     "output_type": "stream",
     "text": [
      "The autoreload extension is already loaded. To reload it, use:\n",
      "  %reload_ext autoreload\n"
     ]
    }
   ],
   "source": [
    "%load_ext autoreload\n",
    "%autoreload 2\n",
    "\n",
    "%matplotlib inline\n",
    "import time\n",
    "\n",
    "import matplotlib\n",
    "import matplotlib.pylab as pylab\n",
    "import matplotlib.pyplot as plt\n",
    "import matplotlib.cm as cm\n",
    "import matplotlib.patches as mpatches\n",
    "from matplotlib import gridspec\n",
    "\n",
    "import numpy as np\n",
    "import scipy as sp\n",
    "import scipy.sparse as sparse\n",
    "import numpy.linalg as linalg\n",
    "\n",
    "from scipy import interpolate\n",
    "from optimize.snopt7 import SNOPT_solver"
   ]
  },
  {
   "cell_type": "code",
   "execution_count": 140,
   "metadata": {
    "collapsed": false
   },
   "outputs": [
    {
     "name": "stdout",
     "output_type": "stream",
     "text": [
      "Points:  (10, 3)\n",
      "[[ 13.0115002  -10.40898975   5.22936448]\n",
      " [  1.08305644   8.08211362  -8.78380843]\n",
      " [ -2.50556588  10.72646457  -8.99853836]\n",
      " [ -4.06523298  -1.48724025   9.3637224 ]\n",
      " [ -6.05923868  10.43018639  10.27369444]\n",
      " [-18.41835584  13.69895673  13.888843  ]\n",
      " [  2.74796226   4.22975112  -6.80597461]\n",
      " [ 19.47097335   1.57971034   7.08157091]\n",
      " [-12.65301334  -3.66489507  -3.13067162]\n",
      " [-13.03884074   3.06553937  -6.03391559]]\n",
      "Pairwise distances: (45,)\n",
      "[ 26.08788396  29.83152675  19.70546487  28.69511471  40.54646104\n",
      "  21.55185218  13.74352181  27.82157925  31.41726716   4.46283666\n",
      "  21.15207538  20.48692854  30.42865641   4.63944338  25.14173817\n",
      "  18.93752313  15.23666329  22.10836419  19.5993706   28.03363729\n",
      "   8.63794995  28.72631727  18.56108247  13.35771846  12.1173085\n",
      "  21.38011766  18.45434153  23.8446516   15.316724    18.39403963\n",
      "  13.28540311  20.19225794  27.20868069  20.53840829  19.20653574\n",
      "  31.07980619  40.35859702  24.98812521  23.21475947  21.89853276\n",
      "  17.69246563  15.8484893   34.11372604  35.08720118   7.34005695]\n"
     ]
    }
   ],
   "source": [
    "\n",
    "# \n",
    "# Attempt to solve for the positions of a randomly scattered set of UWB units\n",
    "#\n",
    "\n",
    "# Number of units\n",
    "n = 10\n",
    "dim = 3\n",
    "known = 3\n",
    "\n",
    "#\n",
    "# Create a random 3D pointset\n",
    "#\n",
    "points_truth = np.matrix(np.random.randn(n, dim) * 10)\n",
    "print \"Points: \", points_truth.shape\n",
    "print points_truth\n",
    "\n",
    "#\n",
    "# Calculate the pairwise distances\n",
    "#\n",
    "pairwise_dist_truth = sp.spatial.distance.pdist(points_truth)\n",
    "print \"Pairwise distances:\", pairwise_dist_truth.shape\n",
    "print pairwise_dist_truth"
   ]
  },
  {
   "cell_type": "code",
   "execution_count": 141,
   "metadata": {
    "collapsed": false,
    "scrolled": false
   },
   "outputs": [
    {
     "name": "stdout",
     "output_type": "stream",
     "text": [
      " --> Linear component of Jacobian not provided\n",
      " --> Nonlinear component of Jacobian not provided\n",
      "  Could not determine Jacobian structure from user input\n",
      "  Calling snJac...\n",
      " --> Initial xstate not provided; setting to 0\n",
      " --> Initial Fstate not provided; setting to 0\n",
      "----------------------------------------------------------------------------------\n",
      " SNOPT python interface   (Feb 2015)\n",
      "   Problem: UWB_1\n",
      "   # variables = 30; # constraints = 1 \n",
      "\n",
      "     Name state(j)      low(j)           x(j)           upp(j)        mul(j)\n",
      "x:\n",
      "        0       0    1.301150e+01    0.000000e+00    1.301150e+01    0.000000e+00\n",
      "        1       0   -1.040899e+01    0.000000e+00   -1.040899e+01    0.000000e+00\n",
      "        2       0    5.229364e+00    0.000000e+00    5.229364e+00    0.000000e+00\n",
      "        3       0    1.083056e+00    0.000000e+00    1.083056e+00    0.000000e+00\n",
      "        4       0    8.082114e+00    0.000000e+00    8.082114e+00    0.000000e+00\n",
      "        5       0   -8.783808e+00    0.000000e+00   -8.783808e+00    0.000000e+00\n",
      "        6       0   -2.505566e+00    0.000000e+00   -2.505566e+00    0.000000e+00\n",
      "        7       0    1.072646e+01    0.000000e+00    1.072646e+01    0.000000e+00\n",
      "        8       0   -8.998538e+00    0.000000e+00   -8.998538e+00    0.000000e+00\n",
      "        9       0   -1.000000e+20    0.000000e+00    1.000000e+20    0.000000e+00\n",
      "       10       0   -1.000000e+20    0.000000e+00    1.000000e+20    0.000000e+00\n",
      "       11       0   -1.000000e+20    0.000000e+00    1.000000e+20    0.000000e+00\n",
      "       12       0   -1.000000e+20    0.000000e+00    1.000000e+20    0.000000e+00\n",
      "       13       0   -1.000000e+20    0.000000e+00    1.000000e+20    0.000000e+00\n",
      "       14       0   -1.000000e+20    0.000000e+00    1.000000e+20    0.000000e+00\n",
      "       15       0   -1.000000e+20    0.000000e+00    1.000000e+20    0.000000e+00\n",
      "       16       0   -1.000000e+20    0.000000e+00    1.000000e+20    0.000000e+00\n",
      "       17       0   -1.000000e+20    0.000000e+00    1.000000e+20    0.000000e+00\n",
      "       18       0   -1.000000e+20    0.000000e+00    1.000000e+20    0.000000e+00\n",
      "       19       0   -1.000000e+20    0.000000e+00    1.000000e+20    0.000000e+00\n",
      "       20       0   -1.000000e+20    0.000000e+00    1.000000e+20    0.000000e+00\n",
      "       21       0   -1.000000e+20    0.000000e+00    1.000000e+20    0.000000e+00\n",
      "       22       0   -1.000000e+20    0.000000e+00    1.000000e+20    0.000000e+00\n",
      "       23       0   -1.000000e+20    0.000000e+00    1.000000e+20    0.000000e+00\n",
      "       24       0   -1.000000e+20    0.000000e+00    1.000000e+20    0.000000e+00\n",
      "       25       0   -1.000000e+20    0.000000e+00    1.000000e+20    0.000000e+00\n",
      "       26       0   -1.000000e+20    0.000000e+00    1.000000e+20    0.000000e+00\n",
      "       27       0   -1.000000e+20    0.000000e+00    1.000000e+20    0.000000e+00\n",
      "       28       0   -1.000000e+20    0.000000e+00    1.000000e+20    0.000000e+00\n",
      "       29       0   -1.000000e+20    0.000000e+00    1.000000e+20    0.000000e+00\n",
      "F:\n",
      "        0       0   -1.000000e+20    0.000000e+00    1.000000e+20    0.000000e+00\n",
      "----------------------------------------------------------------------------------\n",
      "\n",
      "----------------------------------------------------------------------------------\n",
      " Results for problem UWB_1\n",
      "   EXIT code          = 0\n",
      "   INFO code          = 3\n",
      "   Final objective    = 4.5913462274427286e-07\n",
      "   Total # major itns = 88\n",
      "   Total # iterations = 116\n",
      "\n",
      "     Name state(j)      low(j)           x(j)           upp(j)        mul(j)\n",
      "x:\n",
      "        0       0    1.301150e+01    1.301150e+01    1.301150e+01    2.153646e-04\n",
      "        1       0   -1.040899e+01   -1.040899e+01   -1.040899e+01   -8.220715e-06\n",
      "        2       0    5.229364e+00    5.229364e+00    5.229364e+00    9.899977e-05\n",
      "        3       0    1.083056e+00    1.083056e+00    1.083056e+00   -8.679110e-04\n",
      "        4       0    8.082114e+00    8.082114e+00    8.082114e+00   -6.249102e-04\n",
      "        5       0   -8.783808e+00   -8.783808e+00   -8.783808e+00   -4.091289e-04\n",
      "        6       0   -2.505566e+00   -2.505566e+00   -2.505566e+00    8.090307e-04\n",
      "        7       0    1.072646e+01    1.072646e+01    1.072646e+01    6.324983e-04\n",
      "        8       0   -8.998538e+00   -8.998538e+00   -8.998538e+00    3.711584e-04\n",
      "        9       2   -1.000000e+20   -4.067922e+00    1.000000e+20    2.287339e-07\n",
      "       10       2   -1.000000e+20   -1.491083e+00    1.000000e+20   -3.599137e-07\n",
      "       11       2   -1.000000e+20    9.360931e+00    1.000000e+20    5.999496e-07\n",
      "       12       2   -1.000000e+20   -6.064271e+00    1.000000e+20   -8.570831e-08\n",
      "       13       2   -1.000000e+20    1.042583e+01    1.000000e+20    2.582979e-07\n",
      "       14       2   -1.000000e+20    1.027253e+01    1.000000e+20    6.876077e-07\n",
      "       15       2   -1.000000e+20   -1.842489e+01    1.000000e+20    1.902530e-06\n",
      "       16       2   -1.000000e+20    1.369176e+01    1.000000e+20    7.838654e-07\n",
      "       17       2   -1.000000e+20    1.388513e+01    1.000000e+20    1.271154e-06\n",
      "       18       2   -1.000000e+20    2.748341e+00    1.000000e+20   -2.313940e-08\n",
      "       19       2   -1.000000e+20    4.229976e+00    1.000000e+20    1.506396e-07\n",
      "       20       2   -1.000000e+20   -6.806018e+00    1.000000e+20    3.654043e-07\n",
      "       21       2   -1.000000e+20    1.946832e+01    1.000000e+20    2.175593e-06\n",
      "       22       2   -1.000000e+20    1.580522e+00    1.000000e+20    6.638769e-07\n",
      "       23       2   -1.000000e+20    7.085274e+00    1.000000e+20    3.515341e-07\n",
      "       24       2   -1.000000e+20   -1.265217e+01    1.000000e+20    5.615654e-07\n",
      "       25       2   -1.000000e+20   -3.668005e+00    1.000000e+20    3.643079e-07\n",
      "       26       2   -1.000000e+20   -3.136017e+00    1.000000e+20    5.188015e-07\n",
      "       27       2   -1.000000e+20   -1.303845e+01    1.000000e+20    9.638801e-07\n",
      "       28       2   -1.000000e+20    3.062900e+00    1.000000e+20    1.474780e-07\n",
      "       29       2   -1.000000e+20   -6.038161e+00    1.000000e+20    5.831147e-07\n",
      "F:\n",
      "        0       0   -1.000000e+20    4.591346e-07    1.000000e+20    0.000000e+00\n",
      "----------------------------------------------------------------------------------\n",
      "Solved in 0.0614s\n",
      "Value of objective function: 0.00000046\n"
     ]
    }
   ],
   "source": [
    "#\n",
    "# Set up optimization problem to solve for positions\n",
    "#\n",
    "snopt = SNOPT_solver()\n",
    "snopt.setOption('Verbose',True)\n",
    "snopt.setOption('Solution print',False)\n",
    "snopt.setOption('Print file','uwb1.out')\n",
    "snopt.setOption('Iteration limit',8000)\n",
    "snopt.setOption('Print level',3)\n",
    "snopt.setOption('Major optimality',2e-12)\n",
    "\n",
    "inf = 1.0e20\n",
    "\n",
    "x = np.zeros((n, dim))\n",
    "x = np.matrix(x)\n",
    "x0 = x.A1\n",
    "\n",
    "xlow = np.matrix(-inf + np.zeros((n, dim)))\n",
    "xupp = np.matrix( inf + np.zeros((n, dim)))\n",
    "\n",
    "#\n",
    "# I have some known positions\n",
    "#\n",
    "for i in range(known):\n",
    "    xlow[i,:] = points_truth[i,:]\n",
    "    xupp[i,:] = points_truth[i,:]\n",
    "\n",
    "low_F = np.array([-inf])\n",
    "upp_F = np.array([ inf])\n",
    "\n",
    "def objF(status,x,needF,needG,cu,iu,ru):\n",
    "    points_estimated = x.reshape((n, dim))\n",
    "    pairwise_dist_estimated = sp.spatial.distance.pdist(points_estimated)\n",
    "\n",
    "    return status, [np.sum( (pairwise_dist_estimated - pairwise_dist_truth)**2 )]\n",
    "\n",
    "a = time.time()\n",
    "snopt.snopta(name=\"UWB_1\",usrfun=objF,x0=x0,xlow=xlow.A1,xupp=xupp.A1,\n",
    "             Flow=low_F,Fupp=upp_F,ObjRow=1)\n",
    "b = time.time()\n",
    "\n",
    "print \"Solved in %.4fs\" % (b - a)\n",
    "\n",
    "print \"Value of objective function: %.8f\" % snopt.F[0]"
   ]
  },
  {
   "cell_type": "code",
   "execution_count": 142,
   "metadata": {
    "collapsed": false
   },
   "outputs": [
    {
     "data": {
      "text/plain": [
       "<matplotlib.collections.PathCollection at 0x1169db9d0>"
      ]
     },
     "execution_count": 142,
     "metadata": {},
     "output_type": "execute_result"
    },
    {
     "data": {
      "image/png": "[encoded data removed]",
      "text/plain": [
       "<matplotlib.figure.Figure at 0x11686d350>"
      ]
     },
     "metadata": {},
     "output_type": "display_data"
    }
   ],
   "source": [
    "#\n",
    "# Check the error between solved-for and actual pointset\n",
    "#\n",
    "points_estimated = snopt.x.reshape((n, dim))\n",
    "\n",
    "plt.scatter(points_truth[:,0],points_truth[:,1], c=\"blue\", alpha=1, s=60, linewidth=0)\n",
    "plt.scatter(points_estimated[:,0],points_estimated[:,1], c=\"red\", alpha=1, linewidth=0)"
   ]
  },
  {
   "cell_type": "code",
   "execution_count": null,
   "metadata": {
    "collapsed": true
   },
   "outputs": [],
   "source": []
  },
  {
   "cell_type": "code",
   "execution_count": null,
   "metadata": {
    "collapsed": true
   },
   "outputs": [],
   "source": []
  }
 ],
 "metadata": {
  "kernelspec": {
   "display_name": "Python 2",
   "language": "python",
   "name": "python2"
  },
  "language_info": {
   "codemirror_mode": {
    "name": "ipython",
    "version": 2
   },
   "file_extension": ".py",
   "mimetype": "text/x-python",
   "name": "python",
   "nbconvert_exporter": "python",
   "pygments_lexer": "ipython2",
   "version": "2.7.6"
  }
 },
 "nbformat": 4,
 "nbformat_minor": 0
}
