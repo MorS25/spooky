{
 "cells": [
  {
   "cell_type": "code",
   "execution_count": 2,
   "metadata": {
    "collapsed": false
   },
   "outputs": [],
   "source": [
    "%load_ext autoreload\n",
    "%autoreload 2\n",
    "\n",
    "%matplotlib inline\n",
    "import time\n",
    "\n",
    "import matplotlib\n",
    "import matplotlib.pylab as pylab\n",
    "import matplotlib.pyplot as plt\n",
    "import matplotlib.cm as cm\n",
    "import matplotlib.patches as mpatches\n",
    "from matplotlib import gridspec\n",
    "\n",
    "import numpy as np\n",
    "import scipy as sp\n",
    "import scipy.sparse as sparse\n",
    "import numpy.linalg as linalg\n",
    "\n",
    "from scipy import interpolate\n",
    "from optimize.snopt7 import SNOPT_solver"
   ]
  },
  {
   "cell_type": "code",
   "execution_count": 11,
   "metadata": {
    "collapsed": false
   },
   "outputs": [
    {
     "name": "stdout",
     "output_type": "stream",
     "text": [
      "Points:  (10, 3)\n",
      "[[-12.39804825  -4.54670336 -24.79775224]\n",
      " [-10.00966385 -14.91463349   2.94005266]\n",
      " [ -6.14919081   5.0278619    1.43258022]\n",
      " [  5.72741266  -8.4203357   -3.93039909]\n",
      " [  5.86981942  -5.46900258  -7.23251517]\n",
      " [  7.03442308   7.44346929   6.26991506]\n",
      " [ -2.90804199  -1.10176276  19.14020897]\n",
      " [ -2.24127009 -23.63231742   2.38924337]\n",
      " [-16.44649872   1.8929934   -3.72269809]\n",
      " [ -5.45272043  23.79026365 -10.54259993]]\n",
      "Pairwise distances: (45,)\n",
      "[ 29.7083183   28.61382288  27.91028105  25.35947906  38.55625933\n",
      "  45.08294877  34.73547951  22.40574822  32.47199787  20.368575    18.3585018\n",
      "  21.09168245  28.31030983  22.44267131  11.6897111   19.19170166\n",
      "  41.23853438  18.72616554  18.15832175  14.24930323  19.01676787\n",
      "  28.94119774  11.93477461  22.26921036   4.43109664  18.90542234\n",
      "  25.69796769  18.29869321  24.4558836   34.73095574  18.71907726\n",
      "  28.13617268  22.09692323  23.7599633   31.5477611   18.37166481\n",
      "  32.66194446  26.1153937   26.5670303   28.08318584  26.73893966\n",
      "  38.82212657  29.84436029  49.2589807   25.43353429]\n"
     ]
    }
   ],
   "source": [
    "\n",
    "# \n",
    "# Attempt to solve for the positions of a randomly scattered set of UWB units\n",
    "#\n",
    "\n",
    "# Number of units\n",
    "n = 10\n",
    "dim = 3\n",
    "known = 3\n",
    "\n",
    "#\n",
    "# Create a random 3D pointset\n",
    "#\n",
    "points_truth = np.matrix(np.random.randn(n, dim) * 10)\n",
    "print \"Points: \", points_truth.shape\n",
    "print points_truth\n",
    "\n",
    "#\n",
    "# Calculate the pairwise distances\n",
    "#\n",
    "pairwise_dist_truth = sp.spatial.distance.pdist(points_truth)\n",
    "print \"Pairwise distances:\", pairwise_dist_truth.shape\n",
    "print pairwise_dist_truth"
   ]
  },
  {
   "cell_type": "code",
   "execution_count": 12,
   "metadata": {
    "collapsed": false,
    "scrolled": false
   },
   "outputs": [
    {
     "name": "stdout",
     "output_type": "stream",
     "text": [
      " --> Linear component of Jacobian not provided\n",
      " --> Nonlinear component of Jacobian not provided\n",
      "  Could not determine Jacobian structure from user input\n",
      "  Calling snJac...\n",
      " --> Initial xstate not provided; setting to 0\n",
      " --> Initial Fstate not provided; setting to 0\n",
      "----------------------------------------------------------------------------------\n",
      " SNOPT python interface   (Feb 2015)\n",
      "   Problem: UWB_1\n",
      "   # variables = 30; # constraints = 1 \n",
      "\n",
      "     Name state(j)      low(j)           x(j)           upp(j)        mul(j)\n",
      "x:\n",
      "        0       0   -1.239805e+01    0.000000e+00   -1.239805e+01    0.000000e+00\n",
      "        1       0   -4.546703e+00    0.000000e+00   -4.546703e+00    0.000000e+00\n",
      "        2       0   -2.479775e+01    0.000000e+00   -2.479775e+01    0.000000e+00\n",
      "        3       0   -1.000966e+01    0.000000e+00   -1.000966e+01    0.000000e+00\n",
      "        4       0   -1.491463e+01    0.000000e+00   -1.491463e+01    0.000000e+00\n",
      "        5       0    2.940053e+00    0.000000e+00    2.940053e+00    0.000000e+00\n",
      "        6       0   -6.149191e+00    0.000000e+00   -6.149191e+00    0.000000e+00\n",
      "        7       0    5.027862e+00    0.000000e+00    5.027862e+00    0.000000e+00\n",
      "        8       0    1.432580e+00    0.000000e+00    1.432580e+00    0.000000e+00\n",
      "        9       0   -1.000000e+20    0.000000e+00    1.000000e+20    0.000000e+00\n",
      "       10       0   -1.000000e+20    0.000000e+00    1.000000e+20    0.000000e+00\n",
      "       11       0   -1.000000e+20    0.000000e+00    1.000000e+20    0.000000e+00\n",
      "       12       0   -1.000000e+20    0.000000e+00    1.000000e+20    0.000000e+00\n",
      "       13       0   -1.000000e+20    0.000000e+00    1.000000e+20    0.000000e+00\n",
      "       14       0   -1.000000e+20    0.000000e+00    1.000000e+20    0.000000e+00\n",
      "       15       0   -1.000000e+20    0.000000e+00    1.000000e+20    0.000000e+00\n",
      "       16       0   -1.000000e+20    0.000000e+00    1.000000e+20    0.000000e+00\n",
      "       17       0   -1.000000e+20    0.000000e+00    1.000000e+20    0.000000e+00\n",
      "       18       0   -1.000000e+20    0.000000e+00    1.000000e+20    0.000000e+00\n",
      "       19       0   -1.000000e+20    0.000000e+00    1.000000e+20    0.000000e+00\n",
      "       20       0   -1.000000e+20    0.000000e+00    1.000000e+20    0.000000e+00\n",
      "       21       0   -1.000000e+20    0.000000e+00    1.000000e+20    0.000000e+00\n",
      "       22       0   -1.000000e+20    0.000000e+00    1.000000e+20    0.000000e+00\n",
      "       23       0   -1.000000e+20    0.000000e+00    1.000000e+20    0.000000e+00\n",
      "       24       0   -1.000000e+20    0.000000e+00    1.000000e+20    0.000000e+00\n",
      "       25       0   -1.000000e+20    0.000000e+00    1.000000e+20    0.000000e+00\n",
      "       26       0   -1.000000e+20    0.000000e+00    1.000000e+20    0.000000e+00\n",
      "       27       0   -1.000000e+20    0.000000e+00    1.000000e+20    0.000000e+00\n",
      "       28       0   -1.000000e+20    0.000000e+00    1.000000e+20    0.000000e+00\n",
      "       29       0   -1.000000e+20    0.000000e+00    1.000000e+20    0.000000e+00\n",
      "F:\n",
      "        0       0   -1.000000e+20    0.000000e+00    1.000000e+20    0.000000e+00\n",
      "----------------------------------------------------------------------------------\n",
      "\n",
      "----------------------------------------------------------------------------------\n",
      " Results for problem UWB_1\n",
      "   EXIT code          = 40\n",
      "   INFO code          = 41\n",
      "   Final objective    = 3.3781810464394812e-09\n",
      "   Total # major itns = 74\n",
      "   Total # iterations = 117\n",
      "\n",
      "     Name state(j)      low(j)           x(j)           upp(j)        mul(j)\n",
      "x:\n",
      "        0       0   -1.239805e+01   -1.239805e+01   -1.239805e+01    4.850181e-05\n",
      "        1       0   -4.546703e+00   -4.546703e+00   -4.546703e+00    5.352538e-05\n",
      "        2       0   -2.479775e+01   -2.479775e+01   -2.479775e+01    1.360285e-05\n",
      "        3       0   -1.000966e+01   -1.000966e+01   -1.000966e+01    3.577345e-05\n",
      "        4       0   -1.491463e+01   -1.491463e+01   -1.491463e+01    2.850488e-05\n",
      "        5       0    2.940053e+00    2.940053e+00    2.940053e+00   -1.814144e-05\n",
      "        6       0   -6.149191e+00   -6.149191e+00   -6.149191e+00   -5.808170e-05\n",
      "        7       0    5.027862e+00    5.027862e+00    5.027862e+00    7.145321e-05\n",
      "        8       0    1.432580e+00    1.432580e+00    1.432580e+00    3.343742e-05\n",
      "        9       2   -1.000000e+20    5.727405e+00    1.000000e+20    7.476512e-06\n",
      "       10       2   -1.000000e+20   -8.420363e+00    1.000000e+20   -1.188252e-05\n",
      "       11       2   -1.000000e+20   -3.930410e+00    1.000000e+20    2.020748e-06\n",
      "       12       2   -1.000000e+20    5.869813e+00    1.000000e+20    1.017504e-05\n",
      "       13       2   -1.000000e+20   -5.469030e+00    1.000000e+20   -7.757370e-06\n",
      "       14       2   -1.000000e+20   -7.232529e+00    1.000000e+20   -1.613712e-05\n",
      "       15       2   -1.000000e+20    7.034438e+00    1.000000e+20    8.272168e-06\n",
      "       16       2   -1.000000e+20    7.443448e+00    1.000000e+20    1.029129e-05\n",
      "       17       2   -1.000000e+20    6.269897e+00    1.000000e+20    1.645045e-05\n",
      "       18       2   -1.000000e+20   -2.908020e+00    1.000000e+20    9.757514e-06\n",
      "       19       2   -1.000000e+20   -1.101771e+00    1.000000e+20   -1.167093e-06\n",
      "       20       2   -1.000000e+20    1.914020e+01    1.000000e+20    1.441740e-05\n",
      "       21       2   -1.000000e+20   -2.241292e+00    1.000000e+20    2.260451e-06\n",
      "       22       2   -1.000000e+20   -2.363234e+01    1.000000e+20    7.086604e-06\n",
      "       23       2   -1.000000e+20    2.389237e+00    1.000000e+20    3.391024e-06\n",
      "       24       2   -1.000000e+20   -1.644650e+01    1.000000e+20   -1.332982e-05\n",
      "       25       2   -1.000000e+20    1.892987e+00    1.000000e+20   -1.477077e-06\n",
      "       26       2   -1.000000e+20   -3.722699e+00    1.000000e+20   -7.621607e-06\n",
      "       27       2   -1.000000e+20   -5.452698e+00    1.000000e+20   -6.949311e-06\n",
      "       28       2   -1.000000e+20    2.379024e+01    1.000000e+20    2.149294e-05\n",
      "       29       2   -1.000000e+20   -1.054263e+01    1.000000e+20   -1.535344e-05\n",
      "F:\n",
      "        0       0   -1.000000e+20    3.378181e-09    1.000000e+20    0.000000e+00\n",
      "----------------------------------------------------------------------------------\n",
      "Solved in 0.0568s\n",
      "Value of objective function: 0.00000000\n"
     ]
    }
   ],
   "source": [
    "#\n",
    "# Set up optimization problem to solve for positions\n",
    "#\n",
    "snopt = SNOPT_solver()\n",
    "snopt.setOption('Verbose',True)\n",
    "snopt.setOption('Solution print',False)\n",
    "snopt.setOption('Print file','uwb1.out')\n",
    "snopt.setOption('Iteration limit',8000)\n",
    "snopt.setOption('Print level',3)\n",
    "snopt.setOption('Major optimality',2e-12)\n",
    "\n",
    "inf = 1.0e20\n",
    "\n",
    "x = np.zeros((n, dim))\n",
    "x = np.matrix(x)\n",
    "x0 = x.A1\n",
    "\n",
    "xlow = np.matrix(-inf + np.zeros((n, dim)))\n",
    "xupp = np.matrix( inf + np.zeros((n, dim)))\n",
    "\n",
    "#\n",
    "# I have some known positions\n",
    "#\n",
    "for i in range(known):\n",
    "    xlow[i,:] = points_truth[i,:]\n",
    "    xupp[i,:] = points_truth[i,:]\n",
    "\n",
    "low_F = np.array([-inf])\n",
    "upp_F = np.array([ inf])\n",
    "\n",
    "def objF(status,x,needF,needG,cu,iu,ru):\n",
    "    points_estimated = x.reshape((n, dim))\n",
    "    pairwise_dist_estimated = sp.spatial.distance.pdist(points_estimated)\n",
    "\n",
    "    return status, [np.sum( (pairwise_dist_estimated - pairwise_dist_truth)**2 )]\n",
    "\n",
    "a = time.time()\n",
    "snopt.snopta(name=\"UWB_1\",usrfun=objF,x0=x0,xlow=xlow.A1,xupp=xupp.A1,\n",
    "             Flow=low_F,Fupp=upp_F,ObjRow=1)\n",
    "b = time.time()\n",
    "\n",
    "print \"Solved in %.4fs\" % (b - a)\n",
    "\n",
    "print \"Value of objective function: %.8f\" % snopt.F[0]"
   ]
  },
  {
   "cell_type": "code",
   "execution_count": 13,
   "metadata": {
    "collapsed": false
   },
   "outputs": [
    {
     "data": {
      "text/plain": [
       "<matplotlib.collections.PathCollection at 0x1107b31d0>"
      ]
     },
     "execution_count": 13,
     "metadata": {},
     "output_type": "execute_result"
    },
    {
     "data": {
      "image/png": "[encoded data removed]",
      "text/plain": [
       "<matplotlib.figure.Figure at 0x106ccdf90>"
      ]
     },
     "metadata": {},
     "output_type": "display_data"
    }
   ],
   "source": [
    "#\n",
    "# Check the error between solved-for and actual pointset\n",
    "#\n",
    "points_estimated = snopt.x.reshape((n, dim))\n",
    "\n",
    "plt.scatter(points_truth[:,0],points_truth[:,1], c=\"blue\", alpha=1, s=60, linewidth=0)\n",
    "plt.scatter(points_estimated[:,0],points_estimated[:,1], c=\"red\", alpha=1, linewidth=0)"
   ]
  },
  {
   "cell_type": "code",
   "execution_count": null,
   "metadata": {
    "collapsed": true
   },
   "outputs": [],
   "source": []
  },
  {
   "cell_type": "code",
   "execution_count": null,
   "metadata": {
    "collapsed": true
   },
   "outputs": [],
   "source": []
  }
 ],
 "metadata": {
  "kernelspec": {
   "display_name": "Python 2",
   "language": "python",
   "name": "python2"
  },
  "language_info": {
   "codemirror_mode": {
    "name": "ipython",
    "version": 2
   },
   "file_extension": ".py",
   "mimetype": "text/x-python",
   "name": "python",
   "nbconvert_exporter": "python",
   "pygments_lexer": "ipython2",
   "version": "2.7.6"
  }
 },
 "nbformat": 4,
 "nbformat_minor": 0
}
