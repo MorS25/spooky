{
 "cells": [
  {
   "cell_type": "code",
   "execution_count": null,
   "metadata": {
    "collapsed": true
   },
   "outputs": [],
   "source": [
    "%load_ext autoreload\n",
    "%autoreload 2"
   ]
  },
  {
   "cell_type": "code",
   "execution_count": null,
   "metadata": {
    "collapsed": true
   },
   "outputs": [],
   "source": [
    "%matplotlib inline\n",
    "import matplotlib\n",
    "import matplotlib.pylab as pylab\n",
    "import matplotlib.pyplot as plt\n",
    "import matplotlib.cm as cm\n",
    "import matplotlib.patches as mpatches\n",
    "import numpy as np\n",
    "import numpy.linalg as la"
   ]
  },
  {
   "cell_type": "code",
   "execution_count": 9,
   "metadata": {
    "collapsed": true
   },
   "outputs": [],
   "source": [
    "def add_relative_to_current_source_file_path_to_sys_path(relpath):\n",
    "    import os, sys, inspect\n",
    "    path = os.path.realpath(os.path.abspath(os.path.join(os.path.split(inspect.getfile(inspect.currentframe()))[0],relpath)))\n",
    "    if path not in sys.path:\n",
    "        sys.path.insert(0,path)\n",
    "\n",
    "add_relative_to_current_source_file_path_to_sys_path(\"../../shims/toric\")   \n",
    "\n",
    "import toric\n",
    "import toric.samples\n",
    "import toric.shims\n",
    "\n",
    "def slerp(p0, p1, t):\n",
    "        omega = np.arccos(np.dot(p0/np.linalg.norm(p0), p1/np.linalg.norm(p1)))\n",
    "        so = np.sin(omega)\n",
    "        return np.sin((1.0-t)*omega) / so * p0 + np.sin(t*omega)/so * p1\n",
    "\n",
    "def drawSetup(fudgeX=2, fudgeY_pos=2,fudgeY_neg=8):\n",
    "    pylab.rcParams['figure.figsize'] = 8, 8\n",
    "\n",
    "    plt.axes().set_aspect('equal')\n",
    "    fig = plt.gcf()\n",
    "    \n",
    "    # Set up plot size\n",
    "    plt.axes().set_xlim((np.min([PA_1.x(), PB_1.x()])-fudgeX,np.max([PA_1.x(), PB_1.x()])+fudgeX))\n",
    "    plt.axes().set_ylim((np.min([PA_1.y(), PB_1.y()])-fudgeY_neg,np.max([PA_1.y(), PB_1.y()])+fudgeY_pos))\n",
    "\n",
    "    # Draw People Positions\n",
    "    plt.scatter([PA_1.x(), PB_1.x()],[PA_1.y(), PB_1.y()],c=\"red\",linewidths=0)\n",
    "    line_AB = plt.Line2D([PA_1.x(), PB_1.x()],[PA_1.y(), PB_1.y()], c=\"black\",alpha=0.3)\n",
    "    fig.gca().add_artist(line_AB)\n",
    "\n",
    "    # Draw Circles    \n",
    "    circle_PA_1=plt.Circle((PA_1.x(),PA_1.y()),min_dist,color='g',alpha=0.5)\n",
    "    circle_PB_1=plt.Circle((PB_1.x(),PB_1.y()),min_dist,color='g',alpha=0.5)\n",
    "    \n",
    "    fig.gca().add_artist(circle_PA_1)\n",
    "    fig.gca().add_artist(circle_PB_1)\n",
    "\n",
    "    plt.annotate(s=\"A\", xy=(PA_1.x(),PA_1.y()),xytext=(3,4),textcoords=\"offset points\")\n",
    "    plt.annotate(s=\"B\", xy=(PB_1.x(),PB_1.y()),xytext=(3,4),textcoords=\"offset points\")\n",
    "    \n",
    "    # Draw Camera positions\n",
    "    plt.scatter([C_0.x(), C_1.x()],[C_0.y(), C_1.y()],c=\"blue\",linewidths=0)\n",
    "    plt.annotate(s=\"C0\", xy=(C_0.x(), C_0.y()),xytext=(3,4),textcoords=\"offset points\")\n",
    "    plt.annotate(s=\"C1\", xy=(C_1.x(), C_1.y()),xytext=(3,4),textcoords=\"offset points\")"
   ]
  },
  {
   "cell_type": "code",
   "execution_count": 19,
   "metadata": {
    "collapsed": false
   },
   "outputs": [
    {
     "data": {
      "text/plain": [
       "[<matplotlib.lines.Line2D at 0x10f3f2490>]"
      ]
     },
     "execution_count": 19,
     "metadata": {},
     "output_type": "execute_result"
    },
    {
     "data": {
      "image/png": "[encoded data removed]",
      "text/plain": [
       "<matplotlib.figure.Figure at 0x10f486d10>"
      ]
     },
     "metadata": {},
     "output_type": "display_data"
    }
   ],
   "source": [
    "min_dist = 1                    # let's set a minimum distance of 1m\n",
    "PA_1 = toric.Vector3(0,0,0)     # person A position\n",
    "PB_1 = toric.Vector3(4,0,0)     # person B position\n",
    "C_1 = toric.Vector3(2,-5,0)  # Starting camera position is *outside* of PA_1\n",
    "C_2 = toric.Vector3( 5,-1,0)    # Ending camera position\n",
    "\n",
    "drawSetup(fudgeY_neg=2)\n",
    "plt.title(\"Interpolate position between C0 and C1\")\n",
    "\n",
    "C_1t = toric.Toric3_FromWorldPosition(C_1, PA_1, PB_1)\n",
    "C_2t = toric.Toric3_FromWorldPosition(C_2, PA_1, PB_1)\n",
    "\n",
    "interp = toric.ToricInterpolator(PA_1, PB_1, C_0t, C_1t)\n",
    "\n",
    "t = np.linspace(0,1)\n",
    "\n",
    "sigma = np.array([toric.Toric3_ToWorldPosition(interp.interpolate(a),PA_1,PB_1).np() for a in t])\n",
    "\n",
    "drawSetup(fudgeY_neg=6)\n",
    "plt.plot(sigma[:,0],sigma[:,1])"
   ]
  },
  {
   "cell_type": "code",
   "execution_count": 25,
   "metadata": {
    "collapsed": false
   },
   "outputs": [
    {
     "data": {
      "text/plain": [
       "<toric.__init__.Quaternion; proxy of <Swig Object of type 'toric::Quaternion *' at 0x10e846f60> >"
      ]
     },
     "execution_count": 25,
     "metadata": {},
     "output_type": "execute_result"
    }
   ],
   "source": [
    "aspect = 16/9\n",
    "\n",
    "SA_1 = toric.Vector2(0.33, 0.66);\n",
    "SB_1 = toric.Vector2(0.66, 0.66);\n",
    "fovX_1 = toric.RadianPi(2 * np.arctan(6/5)); # geometrically calculated by hand\n",
    "fovY_1 = toric.RadianPi(fovX_1.valueRadians() / aspect);\n",
    "\n",
    "SA_2 = \n",
    "SB_2 = \n",
    "fovX_2 = fovX_1\n",
    "fovY_2 = fovY_1\n",
    "\n",
    "rotation_0 = toric.Toric3_ComputeOrientationForTwoTargets(C_1, SA_1, SB_1, PA_1, PB_1, fovX_1, fovY_1)\n",
    "\n",
    "rotation_0"
   ]
  }
 ],
 "metadata": {
  "kernelspec": {
   "display_name": "Python 2",
   "language": "python",
   "name": "python2"
  },
  "language_info": {
   "codemirror_mode": {
    "name": "ipython",
    "version": 2
   },
   "file_extension": ".py",
   "mimetype": "text/x-python",
   "name": "python",
   "nbconvert_exporter": "python",
   "pygments_lexer": "ipython2",
   "version": "2.7.10"
  }
 },
 "nbformat": 4,
 "nbformat_minor": 0
}
