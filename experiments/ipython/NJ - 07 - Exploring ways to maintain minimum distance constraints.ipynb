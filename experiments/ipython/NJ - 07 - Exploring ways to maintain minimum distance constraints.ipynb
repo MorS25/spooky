{
 "cells": [
  {
   "cell_type": "markdown",
   "metadata": {},
   "source": [
    "# Exploring Ways to Respect Minimum Distance Constraints\n",
    "\n",
    "## OK, What are our options?\n",
    "\n",
    "**We can attempt to put bounds on input camera positions beyond \"minimum distance\" that will guarantee respecting minimum distance**\n",
    "\n",
    "We start exploring this by sampling the space of possible camera start-end pairs and seeing where the minimum distance constraint gets violated by the path.\n",
    "\n",
    "**We can attempt to extend their formulation with an additional geometric term to push us out of the minimum distance constraint.**\n",
    "\n",
    "We start by thinking hard.\n",
    "\n",
    "**We can attempt to move to a two-step process where we take the initial trajectory, then \"fix it up\" using an optimization approach.**\n",
    "\n",
    "Sounds like a last resort, bolting on a second method to fix your broken first one. But perhaps!\n",
    "\n",
    "**We can reformulate the problem as a physics-based approach**\n",
    "\n",
    "Perhaps we turn minimum distance into a soft constraint, and find trajectories of a charged particle repelled by both people. Attempt to follow equipotential lines. \n",
    "\n",
    "This means leaving the toric space behind completely, and thus not getting any of the benefit of \"maintaining visual features\" the way they (loosely) define."
   ]
  }
 ],
 "metadata": {
  "kernelspec": {
   "display_name": "Python 2",
   "language": "python",
   "name": "python2"
  },
  "language_info": {
   "codemirror_mode": {
    "name": "ipython",
    "version": 2
   },
   "file_extension": ".py",
   "mimetype": "text/x-python",
   "name": "python",
   "nbconvert_exporter": "python",
   "pygments_lexer": "ipython2",
   "version": "2.7.6"
  }
 },
 "nbformat": 4,
 "nbformat_minor": 0
}
