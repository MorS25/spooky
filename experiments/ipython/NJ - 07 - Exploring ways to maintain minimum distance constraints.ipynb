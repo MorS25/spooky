{
 "cells": [
  {
   "cell_type": "markdown",
   "metadata": {},
   "source": [
    "# Exploring Ways to Respect Minimum Distance Constraints\n",
    "\n",
    "## OK, What are our options?\n",
    "\n",
    "### 1) We can attempt to put bounds on input camera positions beyond \"minimum distance\" that will guarantee respecting minimum distance\n",
    "\n",
    "A simple observation: All camera positions must be *twice* the minimum distance away from people. This will guarantee the trajectory never intersecting the minimum distance sphere. \n",
    "\n",
    "That's a bad bound for us, though - we'd like to bring a camera right up to the minimum!\n",
    "\n",
    "We start exploring this by sampling the space of possible camera start-end pairs and seeing where the minimum distance constraint gets violated by the path.\n",
    "\n",
    "### 2) We can attempt to extend their formulation\n",
    "\n",
    "\n",
    "eg: with an additional geometric term to push us out of the minimum distance constraint.\n",
    "\n",
    "We start by thinking hard.\n",
    "\n",
    "This would be nice if we can have it only kick in when we're close to the person, so we legitimately say \"we choose to enforce minimum distance over visual features.\"\n",
    "\n",
    "### 3) We can attempt to move to a two-step process where we take the initial trajectory, then \"fix it up\" using an optimization approach.\n",
    "\n",
    "Sounds like a last resort, bolting on a second method to fix your broken first one. But perhaps!\n",
    "\n",
    "*Dan Doesn't Like This. But we can tell the story so this is okay*\n",
    "\n",
    "### 4) Find a different approach\n",
    "\n",
    "Suggestion: We can reformulate the problem as a physics-based approach\n",
    "\n",
    "Suggestion: Directly minimize screen position and screen size change under minimum distance constraints.\n",
    "\n",
    "Perhaps we turn minimum distance into a soft constraint, and find trajectories of a charged particle repelled by both people. Attempt to follow equipotential lines. \n",
    "\n",
    "This means leaving the toric space behind completely, and thus not getting any of the benefit of \"maintaining visual features\" the way they (loosely) define.\n",
    "\n",
    "### 5) Screw visual features, just ensure safety (which we also dont know how to do yet)\n",
    "\n",
    "**AIRWAYS PAPER!**\n"
   ]
  },
  {
   "cell_type": "code",
   "execution_count": null,
   "metadata": {
    "collapsed": true
   },
   "outputs": [],
   "source": []
  }
 ],
 "metadata": {
  "kernelspec": {
   "display_name": "Python 2",
   "language": "python",
   "name": "python2"
  },
  "language_info": {
   "codemirror_mode": {
    "name": "ipython",
    "version": 2
   },
   "file_extension": ".py",
   "mimetype": "text/x-python",
   "name": "python",
   "nbconvert_exporter": "python",
   "pygments_lexer": "ipython2",
   "version": "2.7.6"
  }
 },
 "nbformat": 4,
 "nbformat_minor": 0
}
