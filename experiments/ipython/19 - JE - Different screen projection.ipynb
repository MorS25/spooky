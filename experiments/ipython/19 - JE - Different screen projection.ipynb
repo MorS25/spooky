{
 "cells": [
  {
   "cell_type": "code",
   "execution_count": 81,
   "metadata": {
    "collapsed": false
   },
   "outputs": [
    {
     "name": "stdout",
     "output_type": "stream",
     "text": [
      "The autoreload extension is already loaded. To reload it, use:\n",
      "  %reload_ext autoreload\n"
     ]
    }
   ],
   "source": [
    "%load_ext autoreload\n",
    "%autoreload 2\n",
    "\n",
    "%matplotlib inline\n",
    "import matplotlib\n",
    "import matplotlib.pylab as pylab\n",
    "import matplotlib.pyplot as plt\n",
    "import matplotlib.cm as cm\n",
    "import matplotlib.patches as mpatches\n",
    "from matplotlib import gridspec\n",
    "\n",
    "import numpy as np\n",
    "import scipy.sparse as sp\n",
    "import numpy.linalg as la"
   ]
  },
  {
   "cell_type": "code",
   "execution_count": 82,
   "metadata": {
    "collapsed": true
   },
   "outputs": [],
   "source": [
    "def fovX_from_fovY(fovY, aspect):\n",
    "    tanY = np.tan(fovY / 2.0)\n",
    "    tanX = tanY * aspect;\n",
    "    fovX = np.arctan(tanX)\n",
    "    return fovX\n",
    "\n",
    "def drawSetup(fudgeX=10, fudgeY_pos=6,fudgeY_neg=8):\n",
    "    pylab.rcParams['figure.figsize'] = 8, 8\n",
    "\n",
    "    plt.axes().set_aspect('equal')\n",
    "    fig = plt.gcf()\n",
    "    \n",
    "    # Set up plot size\n",
    "    plt.axes().set_xlim((np.min([PA.x(), PB.x()])-fudgeX,np.max([PA.x(), PB.x()])+fudgeX))\n",
    "    plt.axes().set_ylim((np.min([PA.y(), PB.y()])-fudgeY_neg,np.max([PA.y(), PB.y()])+fudgeY_pos))\n",
    "\n",
    "    # Draw People Positions\n",
    "    plt.scatter([PA.x(), PB.x()],[PA.y(), PB.y()],c=\"red\",linewidths=0)\n",
    "    line_AB = plt.Line2D([PA.x(), PB.x()],[PA.y(), PB.y()], c=\"black\",alpha=0.3)\n",
    "    fig.gca().add_artist(line_AB)\n",
    "\n",
    "    # Draw Circles    \n",
    "    circle_PA=plt.Circle((PA.x(),PA.y()),min_dist,color='g',alpha=0.5)\n",
    "    circle_PB=plt.Circle((PB.x(),PB.y()),min_dist,color='g',alpha=0.5)\n",
    "    \n",
    "    fig.gca().add_artist(circle_PA)\n",
    "    fig.gca().add_artist(circle_PB)\n",
    "\n",
    "    plt.annotate(s=\"A\", xy=(PA.x(),PA.y()),xytext=(3,4),textcoords=\"offset points\")\n",
    "    plt.annotate(s=\"B\", xy=(PB.x(),PB.y()),xytext=(3,4),textcoords=\"offset points\")\n",
    "    \n",
    "    # Draw Camera positions\n",
    "    plt.scatter([C.x()],[C.y()],c=\"blue\",linewidths=0)\n",
    "    plt.annotate(s=\"C\", xy=(C.x(), C.y()),xytext=(3,4),textcoords=\"offset points\")"
   ]
  },
  {
   "cell_type": "code",
   "execution_count": 83,
   "metadata": {
    "collapsed": false
   },
   "outputs": [],
   "source": [
    "# Conversion from world space to camera screen space (from Unity: z,x,-y)\n",
    "\n",
    "# simple test\n",
    "# camera specs (position, forward, up, fov)\n",
    "C_test = np.array([1,0,0])#-92.9,-39.6,-2.1])\n",
    "forward_test = np.array([-1,0,0])#-1.0,0.0,0.0])\n",
    "up_test = np.array([0,1,0])#0.0,0.0,-1.0])\n",
    "aspect_test = 16.0/9.0\n",
    "fovY_test = 0.8726646\n",
    "fovX_test = fovX_from_fovY(fovY_test, aspect_test)\n",
    "\n",
    "# scene specs\n",
    "PA_test = np.array([-1,0,0])#-98.2,-40.6,-1.6])     # person A position"
   ]
  },
  {
   "cell_type": "code",
   "execution_count": 87,
   "metadata": {
    "collapsed": false
   },
   "outputs": [
    {
     "name": "stdout",
     "output_type": "stream",
     "text": [
      "0.8726646\n",
      "1.77777777778\n",
      "proj\n",
      "[[ 1.20628518  0.          0.          0.        ]\n",
      " [ 0.          2.14450699  0.          0.        ]\n",
      " [ 0.          0.         -1.002002   -0.2002002 ]\n",
      " [ 0.          0.         -1.          0.        ]]\n"
     ]
    }
   ],
   "source": [
    "# https://www.opengl.org/sdk/docs/man2/xhtml/gluPerspective.xml\n",
    "# https://unspecified.wordpress.com/2012/06/21/calculating-the-gluperspective-matrix-and-other-opengl-matrix-maths/\n",
    "def perspective_matrix(fovY, aspect, near, far):\n",
    "    print fovY\n",
    "    print aspect\n",
    "    f = 1.0 / np.tan (fovY / 2.0)\n",
    "    p_matrix = np.matrix([[f/aspect, 0.0, 0.0, 0.0],\n",
    "                          [0.0, f, 0.0, 0.0],\n",
    "                          [0.0, 0.0, (far+near)/(near-far), (2.0*far*near)/(near-far)], \n",
    "                          [0.0, 0.0, -1.0, 0.0]])\n",
    "    return p_matrix\n",
    "\n",
    "proj_test = perspective_matrix(fovY_test, aspect_test, 0.1, 100.0)\n",
    "print \"proj\"\n",
    "print proj_test"
   ]
  },
  {
   "cell_type": "code",
   "execution_count": 85,
   "metadata": {
    "collapsed": false
   },
   "outputs": [
    {
     "name": "stdout",
     "output_type": "stream",
     "text": [
      "look =  [0 0 0]\n",
      "C =  [1 0 0]\n",
      "forward =  [-1  0  0]\n",
      "up =  [0 1 0]\n",
      "right =  [0 0 1]\n",
      "arcball \n",
      "[[ 0.  0. -1.  0.]\n",
      " [-0.  1.  0.  0.]\n",
      " [ 1.  0.  0.  0.]\n",
      " [ 0.  0.  0.  1.]]\n",
      "[-1  0  0]\n",
      "eye_space_point  [ 0.  0. -2.]\n",
      "image_space_point  [ 0.         0.         0.9019019]\n"
     ]
    }
   ],
   "source": [
    "# VECTOR<float,2> OPENGL_WORLD::\n",
    "# Project_World_Space_Point_Onto_Image_Plane(const TV& world_space_point)\n",
    "# {\n",
    "#     MATRIX<float,4> perspective_matrix;\n",
    "#     perspective_matrix(1,1)=(1/tan(.5f*fovy*(float)pi/180))*(float)window-      >Height()/(float)window->Width();\n",
    "#     perspective_matrix(2,2)=1/tan(.5f*fovy*(float)pi/180);\n",
    "#     perspective_matrix(3,3)=(farclip+nearclip)/(nearclip-farclip);\n",
    "#     perspective_matrix(3,4)=(2*farclip*nearclip)/(nearclip-farclip);\n",
    "#     perspective_matrix(4,3)=-1;\n",
    "\n",
    "#     VECTOR<T,3> eye_space_point=TV(0.f,0.f,-camera_distance)+(arcball_matrix).Homogeneous_Times(world_space_point-target_position);\n",
    "#     VECTOR<T,3> image_space_point=perspective_matrix.Homogeneous_Times(eye_space_point);\n",
    "#     image_space_point(1)=((float)window->Width())*image_space_point(1)/2+((float)window->Width())/2;\n",
    "#     image_space_point(2)=((float)window->Height())*image_space_point(2)/2+((float)window->Height())/2;\n",
    "#     return VECTOR<float,2>(image_space_point(1),image_space_point(2));\n",
    "# }\n",
    "\n",
    "look_test = C_test + forward_test # target position\n",
    "print \"look = \", look_test\n",
    "print \"C = \", C_test\n",
    "print \"forward = \", forward_test\n",
    "print \"up = \", up_test\n",
    "right_test = np.cross(up_test, forward_test)\n",
    "right_test / la.norm(right_test)\n",
    "print \"right = \", right_test\n",
    "\n",
    "# axes to camera space\n",
    "def arcball_matrix(camForward, camUp):\n",
    "    z = -camForward\n",
    "    z = z / la.norm(z) # forward\n",
    "    y = camUp # up\n",
    "    x = np.cross(y, z) # right\n",
    "    y = np.cross(z, x)\n",
    "    x = x / la.norm(x)\n",
    "    y = y / la.norm(y)\n",
    "    return np.matrix([[x[0], x[1], x[2], 0.0], \n",
    "                      [y[0], y[1], y[2], 0.0],\n",
    "                      [z[0], z[1], z[2], 0.0],\n",
    "                      [0.0, 0.0, 0.0, 1.0]])\n",
    "    # return np.matrix([[x[0], y[0], z[0], 0.0], \n",
    "    #                   [x[1], y[1], z[1], 0.0],\n",
    "    #                   [x[2], y[2], z[2], 0.0],\n",
    "    #                   [0.0, 0.0, 0.0, 1.0]])\n",
    "\n",
    "arcball_test = arcball_matrix(forward_test, up_test)\n",
    "print \"arcball \"\n",
    "print arcball_test\n",
    "\n",
    "def homogeneous_times(matrix, vec3):\n",
    "    homogeneous_point = np.matrix([vec3[0], vec3[1], vec3[2], 1.0])\n",
    "    vec4 = matrix * np.transpose(homogeneous_point)\n",
    "    homogeneous_return = np.array([vec4[0]/vec4[3], vec4[1]/vec4[3], vec4[2]/vec4[3]])\n",
    "    homogeneous_return = np.reshape(homogeneous_return, (1, 3))\n",
    "    return np.array([homogeneous_return[0][0], homogeneous_return[0][1], homogeneous_return[0][2]])\n",
    "\n",
    "# PA world to screen\n",
    "print (PA_test - look_test)\n",
    "eye_space_point_test = np.array([0.0, 0.0, -1.0]) + homogeneous_times(arcball_test, PA_test - look_test)\n",
    "print \"eye_space_point \", eye_space_point_test\n",
    "\n",
    "image_space_point_test = homogeneous_times(proj_test, eye_space_point_test)\n",
    "print \"image_space_point \", image_space_point_test"
   ]
  },
  {
   "cell_type": "code",
   "execution_count": 86,
   "metadata": {
    "collapsed": false
   },
   "outputs": [
    {
     "name": "stdout",
     "output_type": "stream",
     "text": [
      "look =  [-93.9 -39.6  -0.8]\n",
      "C =  [-92.9 -39.6  -0.8]\n",
      "forward =  [-1.  0.  0.]\n",
      "up =  [ 0.  0. -1.]\n",
      "right =  [ 0.  1.  0.]\n",
      "[[-0. -1. -0.  0.]\n",
      " [ 0.  0. -1.  0.]\n",
      " [ 1. -0. -0.  0.]\n",
      " [ 0.  0.  0.  1.]]\n",
      "[-4.3 -1.  -0.8]\n",
      "eye_space_point  [ 1.   0.8 -5.3]\n",
      "image_space_point  [ 0.22760098  0.32369917  0.96422838]\n"
     ]
    }
   ],
   "source": [
    "# Conversion from world space to camera screen space (from Unity: z,x,-y)\n",
    "\n",
    "# Apex shot\n",
    "# camera specs (position, forward, up, fov)\n",
    "C = np.array([-92.9,-39.6,-0.8])\n",
    "forward = np.array([-1.0,0.0,0.0])\n",
    "up = np.array([0.0,0.0,-1.0])\n",
    "look = C + forward\n",
    "aspect = 16.0/9.0\n",
    "fovY = 0.8726646\n",
    "fovX = fovX_from_fovY(fovY, aspect)\n",
    "\n",
    "print \"look = \", look\n",
    "print \"C = \", C\n",
    "print \"forward = \", forward\n",
    "print \"up = \", up\n",
    "right = np.cross(up, forward)\n",
    "right / la.norm(right)\n",
    "print \"right = \", right\n",
    "\n",
    "# scene specs\n",
    "PA = np.array([-98.2,-40.6,-1.6])     # person A position\n",
    "PB = np.array([-98.2,-38.6,-1.6])     # person B position\n",
    "\n",
    "# PA world to screen\n",
    "proj = perspective_matrix(fovY, aspect, 0.1, 100.0)\n",
    "arcball = arcball_matrix(forward, up)\n",
    "print arcball\n",
    "\n",
    "print PA-look\n",
    "eye_space_point = np.array([0.0, 0.0, -1.0]) + homogeneous_times(arcball, PA-look)\n",
    "print \"eye_space_point \", eye_space_point\n",
    "\n",
    "image_space_point = homogeneous_times(proj, eye_space_point)\n",
    "print \"image_space_point \", image_space_point"
   ]
  },
  {
   "cell_type": "code",
   "execution_count": 80,
   "metadata": {
    "collapsed": false
   },
   "outputs": [
    {
     "name": "stdout",
     "output_type": "stream",
     "text": [
      "eye_space_point  [-1.   0.8 -5.3]\n",
      "image_space_point  [-0.22760098  0.32369917  0.96422838]\n"
     ]
    }
   ],
   "source": [
    "eye_space_point = np.array([0.0, 0.0, -1.0]) + homogeneous_times(arcball, PB - look)\n",
    "print \"eye_space_point \", eye_space_point\n",
    "\n",
    "image_space_point = homogeneous_times(proj, eye_space_point)\n",
    "print \"image_space_point \", image_space_point"
   ]
  }
 ],
 "metadata": {
  "kernelspec": {
   "display_name": "Python 2",
   "language": "python",
   "name": "python2"
  },
  "language_info": {
   "codemirror_mode": {
    "name": "ipython",
    "version": 2
   },
   "file_extension": ".py",
   "mimetype": "text/x-python",
   "name": "python",
   "nbconvert_exporter": "python",
   "pygments_lexer": "ipython2",
   "version": "2.7.10"
  }
 },
 "nbformat": 4,
 "nbformat_minor": 0
}
