{
 "cells": [
  {
   "cell_type": "code",
   "execution_count": 5,
   "metadata": {
    "collapsed": false
   },
   "outputs": [
    {
     "name": "stdout",
     "output_type": "stream",
     "text": [
      "The autoreload extension is already loaded. To reload it, use:\n",
      "  %reload_ext autoreload\n"
     ]
    }
   ],
   "source": [
    "%load_ext autoreload\n",
    "%autoreload 2\n",
    "%matplotlib inline\n",
    "\n",
    "#\n",
    "# Standard Library Imports\n",
    "#\n",
    "import time\n",
    "import math\n",
    "\n",
    "#\n",
    "# Plotting Imports\n",
    "#\n",
    "import matplotlib\n",
    "import matplotlib.pylab as pylab\n",
    "import matplotlib.pyplot as plt\n",
    "import matplotlib.cm as cm\n",
    "import matplotlib.patches as mpatches\n",
    "from matplotlib import gridspec\n",
    "\n",
    "#\n",
    "# Numerical Mathematics Imports\n",
    "#\n",
    "import numpy as np\n",
    "import scipy.sparse as sp\n",
    "import numpy.linalg as la\n",
    "from scipy import interpolate\n",
    "from scipy.special import expit\n",
    "\n",
    "#\n",
    "# Symbolic Mathematics Imports\n",
    "#\n",
    "import sympy\n",
    "import sympy.matrices\n",
    "import sympy.physics\n",
    "import sympy.physics.mechanics\n",
    "import sympy.physics.mechanics.functions\n",
    "\n",
    "#\n",
    "# Nonlinear Optimization Imports\n",
    "#\n",
    "from optimize.snopt7 import SNOPT_solver\n",
    "\n",
    "#\n",
    "# Stanford Quadrotor-specific Code\n",
    "#\n",
    "import pathutils\n",
    "pathutils.add_relative_to_current_source_file_path_to_sys_path(\"/Users/njoubert/Code/Frankencopter/Code/\")\n",
    "\n",
    "import flashlight.sympyutils as sympyutils\n",
    "\n",
    "#\n",
    "# Configuration\n",
    "#\n",
    "sympy.physics.mechanics.functions.mechanics_printing(use_latex=\"mathjax\", latex_mode=\"equation\")"
   ]
  },
  {
   "cell_type": "markdown",
   "metadata": {},
   "source": [
    "# Messing Around with SymPy"
   ]
  },
  {
   "cell_type": "code",
   "execution_count": 109,
   "metadata": {
    "collapsed": false
   },
   "outputs": [
    {
     "name": "stdout",
     "output_type": "stream",
     "text": [
      "My expression is: 2*x_1 + x_2**x_3\n",
      "Simplify with {x1 = 1, x2 = 2, x3 = 2} ==  6\n",
      "Evaluate into float ==  6.00000000000000\n",
      "Evaluate with subs (recommended method) ==  6.00000000000000\n",
      "Converted symbolic expression into lambda: <type 'function'>\n",
      "Calling with args (1, 2, 2) ==  6\n"
     ]
    }
   ],
   "source": [
    "#\n",
    "# Let's build an expression and have a function to evaluate it\n",
    "#\n",
    "\n",
    "x1, x2, x3 = sympy.symbols('x_1 x_2 x_3')\n",
    "expr = 2*x1 + x2**x3\n",
    "print \"My expression is:\", expr\n",
    "\n",
    "#\n",
    "# Evaluate by Substitution\n",
    "#\n",
    "\n",
    "simpl = expr.subs([(x1, 1), (x2, 2), (x3, 2)])\n",
    "print \"Simplify with {x1 = 1, x2 = 2, x3 = 2} == \", simpl\n",
    "print \"Evaluate into float == \", simpl.evalf()\n",
    "print \"Evaluate with subs (recommended method) == \", expr.evalf(subs={x1: 1, x2: 2, x3: 2})\n",
    "\n",
    "#\n",
    "# Convert expression into anonymous function\n",
    "#\n",
    "func = sympy.lambdify([x1, x2, x3], expr, 'numpy')\n",
    "print \"Converted symbolic expression into lambda:\", type(func)\n",
    "print \"Calling with args (1, 2, 2) == \", func(1, 2, 2)\n"
   ]
  },
  {
   "cell_type": "code",
   "execution_count": 126,
   "metadata": {
    "collapsed": false
   },
   "outputs": [
    {
     "name": "stdout",
     "output_type": "stream",
     "text": [
      "Energy expression is: (w_0_0 - 0.5)**2 + (w_1_0 - 0.5)**2 + (w_2_0 - 0.5)**2 + (w_3_0 - 0.5)**2 + (w_4_0 - 0.5)**2 + (w_5_0 - 0.5)**2 + (w_6_0 - 0.5)**2 + (w_7_0 - 0.5)**2 + (w_8_0 - 0.5)**2 + (w_9_0 - 0.5)**2\n",
      "Evaluated energy expression with all w = 1: [ 2.5]\n"
     ]
    }
   ],
   "source": [
    "#\n",
    "# Now let's try out a vector\n",
    "#\n",
    "\n",
    "def add(A_expr, el):\n",
    "    if not isinstance(A_expr,sympy.Matrix):\n",
    "        A_square_expr = A_expr + el\n",
    "    else:\n",
    "        A_square_expr = sympy.Matrix.zeros(A_expr.rows,A_expr.cols)\n",
    "        for r in range(A_expr.rows):\n",
    "            for c in range(A_expr.cols):\n",
    "                A_square_expr[r,c] = A_expr[r,c] + el\n",
    "    return A_square_expr\n",
    "\n",
    "nsamples = 10\n",
    "# Construct a column vector of nsamples entries\n",
    "w, w_entries = sympyutils.construct_matrix_and_entries(\"w\", (nsamples, 1))\n",
    "\n",
    "# Construct an expression of this column vector\n",
    "energy = sympyutils.sum(sympyutils.square(add(w, -0.5)))\n",
    "print \"Energy expression is:\", energy\n",
    "\n",
    "# Create an anonymous function to evaluate this expression\n",
    "func_e = sympy.lambdify(w, energy)\n",
    "\n",
    "# Evaluate this expression with dummy data\n",
    "vals = np.zeros((nsamples, 1)) + 1\n",
    "print \"Evaluated energy expression with all w = 1:\", func_e(*vals)"
   ]
  },
  {
   "cell_type": "code",
   "execution_count": 135,
   "metadata": {
    "collapsed": false
   },
   "outputs": [
    {
     "data": {
      "text/latex": [
       "$$\\left[\\begin{matrix}2 w_{0 0} - 1.0\\\\2 w_{1 0} - 1.0\\\\2 w_{2 0} - 1.0\\\\2 w_{3 0} - 1.0\\\\2 w_{4 0} - 1.0\\\\2 w_{5 0} - 1.0\\\\2 w_{6 0} - 1.0\\\\2 w_{7 0} - 1.0\\\\2 w_{8 0} - 1.0\\\\2 w_{9 0} - 1.0\\end{matrix}\\right]$$"
      ],
      "text/plain": [
       "⎡2⋅w₀ ₀ - 1.0⎤\n",
       "⎢            ⎥\n",
       "⎢2⋅w₁ ₀ - 1.0⎥\n",
       "⎢            ⎥\n",
       "⎢2⋅w₂ ₀ - 1.0⎥\n",
       "⎢            ⎥\n",
       "⎢2⋅w₃ ₀ - 1.0⎥\n",
       "⎢            ⎥\n",
       "⎢2⋅w₄ ₀ - 1.0⎥\n",
       "⎢            ⎥\n",
       "⎢2⋅w₅ ₀ - 1.0⎥\n",
       "⎢            ⎥\n",
       "⎢2⋅w₆ ₀ - 1.0⎥\n",
       "⎢            ⎥\n",
       "⎢2⋅w₇ ₀ - 1.0⎥\n",
       "⎢            ⎥\n",
       "⎢2⋅w₈ ₀ - 1.0⎥\n",
       "⎢            ⎥\n",
       "⎣2⋅w₉ ₀ - 1.0⎦"
      ]
     },
     "execution_count": 135,
     "metadata": {},
     "output_type": "execute_result"
    }
   ],
   "source": [
    "#\n",
    "# Now let's try setting up a jacobian matrix\n",
    "#\n",
    "obj = sympy.Matrix.zeros(1,1)\n",
    "obj[0,0] = energy\n",
    "obj.jacobian(w).transpose()"
   ]
  },
  {
   "cell_type": "markdown",
   "metadata": {},
   "source": [
    "# Test 1: Get SymPy + Snopt running with (0,1) constraints on X"
   ]
  },
  {
   "cell_type": "code",
   "execution_count": 145,
   "metadata": {
    "collapsed": false
   },
   "outputs": [
    {
     "name": "stdout",
     "output_type": "stream",
     "text": [
      "  Could not determine Jacobian structure from user input\n",
      "  Calling snJac...\n"
     ]
    },
    {
     "data": {
      "text/plain": [
       "<matplotlib.text.Text at 0x113c1ef50>"
      ]
     },
     "execution_count": 145,
     "metadata": {},
     "output_type": "execute_result"
    },
    {
     "data": {
      "image/png": "[encoded data removed]",
      "text/plain": [
       "<matplotlib.figure.Figure at 0x112b5cf90>"
      ]
     },
     "metadata": {},
     "output_type": "display_data"
    }
   ],
   "source": [
    "#\n",
    "# Attempt to express Test 1 using SymPy to set up everything.\n",
    "#\n",
    "\n",
    "from optimize.snopt7 import SNOPT_solver\n",
    "import numpy as np\n",
    "\n",
    "inf = 1.0e20\n",
    "\n",
    "snopt = SNOPT_solver()\n",
    "snopt.setOption('Verbose',False)\n",
    "snopt.setOption('Solution print',True)\n",
    "snopt.setOption('Print file','blend_test1.out')\n",
    "\n",
    "nsamples = 50\n",
    "\n",
    "# 1. Set up decision variables\n",
    "x, x_entries = sympyutils.construct_matrix_and_entries(\"w\", (nsamples, 1))\n",
    "\n",
    "# 2. Set up the bounds on x\n",
    "low_x = np.array([0.0]*nsamples)\n",
    "upp_x = np.array([1.0]*nsamples)\n",
    "\n",
    "# 3. Set up the objective function\n",
    "energy = sympyutils.sum(sympyutils.square(add(x, -0.5)))\n",
    "func_e = sympy.lambdify(x, energy)\n",
    "\n",
    "def blend_test1_objF(status,x,needF,needG,cu,iu,ru):\n",
    "    obj = np.array([func_e(*x)])\n",
    "    return status, obj\n",
    "\n",
    "# 4. Set up bounds on F\n",
    "low_F    = np.array([ -inf])\n",
    "upp_F    = np.array([  inf])\n",
    "\n",
    "# 5. Lets set up an equality constraint on one of the centerpoints\n",
    "low_x[nsamples/2] = 1.0\n",
    "\n",
    "# We first solve the problem without providing derivative info\n",
    "snopt.snopta(name='blend_test1',x0=x0,xlow=low_x,xupp=upp_x,\n",
    "             Flow=low_F,Fupp=upp_F,ObjRow=1,\n",
    "             usrfun=blend_test1_objF)\n",
    "\n",
    "plt.plot(snopt.x)\n",
    "plt.ylim([0,1])\n",
    "plt.title(\"Resulting optimized X values\")"
   ]
  },
  {
   "cell_type": "markdown",
   "metadata": {},
   "source": [
    "# Test 2: Express C4 Continuity Constraints and a single simple obstacle\n",
    "\n",
    "## Subtest 1: Write out the full matrices..."
   ]
  },
  {
   "cell_type": "code",
   "execution_count": 167,
   "metadata": {
    "collapsed": false
   },
   "outputs": [],
   "source": [
    "\n",
    "nsamples = 50\n",
    "ndims = 6\n",
    "nvars = ndims * nsamples\n",
    "\n",
    "# Set up decision variables\n",
    "X = sympy.Matrix.zeros(nsamples, ndims)\n",
    "for r in range(nsamples):\n",
    "    for c in range(ndims):\n",
    "        X[r,c] = sympy.Symbol(\"w_%d,%d\" % (r, c))\n",
    "\n",
    "X0 = X.reshape(nvars,1)\n",
    "\n"
   ]
  },
  {
   "cell_type": "code",
   "execution_count": null,
   "metadata": {
    "collapsed": true
   },
   "outputs": [],
   "source": []
  }
 ],
 "metadata": {
  "kernelspec": {
   "display_name": "Python 2",
   "language": "python",
   "name": "python2"
  },
  "language_info": {
   "codemirror_mode": {
    "name": "ipython",
    "version": 2
   },
   "file_extension": ".py",
   "mimetype": "text/x-python",
   "name": "python",
   "nbconvert_exporter": "python",
   "pygments_lexer": "ipython2",
   "version": "2.7.6"
  }
 },
 "nbformat": 4,
 "nbformat_minor": 0
}
